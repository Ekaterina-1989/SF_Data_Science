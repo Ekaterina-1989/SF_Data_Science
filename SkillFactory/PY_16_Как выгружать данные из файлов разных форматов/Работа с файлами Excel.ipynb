{
 "cells": [
  {
   "cell_type": "markdown",
   "metadata": {},
   "source": [
    "#### **<center> Немного об EXCEL </center>**"
   ]
  },
  {
   "cell_type": "markdown",
   "metadata": {},
   "source": [
    "→ Excel-файлы представляют из себя таблицы с данными и имеют формат **XLS** или  **XLSX.** В отличие от **CSV-файлов,** которые также позволяют удобно представлять табличные данные, **XLS-** и **XLSX-файлы** могут помимо данных включать формулы, изображения, графики и содержат информацию о форматировании.\n",
    "\n",
    "Файл **Excel** называется рабочей книгой. Каждая книга может хранить некоторое количество листов. Лист, просматриваемый пользователем в данный момент, называется **активным.** Лист состоит из столбцов (адресуемых, как правило, с помощью букв, начиная с A) и строк (адресуемых с помощью цифр, начиная с 1). Лист может содержать данные в виде таблиц, формул, изображений, графиков и информации о форматировании.\n",
    "\n",
    "**XLS-** и **XLSX** не являются текстовыми файлами. Вы наверняка хотя бы раз в жизни сталкивались с таблицами **Excel,** и, скорее всего, работали с ними в **Microsoft Office,** **Open Office** (бесплатный аналог Microsoft Office) или онлайн, используя **Google Таблицы.** Давайте научимся делать это с помощью **pandas**.\n",
    "\n",
    "В этом разделе будут рассмотрены функции **read_excel()** и **to_excel()** из библиотеки **pandas.** С их помощью можно считывать данные из файлов **Excel** и выполнять запись в них. С помощью различных параметров есть возможность менять поведение функций, создавая нужные файлы, а не просто копируя содержимое из объекта *DataFrame*."
   ]
  },
  {
   "cell_type": "markdown",
   "metadata": {},
   "source": [
    "#### **<center> Считывание данных из файла EXCEL </center>**"
   ]
  },
  {
   "cell_type": "markdown",
   "metadata": {},
   "source": [
    "Подобно уже хорошо нам известной функции ***read_csv(),*** в **pandas** предусмотрена функция для удобного чтения **XLS-** и **XLSX- файлов:** ***read_excel()*** (англ. читать_Excel). Синтаксис обеих функций практически идентичен.\n",
    "\n",
    "Попробуем прочитать наш файл-пример. Для этого передадим в ***read_excel()*** путь к нему. Чтобы его открыть и сохранить данные в переменную ***grades,*** необходимо выполнить следующий код:"
   ]
  },
  {
   "cell_type": "code",
   "execution_count": 1,
   "metadata": {},
   "outputs": [
    {
     "data": {
      "text/html": [
       "<div>\n",
       "<style scoped>\n",
       "    .dataframe tbody tr th:only-of-type {\n",
       "        vertical-align: middle;\n",
       "    }\n",
       "\n",
       "    .dataframe tbody tr th {\n",
       "        vertical-align: top;\n",
       "    }\n",
       "\n",
       "    .dataframe thead th {\n",
       "        text-align: right;\n",
       "    }\n",
       "</style>\n",
       "<table border=\"1\" class=\"dataframe\">\n",
       "  <thead>\n",
       "    <tr style=\"text-align: right;\">\n",
       "      <th></th>\n",
       "      <th>Student ID</th>\n",
       "      <th>Student name</th>\n",
       "      <th>Grade</th>\n",
       "    </tr>\n",
       "  </thead>\n",
       "  <tbody>\n",
       "    <tr>\n",
       "      <th>0</th>\n",
       "      <td>1</td>\n",
       "      <td>Аня</td>\n",
       "      <td>8</td>\n",
       "    </tr>\n",
       "    <tr>\n",
       "      <th>1</th>\n",
       "      <td>2</td>\n",
       "      <td>Катя</td>\n",
       "      <td>9</td>\n",
       "    </tr>\n",
       "    <tr>\n",
       "      <th>2</th>\n",
       "      <td>3</td>\n",
       "      <td>Маша</td>\n",
       "      <td>7</td>\n",
       "    </tr>\n",
       "    <tr>\n",
       "      <th>3</th>\n",
       "      <td>4</td>\n",
       "      <td>Миша</td>\n",
       "      <td>4</td>\n",
       "    </tr>\n",
       "    <tr>\n",
       "      <th>4</th>\n",
       "      <td>5</td>\n",
       "      <td>Женя</td>\n",
       "      <td>8</td>\n",
       "    </tr>\n",
       "  </tbody>\n",
       "</table>\n",
       "</div>"
      ],
      "text/plain": [
       "   Student ID Student name  Grade\n",
       "0           1          Аня      8\n",
       "1           2         Катя      9\n",
       "2           3         Маша      7\n",
       "3           4         Миша      4\n",
       "4           5         Женя      8"
      ]
     },
     "metadata": {},
     "output_type": "display_data"
    }
   ],
   "source": [
    "import pandas as pd\n",
    "\n",
    "grades = pd.read_excel('data/grades.xlsx')\n",
    "display(grades.head())"
   ]
  },
  {
   "cell_type": "markdown",
   "metadata": {},
   "source": [
    "Так же, как и ***read_csv(),*** функция ***read_excel()*** может принимать на вход не только путь к файлу на компьютере, но и интернет-ссылку на него."
   ]
  },
  {
   "cell_type": "markdown",
   "metadata": {},
   "source": [
    "#### **<center> Считывание данных из файла EXCEL по ссылке </center>**"
   ]
  },
  {
   "cell_type": "markdown",
   "metadata": {},
   "source": [
    "Если файл находится в открытом доступе по ссылке *(например, на Google Диске или GitHub),* его можно прочитать и из интернета - для этого достаточно в функции ***read_excel()*** вместо пути до файла указать ссылку на файл. Например:"
   ]
  },
  {
   "cell_type": "code",
   "execution_count": 18,
   "metadata": {},
   "outputs": [
    {
     "data": {
      "text/html": [
       "<div>\n",
       "<style scoped>\n",
       "    .dataframe tbody tr th:only-of-type {\n",
       "        vertical-align: middle;\n",
       "    }\n",
       "\n",
       "    .dataframe tbody tr th {\n",
       "        vertical-align: top;\n",
       "    }\n",
       "\n",
       "    .dataframe thead th {\n",
       "        text-align: right;\n",
       "    }\n",
       "</style>\n",
       "<table border=\"1\" class=\"dataframe\">\n",
       "  <thead>\n",
       "    <tr style=\"text-align: right;\">\n",
       "      <th></th>\n",
       "      <th>Location</th>\n",
       "      <th>Oranges</th>\n",
       "      <th>Apples</th>\n",
       "      <th>Bananas</th>\n",
       "      <th>Blueberries</th>\n",
       "      <th>Total</th>\n",
       "    </tr>\n",
       "  </thead>\n",
       "  <tbody>\n",
       "    <tr>\n",
       "      <th>0</th>\n",
       "      <td>Toronto</td>\n",
       "      <td>7651</td>\n",
       "      <td>4422</td>\n",
       "      <td>8580</td>\n",
       "      <td>3679</td>\n",
       "      <td>24332</td>\n",
       "    </tr>\n",
       "    <tr>\n",
       "      <th>1</th>\n",
       "      <td>Los Angeles</td>\n",
       "      <td>273</td>\n",
       "      <td>2998</td>\n",
       "      <td>9890</td>\n",
       "      <td>7293</td>\n",
       "      <td>20454</td>\n",
       "    </tr>\n",
       "    <tr>\n",
       "      <th>2</th>\n",
       "      <td>Atlanta</td>\n",
       "      <td>3758</td>\n",
       "      <td>6752</td>\n",
       "      <td>4599</td>\n",
       "      <td>4149</td>\n",
       "      <td>19258</td>\n",
       "    </tr>\n",
       "    <tr>\n",
       "      <th>3</th>\n",
       "      <td>New York</td>\n",
       "      <td>4019</td>\n",
       "      <td>8796</td>\n",
       "      <td>8486</td>\n",
       "      <td>9188</td>\n",
       "      <td>30489</td>\n",
       "    </tr>\n",
       "  </tbody>\n",
       "</table>\n",
       "</div>"
      ],
      "text/plain": [
       "      Location  Oranges  Apples  Bananas  Blueberries  Total\n",
       "0      Toronto     7651    4422     8580         3679  24332\n",
       "1  Los Angeles      273    2998     9890         7293  20454\n",
       "2      Atlanta     3758    6752     4599         4149  19258\n",
       "3     New York     4019    8796     8486         9188  30489"
      ]
     },
     "metadata": {},
     "output_type": "display_data"
    }
   ],
   "source": [
    "data = pd.read_excel('https://github.com/asaydn/test/raw/master/january.xlsx', skiprows=3)\n",
    "display(data)"
   ]
  },
  {
   "cell_type": "markdown",
   "metadata": {},
   "source": [
    "#### **<center> Основные параметры метода read_excel() </center>**"
   ]
  },
  {
   "cell_type": "markdown",
   "metadata": {},
   "source": [
    "* **io** - первый параметр, в который мы передаём адрес файла, который хотим прочитать. Кроме адреса на диске, можно передавать адрес в интернете.\n",
    "\n",
    "* **sheet_name** -  ссылка на лист в Excel-файле (возможные значения данного параметра: **0 -** значение по умолчанию, загружается первый лист; **'Sheet1' -** можно передать название листа; обычно листы называются **'SheetX',** где **X -** номер листа, но могут использоваться и другие названия; **[0, 1, 'Sheet3']** - список, содержащий номера или названия листов; в таком случае **Pandas** вернёт словарь, в котором ключами будут номера или названия листов, а значениями - их содержимое в виде *DataFrame*; **None** - если передать такое значение, то **Pandas** прочитает все листы и вернёт их в виде словаря, как в предыдущем пункте).\n",
    "\n",
    "* **na_values** - список значений, которые будут считаться пропусками **( ‘’, ‘#N/A’, ‘ N/A’, ‘#NA’, ‘-1.#IND’, ‘-1.#QNAN’, ‘-NaN’, ‘-nan’, ‘1.#IND’, ‘1.#QNAN’, ‘NA’, ‘NULL’, ‘NaN’, ‘n/a’, ‘nan’, ‘null’).**"
   ]
  },
  {
   "cell_type": "markdown",
   "metadata": {},
   "source": [
    "Следует также учесть, что нормальное поведение **Pandas -** это считывание значений (формулы из Excel-файла не считываются).\n",
    "\n",
    "Как упоминалось выше, один Excel-файл может включать в себя несколько листов, которые отображаются в разных вкладках (англ. sheet, рус. лист). Например, в нашем файле два листа - **Maths** и **ML**.\n",
    "\n",
    "По умолчанию в *DataFrame* читается информация из первого листа, однако ***read_excel()***  позволяет выбрать, из какого именно листа загружать данные. Сделать это можно с помощью параметра ***sheet_name*** (рус. имя_листа). Например, чтобы прочесть данные из второго листа **(ML)** файла, выполним код:"
   ]
  },
  {
   "cell_type": "code",
   "execution_count": 19,
   "metadata": {},
   "outputs": [
    {
     "data": {
      "text/html": [
       "<div>\n",
       "<style scoped>\n",
       "    .dataframe tbody tr th:only-of-type {\n",
       "        vertical-align: middle;\n",
       "    }\n",
       "\n",
       "    .dataframe tbody tr th {\n",
       "        vertical-align: top;\n",
       "    }\n",
       "\n",
       "    .dataframe thead th {\n",
       "        text-align: right;\n",
       "    }\n",
       "</style>\n",
       "<table border=\"1\" class=\"dataframe\">\n",
       "  <thead>\n",
       "    <tr style=\"text-align: right;\">\n",
       "      <th></th>\n",
       "      <th>Student ID</th>\n",
       "      <th>Student name</th>\n",
       "      <th>Grade</th>\n",
       "    </tr>\n",
       "  </thead>\n",
       "  <tbody>\n",
       "    <tr>\n",
       "      <th>0</th>\n",
       "      <td>1</td>\n",
       "      <td>Аня</td>\n",
       "      <td>7</td>\n",
       "    </tr>\n",
       "    <tr>\n",
       "      <th>1</th>\n",
       "      <td>2</td>\n",
       "      <td>Катя</td>\n",
       "      <td>5</td>\n",
       "    </tr>\n",
       "    <tr>\n",
       "      <th>2</th>\n",
       "      <td>3</td>\n",
       "      <td>Маша</td>\n",
       "      <td>9</td>\n",
       "    </tr>\n",
       "    <tr>\n",
       "      <th>3</th>\n",
       "      <td>4</td>\n",
       "      <td>Миша</td>\n",
       "      <td>8</td>\n",
       "    </tr>\n",
       "    <tr>\n",
       "      <th>4</th>\n",
       "      <td>5</td>\n",
       "      <td>Женя</td>\n",
       "      <td>9</td>\n",
       "    </tr>\n",
       "  </tbody>\n",
       "</table>\n",
       "</div>"
      ],
      "text/plain": [
       "   Student ID Student name  Grade\n",
       "0           1          Аня      7\n",
       "1           2         Катя      5\n",
       "2           3         Маша      9\n",
       "3           4         Миша      8\n",
       "4           5         Женя      9"
      ]
     },
     "metadata": {},
     "output_type": "display_data"
    }
   ],
   "source": [
    "grades = pd.read_excel('data/grades.xlsx', sheet_name='ML')\n",
    "display(grades.head())"
   ]
  },
  {
   "cell_type": "markdown",
   "metadata": {},
   "source": [
    "#### **<center> Выгрузка данных из DATAFRAME в EXCEL-файл </center>**"
   ]
  },
  {
   "cell_type": "markdown",
   "metadata": {},
   "source": [
    "После обработки данных (очистка, создание новых признаков и т. д.) методами и функциями **Pandas** мы сталкиваемся с обратной задачей - сохранить данные *из DataFrame в Excel-файл.*\n",
    "\n",
    "Для этого в pandas есть функция ***to_excel()*** (рус. в_Excel), принцип работы которой очень схож с функцией ***to_csv():***"
   ]
  },
  {
   "cell_type": "code",
   "execution_count": 20,
   "metadata": {},
   "outputs": [],
   "source": [
    "# Сохраняем данные из DataFrame grades в файл grades_new.xlsx в папке data\n",
    "grades.to_excel('data/grades_new.xlsx')"
   ]
  },
  {
   "cell_type": "markdown",
   "metadata": {},
   "source": [
    "В этом случае будет создан один лист с именем по умолчанию **\"Sheet1\".** Также мы сохраним и индекс - в данных будет находиться лишний столбец. Чтобы создать лист с определённым именем (например, **Example**) и не сохранять индекс, в метод **to_excel()** необходимо передать параметры **sheet_name='Example' и index=False:**"
   ]
  },
  {
   "cell_type": "code",
   "execution_count": 21,
   "metadata": {},
   "outputs": [],
   "source": [
    "# Сохраняем данные из DataFrame grades в файл grades_new.xlsx (на листе 'Example') в папке data\n",
    "grades.to_excel('data/grades_new.xlsx', sheet_name='Example', index=False)"
   ]
  },
  {
   "cell_type": "markdown",
   "metadata": {},
   "source": [
    "Продвинутая работа с файлами **Excel** в **Python** предполагает использование дополнительных библиотек, таких как:\n",
    "\n",
    "* **openpyxl -** рекомендуемый пакет для чтения и записи файлов *Excel 2010+ (например, xlsx)*;\n",
    "\n",
    "* **xlsxwriter -** альтернативный пакет для записи данных, информации о форматировании и, в частности, диаграмм в формате *Excel 2010+ (например, xlsx)*;\n",
    "\n",
    "* **pyxlsb -** пакет позволяет читать файлы *Excel в xlsb-формате*;\n",
    "\n",
    "* **pylightxl -** пакет позволяет читать *xlsx- и xlsm-файлы* и записывать *xlsx-файлы*;\n",
    "\n",
    "* **xlrd -** пакет предназначен для чтения данных и информации о форматировании из старых файлов *Excel (например, xls)*;\n",
    "\n",
    "* **xlwt -** пакет предназначен для записи данных и информации о форматировании в старые файлы *Excel (например, xls)*."
   ]
  },
  {
   "cell_type": "markdown",
   "metadata": {},
   "source": [
    "**Задание**\n",
    "\n",
    "Считайте данные из двух листов файла **ratings+movies.xlsx** в разные *DataFrame,* объедините в один, запишите данные из полученного *DataFrame* в файл. Сколько строк (включая строку заголовков) в результирующем файле?"
   ]
  },
  {
   "cell_type": "code",
   "execution_count": 29,
   "metadata": {},
   "outputs": [],
   "source": [
    "ratings = pd.read_excel('data/ratings_movies.xlsx', sheet_name='ratings')         \n",
    "movies = pd.read_excel('data/ratings_movies.xlsx', sheet_name='movies')         \n",
    "joined = ratings.merge(movies, on='movieId', how='left') #Объединяем таблицу по столбцу movieId        \n",
    "joined.to_excel('data/joined.xlsx', sheet_name='JOINED', index=False) #Записываем получившуюся таблицу"
   ]
  },
  {
   "cell_type": "code",
   "execution_count": 30,
   "metadata": {},
   "outputs": [
    {
     "name": "stdout",
     "output_type": "stream",
     "text": [
      "<class 'pandas.core.frame.DataFrame'>\n",
      "RangeIndex: 100836 entries, 0 to 100835\n",
      "Data columns (total 6 columns):\n",
      " #   Column     Non-Null Count   Dtype  \n",
      "---  ------     --------------   -----  \n",
      " 0   userId     100836 non-null  int64  \n",
      " 1   movieId    100836 non-null  int64  \n",
      " 2   rating     100836 non-null  float64\n",
      " 3   timestamp  100836 non-null  int64  \n",
      " 4   title      100836 non-null  object \n",
      " 5   genres     100836 non-null  object \n",
      "dtypes: float64(1), int64(3), object(2)\n",
      "memory usage: 4.6+ MB\n"
     ]
    }
   ],
   "source": [
    "joined.info()"
   ]
  }
 ],
 "metadata": {
  "kernelspec": {
   "display_name": "base",
   "language": "python",
   "name": "python3"
  },
  "language_info": {
   "codemirror_mode": {
    "name": "ipython",
    "version": 3
   },
   "file_extension": ".py",
   "mimetype": "text/x-python",
   "name": "python",
   "nbconvert_exporter": "python",
   "pygments_lexer": "ipython3",
   "version": "3.10.9"
  }
 },
 "nbformat": 4,
 "nbformat_minor": 2
}
