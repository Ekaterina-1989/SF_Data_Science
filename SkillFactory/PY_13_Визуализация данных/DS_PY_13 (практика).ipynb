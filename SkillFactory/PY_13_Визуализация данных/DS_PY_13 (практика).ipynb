{
 "cells": [
  {
   "cell_type": "markdown",
   "metadata": {},
   "source": [
    "#### **ПРАКТИКА**"
   ]
  },
  {
   "cell_type": "code",
   "execution_count": 61,
   "metadata": {},
   "outputs": [],
   "source": [
    "import matplotlib.pyplot as plt\n",
    "import seaborn as sns\n",
    "import plotly\n",
    "import plotly.graph_objs as go\n",
    "import plotly.express as px\n",
    "from plotly.subplots import make_subplots\n",
    "import numpy as np\n",
    "import pandas as pd"
   ]
  },
  {
   "cell_type": "code",
   "execution_count": 62,
   "metadata": {},
   "outputs": [
    {
     "data": {
      "text/html": [
       "<div>\n",
       "<style scoped>\n",
       "    .dataframe tbody tr th:only-of-type {\n",
       "        vertical-align: middle;\n",
       "    }\n",
       "\n",
       "    .dataframe tbody tr th {\n",
       "        vertical-align: top;\n",
       "    }\n",
       "\n",
       "    .dataframe thead th {\n",
       "        text-align: right;\n",
       "    }\n",
       "</style>\n",
       "<table border=\"1\" class=\"dataframe\">\n",
       "  <thead>\n",
       "    <tr style=\"text-align: right;\">\n",
       "      <th></th>\n",
       "      <th>RowNumber</th>\n",
       "      <th>CustomerId</th>\n",
       "      <th>Surname</th>\n",
       "      <th>CreditScore</th>\n",
       "      <th>Geography</th>\n",
       "      <th>Gender</th>\n",
       "      <th>Age</th>\n",
       "      <th>Tenure</th>\n",
       "      <th>Balance</th>\n",
       "      <th>NumOfProducts</th>\n",
       "      <th>HasCrCard</th>\n",
       "      <th>IsActiveMember</th>\n",
       "      <th>EstimatedSalary</th>\n",
       "      <th>Exited</th>\n",
       "    </tr>\n",
       "  </thead>\n",
       "  <tbody>\n",
       "    <tr>\n",
       "      <th>0</th>\n",
       "      <td>1</td>\n",
       "      <td>15634602</td>\n",
       "      <td>Hargrave</td>\n",
       "      <td>619</td>\n",
       "      <td>France</td>\n",
       "      <td>Female</td>\n",
       "      <td>42</td>\n",
       "      <td>2</td>\n",
       "      <td>0.00</td>\n",
       "      <td>1</td>\n",
       "      <td>1</td>\n",
       "      <td>1</td>\n",
       "      <td>101348.88</td>\n",
       "      <td>1</td>\n",
       "    </tr>\n",
       "    <tr>\n",
       "      <th>1</th>\n",
       "      <td>2</td>\n",
       "      <td>15647311</td>\n",
       "      <td>Hill</td>\n",
       "      <td>608</td>\n",
       "      <td>Spain</td>\n",
       "      <td>Female</td>\n",
       "      <td>41</td>\n",
       "      <td>1</td>\n",
       "      <td>83807.86</td>\n",
       "      <td>1</td>\n",
       "      <td>0</td>\n",
       "      <td>1</td>\n",
       "      <td>112542.58</td>\n",
       "      <td>0</td>\n",
       "    </tr>\n",
       "    <tr>\n",
       "      <th>2</th>\n",
       "      <td>3</td>\n",
       "      <td>15619304</td>\n",
       "      <td>Onio</td>\n",
       "      <td>502</td>\n",
       "      <td>France</td>\n",
       "      <td>Female</td>\n",
       "      <td>42</td>\n",
       "      <td>8</td>\n",
       "      <td>159660.80</td>\n",
       "      <td>3</td>\n",
       "      <td>1</td>\n",
       "      <td>0</td>\n",
       "      <td>113931.57</td>\n",
       "      <td>1</td>\n",
       "    </tr>\n",
       "    <tr>\n",
       "      <th>3</th>\n",
       "      <td>4</td>\n",
       "      <td>15701354</td>\n",
       "      <td>Boni</td>\n",
       "      <td>699</td>\n",
       "      <td>France</td>\n",
       "      <td>Female</td>\n",
       "      <td>39</td>\n",
       "      <td>1</td>\n",
       "      <td>0.00</td>\n",
       "      <td>2</td>\n",
       "      <td>0</td>\n",
       "      <td>0</td>\n",
       "      <td>93826.63</td>\n",
       "      <td>0</td>\n",
       "    </tr>\n",
       "    <tr>\n",
       "      <th>4</th>\n",
       "      <td>5</td>\n",
       "      <td>15737888</td>\n",
       "      <td>Mitchell</td>\n",
       "      <td>850</td>\n",
       "      <td>Spain</td>\n",
       "      <td>Female</td>\n",
       "      <td>43</td>\n",
       "      <td>2</td>\n",
       "      <td>125510.82</td>\n",
       "      <td>1</td>\n",
       "      <td>1</td>\n",
       "      <td>1</td>\n",
       "      <td>79084.10</td>\n",
       "      <td>0</td>\n",
       "    </tr>\n",
       "  </tbody>\n",
       "</table>\n",
       "</div>"
      ],
      "text/plain": [
       "   RowNumber  CustomerId   Surname  CreditScore Geography  Gender  Age  \\\n",
       "0          1    15634602  Hargrave          619    France  Female   42   \n",
       "1          2    15647311      Hill          608     Spain  Female   41   \n",
       "2          3    15619304      Onio          502    France  Female   42   \n",
       "3          4    15701354      Boni          699    France  Female   39   \n",
       "4          5    15737888  Mitchell          850     Spain  Female   43   \n",
       "\n",
       "   Tenure    Balance  NumOfProducts  HasCrCard  IsActiveMember  \\\n",
       "0       2       0.00              1          1               1   \n",
       "1       1   83807.86              1          0               1   \n",
       "2       8  159660.80              3          1               0   \n",
       "3       1       0.00              2          0               0   \n",
       "4       2  125510.82              1          1               1   \n",
       "\n",
       "   EstimatedSalary  Exited  \n",
       "0        101348.88       1  \n",
       "1        112542.58       0  \n",
       "2        113931.57       1  \n",
       "3         93826.63       0  \n",
       "4         79084.10       0  "
      ]
     },
     "execution_count": 62,
     "metadata": {},
     "output_type": "execute_result"
    }
   ],
   "source": [
    "churn_data = pd.read_csv('data/churn.csv')\n",
    "churn_data.head()"
   ]
  },
  {
   "cell_type": "markdown",
   "metadata": {},
   "source": [
    "<img src=\"images/практика/столбцы_таблицы.png\">"
   ]
  },
  {
   "cell_type": "code",
   "execution_count": 63,
   "metadata": {},
   "outputs": [
    {
     "name": "stdout",
     "output_type": "stream",
     "text": [
      "<class 'pandas.core.frame.DataFrame'>\n",
      "RangeIndex: 10000 entries, 0 to 9999\n",
      "Data columns (total 14 columns):\n",
      " #   Column           Non-Null Count  Dtype  \n",
      "---  ------           --------------  -----  \n",
      " 0   RowNumber        10000 non-null  int64  \n",
      " 1   CustomerId       10000 non-null  int64  \n",
      " 2   Surname          10000 non-null  object \n",
      " 3   CreditScore      10000 non-null  int64  \n",
      " 4   Geography        10000 non-null  object \n",
      " 5   Gender           10000 non-null  object \n",
      " 6   Age              10000 non-null  int64  \n",
      " 7   Tenure           10000 non-null  int64  \n",
      " 8   Balance          10000 non-null  float64\n",
      " 9   NumOfProducts    10000 non-null  int64  \n",
      " 10  HasCrCard        10000 non-null  int64  \n",
      " 11  IsActiveMember   10000 non-null  int64  \n",
      " 12  EstimatedSalary  10000 non-null  float64\n",
      " 13  Exited           10000 non-null  int64  \n",
      "dtypes: float64(2), int64(9), object(3)\n",
      "memory usage: 1.1+ MB\n"
     ]
    }
   ],
   "source": [
    "churn_data.info()"
   ]
  },
  {
   "cell_type": "code",
   "execution_count": 64,
   "metadata": {},
   "outputs": [
    {
     "data": {
      "text/html": [
       "<div>\n",
       "<style scoped>\n",
       "    .dataframe tbody tr th:only-of-type {\n",
       "        vertical-align: middle;\n",
       "    }\n",
       "\n",
       "    .dataframe tbody tr th {\n",
       "        vertical-align: top;\n",
       "    }\n",
       "\n",
       "    .dataframe thead th {\n",
       "        text-align: right;\n",
       "    }\n",
       "</style>\n",
       "<table border=\"1\" class=\"dataframe\">\n",
       "  <thead>\n",
       "    <tr style=\"text-align: right;\">\n",
       "      <th></th>\n",
       "      <th>CustomerId</th>\n",
       "      <th>Surname</th>\n",
       "      <th>CreditScore</th>\n",
       "      <th>Geography</th>\n",
       "      <th>Gender</th>\n",
       "      <th>Age</th>\n",
       "      <th>Tenure</th>\n",
       "      <th>Balance</th>\n",
       "      <th>NumOfProducts</th>\n",
       "      <th>HasCrCard</th>\n",
       "      <th>IsActiveMember</th>\n",
       "      <th>EstimatedSalary</th>\n",
       "      <th>Exited</th>\n",
       "    </tr>\n",
       "  </thead>\n",
       "  <tbody>\n",
       "    <tr>\n",
       "      <th>0</th>\n",
       "      <td>15634602</td>\n",
       "      <td>Hargrave</td>\n",
       "      <td>619</td>\n",
       "      <td>France</td>\n",
       "      <td>Female</td>\n",
       "      <td>42</td>\n",
       "      <td>2</td>\n",
       "      <td>0.00</td>\n",
       "      <td>1</td>\n",
       "      <td>1</td>\n",
       "      <td>1</td>\n",
       "      <td>101348.88</td>\n",
       "      <td>1</td>\n",
       "    </tr>\n",
       "    <tr>\n",
       "      <th>1</th>\n",
       "      <td>15647311</td>\n",
       "      <td>Hill</td>\n",
       "      <td>608</td>\n",
       "      <td>Spain</td>\n",
       "      <td>Female</td>\n",
       "      <td>41</td>\n",
       "      <td>1</td>\n",
       "      <td>83807.86</td>\n",
       "      <td>1</td>\n",
       "      <td>0</td>\n",
       "      <td>1</td>\n",
       "      <td>112542.58</td>\n",
       "      <td>0</td>\n",
       "    </tr>\n",
       "    <tr>\n",
       "      <th>2</th>\n",
       "      <td>15619304</td>\n",
       "      <td>Onio</td>\n",
       "      <td>502</td>\n",
       "      <td>France</td>\n",
       "      <td>Female</td>\n",
       "      <td>42</td>\n",
       "      <td>8</td>\n",
       "      <td>159660.80</td>\n",
       "      <td>3</td>\n",
       "      <td>1</td>\n",
       "      <td>0</td>\n",
       "      <td>113931.57</td>\n",
       "      <td>1</td>\n",
       "    </tr>\n",
       "    <tr>\n",
       "      <th>3</th>\n",
       "      <td>15701354</td>\n",
       "      <td>Boni</td>\n",
       "      <td>699</td>\n",
       "      <td>France</td>\n",
       "      <td>Female</td>\n",
       "      <td>39</td>\n",
       "      <td>1</td>\n",
       "      <td>0.00</td>\n",
       "      <td>2</td>\n",
       "      <td>0</td>\n",
       "      <td>0</td>\n",
       "      <td>93826.63</td>\n",
       "      <td>0</td>\n",
       "    </tr>\n",
       "    <tr>\n",
       "      <th>4</th>\n",
       "      <td>15737888</td>\n",
       "      <td>Mitchell</td>\n",
       "      <td>850</td>\n",
       "      <td>Spain</td>\n",
       "      <td>Female</td>\n",
       "      <td>43</td>\n",
       "      <td>2</td>\n",
       "      <td>125510.82</td>\n",
       "      <td>1</td>\n",
       "      <td>1</td>\n",
       "      <td>1</td>\n",
       "      <td>79084.10</td>\n",
       "      <td>0</td>\n",
       "    </tr>\n",
       "  </tbody>\n",
       "</table>\n",
       "</div>"
      ],
      "text/plain": [
       "   CustomerId   Surname  CreditScore Geography  Gender  Age  Tenure  \\\n",
       "0    15634602  Hargrave          619    France  Female   42       2   \n",
       "1    15647311      Hill          608     Spain  Female   41       1   \n",
       "2    15619304      Onio          502    France  Female   42       8   \n",
       "3    15701354      Boni          699    France  Female   39       1   \n",
       "4    15737888  Mitchell          850     Spain  Female   43       2   \n",
       "\n",
       "     Balance  NumOfProducts  HasCrCard  IsActiveMember  EstimatedSalary  \\\n",
       "0       0.00              1          1               1        101348.88   \n",
       "1   83807.86              1          0               1        112542.58   \n",
       "2  159660.80              3          1               0        113931.57   \n",
       "3       0.00              2          0               0         93826.63   \n",
       "4  125510.82              1          1               1         79084.10   \n",
       "\n",
       "   Exited  \n",
       "0       1  \n",
       "1       0  \n",
       "2       1  \n",
       "3       0  \n",
       "4       0  "
      ]
     },
     "execution_count": 64,
     "metadata": {},
     "output_type": "execute_result"
    }
   ],
   "source": [
    "churn_data = churn_data.drop('RowNumber', axis=1)\n",
    "churn_data_1 = churn_data.copy()\n",
    "churn_data_1.head()"
   ]
  },
  {
   "cell_type": "markdown",
   "metadata": {},
   "source": [
    "**ЗАДАНИЯ**"
   ]
  },
  {
   "cell_type": "markdown",
   "metadata": {},
   "source": [
    "**9.1.** *Каково соотношение ушедших и лояльных клиентов? Покажите это на графике и дайте комментарий по соотношению.*"
   ]
  },
  {
   "cell_type": "code",
   "execution_count": 65,
   "metadata": {},
   "outputs": [
    {
     "data": {
      "text/plain": [
       "<matplotlib.legend.Legend at 0x264ad36e9e0>"
      ]
     },
     "execution_count": 65,
     "metadata": {},
     "output_type": "execute_result"
    },
    {
     "data": {
      "image/png": "[encoded data removed]",
      "text/plain": [
       "<Figure size 600x600 with 1 Axes>"
      ]
     },
     "metadata": {},
     "output_type": "display_data"
    }
   ],
   "source": [
    "customers = churn_data_1['Exited'].value_counts()\n",
    "fig = plt.figure(figsize=(6, 6))\n",
    "axes = fig.add_axes([0, 0, 1, 1])\n",
    "axes.set_title('Соотношение ушедших и лояльных клиентов', fontsize=20)\n",
    "axes.pie(\n",
    "    customers,\n",
    "    labels=customers.index,\n",
    "    autopct='%.1f%%',\n",
    "    explode=[0.1, 0],\n",
    "    colors=['green', 'red'],\n",
    "    shadow=True\n",
    ");\n",
    "classes = ['Лояльные', 'Ушедшие']\n",
    "axes.legend(labels=classes, fontsize=15, loc=(0.8, 0.8))"
   ]
  },
  {
   "cell_type": "markdown",
   "metadata": {},
   "source": [
    "**ВЫВОД:** *Обратя внимание, на данную круговую диаграмму, можно заметить соотношение ушедших и лояльных клиентов, а именно: доля лояльных клиентов составляет 79,6%, а доля ушедших - 20,4% от общего числа клиентов банка, что является достаточным большим процентом оттока клиентов банка. Причинами сложившейся ситуации, например, могут являться проблемы качества обслуживания ушедших клиентов или неудовлетворенность клиентов услугами банка и т.д.*"
   ]
  },
  {
   "cell_type": "markdown",
   "metadata": {},
   "source": [
    "**9.2.** *Постройте график, показывающий распределение баланса пользователей, у которых на счету больше 2 500 долларов. Опишите распределение и сделайте выводы.*"
   ]
  },
  {
   "cell_type": "code",
   "execution_count": null,
   "metadata": {},
   "outputs": [],
   "source": [
    "balance_distribution = churn_data_1[churn_data_1['Balance'] > 2500] #фильтруем датафрейм\n",
    "\n",
    "#строим гистограмму\n",
    "fig = px.histogram(\n",
    "    data_frame=balance_distribution, #датафрейм\n",
    "    x='Balance', #ось абсцисс\n",
    "    height=600, #высота\n",
    "    width=850, #ширина\n",
    "    title='Распределение баланса пользователей, у которых на счету больше 2 500 долларов', #заголовок\n",
    "    nbins=30, #количество ячеек\n",
    "    color_discrete_sequence=['blue']\n",
    ")\n",
    "\n",
    "#применим метод .update_layout к объекту fig\n",
    "fig.update_layout(\n",
    "    xaxis_title='Баланс на счету клиента, $', \n",
    "    yaxis_title='Колличество клиентов, чел.'\n",
    ")\n",
    "\n",
    "#отображаем гистограмму\n",
    "fig.show()"
   ]
  },
  {
   "cell_type": "markdown",
   "metadata": {},
   "source": [
    "<img src=\"images/практика/histogram_1.png\">"
   ]
  },
  {
   "cell_type": "markdown",
   "metadata": {},
   "source": [
    "**ВЫВОД:** *На основании данной гистограммы, можно сделать вывод, что наибольшее количество пользователей имеют баланс от 100 до 150 тыс. долларов.*"
   ]
  },
  {
   "cell_type": "markdown",
   "metadata": {},
   "source": [
    "**9.3.** *Посмотрите на распределение баланса клиента в разрезе признака оттока. Как различаются суммы на накопительном счёте ушедших и лояльных клиентов? Подумайте и напишите, с чем это может быть связано, что может не устраивать ушедших клиентов в банке.*"
   ]
  },
  {
   "cell_type": "code",
   "execution_count": null,
   "metadata": {},
   "outputs": [],
   "source": [
    "#строим гистограмму\n",
    "fig = px.histogram(\n",
    "    data_frame=churn_data_1, #датафрейм\n",
    "    x='Balance', #ось абсцисс\n",
    "    histfunc='count', #ось ординат\n",
    "    color='Exited', #расцветка в зависимости от статуса лояльности\n",
    "    color_discrete_sequence=['red', 'green'],\n",
    "    height=600, #высота\n",
    "    width=700, #ширина\n",
    "    title='Распределение баланса клиентов: 1 - ушедшие, 0 - лояльные', #заголовок\n",
    "    nbins=20 #количество ячеек\n",
    ")\n",
    "\n",
    "#добавляем метки осей\n",
    "fig.update_xaxes(title_text='Баланс на счету клиента, $')\n",
    "fig.update_yaxes(title_text='Количество клиентов, чел.')\n",
    "\n",
    "#отображаем гистограмму\n",
    "fig.show()"
   ]
  },
  {
   "cell_type": "markdown",
   "metadata": {},
   "source": [
    "<img src=\"images/практика/histogram_2.png\">"
   ]
  },
  {
   "cell_type": "markdown",
   "metadata": {},
   "source": [
    "**ВЫВОД:** \n",
    "\n",
    "*На основании данной гистограммы, можно сделать вывод, что баланс ушедших клиентов ниже, чем у лояльных клиентов, это может быть связано с разными причинами, например:*\n",
    "\n",
    "→ низкое качество обслуживания;\n",
    "\n",
    "→ низкие ставки по вкладам и рост инфляции;\n",
    "\n",
    "→ недостаточно удобные условия обслуживания;\n",
    "\n",
    "→ недостаточно широкий выбор банковских услуг;\n",
    "\n",
    "→ недостаточно быстрые и эффективные решения проблем клиентов."
   ]
  },
  {
   "cell_type": "markdown",
   "metadata": {},
   "source": [
    "**9.4.** *Посмотрите на распределение возраста в разрезе признака оттока. В какой группе больше потенциальных выбросов? На какую возрастную категорию клиентов стоит обратить внимание банку?*"
   ]
  },
  {
   "cell_type": "code",
   "execution_count": null,
   "metadata": {},
   "outputs": [],
   "source": [
    "#строим коробчатую диаграмму\n",
    "fig = px.box(\n",
    "    data_frame=churn_data_1, #датафрейм\n",
    "    x='Exited', #ось абсцисс\n",
    "    y='Age', #ось ординат\n",
    "    height=800, #высота\n",
    "    width=1100, #ширина\n",
    "    points='all', #точки\n",
    "    color='Exited', #расцветка в зависимости от статуса лояльности\n",
    "    color_discrete_sequence=['red', 'green'],\n",
    "    title='Распределение баланса клиентов: 1 - ушедшие, 0 - лояльные' #заголовок\n",
    ")\n",
    "\n",
    "#применим метод .update_layout к объекту fig\n",
    "fig.update_layout(\n",
    "    xaxis_title='Статус лояльности', \n",
    "    yaxis_title='Возраст клиента, лет'\n",
    ")\n",
    "\n",
    "#отображаем диаграмму\n",
    "fig.show()"
   ]
  },
  {
   "cell_type": "markdown",
   "metadata": {},
   "source": [
    "<img src=\"images/практика/box.png\">"
   ]
  },
  {
   "cell_type": "markdown",
   "metadata": {},
   "source": [
    "**ВЫВОД:** *На данной диаграмме видно, что выбросы есть как в группе ушедших, так и в группе лояльных клиентов. Однако, можно заметить, что ушедшие клиенты имеют более широкий диапазон возрастов, а также более высокие значения в медиане и верхней квартиле.*"
   ]
  },
  {
   "cell_type": "markdown",
   "metadata": {},
   "source": [
    "**9.5.** *Постройте график, который показывает взаимосвязь кредитного рейтинга клиента и его предполагаемой зарплаты. Добавьте расцветку по признаку оттока клиентов. Какова взаимосвязь между признаками? Если не видите явной взаимосвязи, укажите это.*"
   ]
  },
  {
   "cell_type": "code",
   "execution_count": null,
   "metadata": {},
   "outputs": [],
   "source": [
    "#строим график\n",
    "fig = px.scatter(\n",
    "    data_frame=churn_data_1, #датафрейм\n",
    "    x='EstimatedSalary', #ось абсцисс\n",
    "    y='CreditScore', #ось ординат\n",
    "    color='Exited', #расцветка в зависимости от статуса лояльности\n",
    "    color_continuous_scale=['green', 'red'],\n",
    "    height=700, #высота\n",
    "    width=1000, #ширина\n",
    "    title='Взаимосвязь кредитного рейтинга клиента и его предполагаемой заработной платы', #заголовок  \n",
    ")\n",
    "\n",
    "#применим метод .update_layout к объекту fig\n",
    "fig.update_layout(\n",
    "    xaxis_title='Предполагаемая заработная плата клиента',\n",
    "    yaxis_title='Кредитный рейтинг клиента'\n",
    ")\n",
    "\n",
    "#отображаем график\n",
    "fig.show()"
   ]
  },
  {
   "cell_type": "markdown",
   "metadata": {},
   "source": [
    "<img src=\"images/практика/scatter.png\">"
   ]
  },
  {
   "cell_type": "markdown",
   "metadata": {},
   "source": [
    "**ВЫВОД:** *Взаимосвязь между признаками отсутствует, так как точки на графике распределены хаотично. Также можно заметить, что кредитный рейтинг меньше 400 есть только у ушедших клиентов, это клиенты со средней или высокой предполагаемой заработной платой. Что касается лояльных клиентов, то можно сделать вывод: так как большое скопление точек на уровне высокого кредитного рейтинга расположены по всей оси абсцисс, это говорит об их высоком кредитном рейтинге, который совершенно не зависит от предполагаемой заработной платы клиента.*"
   ]
  },
  {
   "cell_type": "markdown",
   "metadata": {},
   "source": [
    "**9.6.** *Кто чаще уходит, мужчины или женщины? Постройте график, который иллюстрирует это.*\n",
    "\n",
    "**Подсказка**\n",
    "\n",
    "*Процент ушедших клиентов в каждой группе можно рассчитать как среднее по столбцу **Exited** (так как 1 - это ушедшие клиенты, а 0 - лояльные, среднее арифметическое по столбцу обозначает долю ушедших клиентов).*"
   ]
  },
  {
   "cell_type": "code",
   "execution_count": null,
   "metadata": {},
   "outputs": [],
   "source": [
    "churn_data_1['Exited'] = churn_data_1['Exited'].astype('int')\n",
    "churn_data_1['Loyal'] = 1 - churn_data_1['Exited']\n",
    "grouped_by_exit = churn_data_1.groupby(['Gender'])[['Exited', 'Loyal']].sum()\n",
    "\n",
    "#строим диаграмму\n",
    "fig = px.bar(\n",
    "    data_frame=grouped_by_exit, #датафрейм\n",
    "    x=grouped_by_exit.index, #ось абсцисс\n",
    "    y=['Exited', 'Loyal'], #ось ординат\n",
    "    height=600, #высота\n",
    "    width=800, #ширина\n",
    "    color_discrete_sequence=['red', 'green'],\n",
    "    text_auto=True,\n",
    "    barmode='group'\n",
    ")\n",
    "\n",
    "#применим метод .update_layout к объекту fig\n",
    "fig.update_layout(\n",
    "    title='Доля ушедших клиентов в зависимости от пола', #заголовок\n",
    "    xaxis_title='Пол',\n",
    "    yaxis_title='Количество клиентов, чел.',\n",
    "    legend=dict(\n",
    "        x=0.5,\n",
    "        xanchor='center',\n",
    "        orientation='h',\n",
    "        title='Клиенты',\n",
    "        font=dict(family='Arial', size=16),\n",
    "        itemsizing='constant'\n",
    "    ),\n",
    ")\n",
    "\n",
    "#отображаем диаграмму\n",
    "fig.show()"
   ]
  },
  {
   "cell_type": "markdown",
   "metadata": {},
   "source": [
    "<img src=\"images/практика/bar_1.png\">"
   ]
  },
  {
   "cell_type": "markdown",
   "metadata": {},
   "source": [
    "**ВЫВОД:** *На диаграмме видно, что женщины чаще уходят, чем мужчины, но разница не очень большая: доля ушедших клиентов среди мужчин составляет почти 9% всех клиентов банка, тогда как, среди женщин - 11.4%.*"
   ]
  },
  {
   "cell_type": "markdown",
   "metadata": {},
   "source": [
    "**9.7.** *Как отток клиентов зависит от числа приобретённых у банка услуг? Для ответа на этот вопрос постройте многоуровневую столбчатую диаграмму.*"
   ]
  },
  {
   "cell_type": "code",
   "execution_count": null,
   "metadata": {},
   "outputs": [],
   "source": [
    "churn_data_1['Exited'] = churn_data_1['Exited'].astype('int')\n",
    "churn_data_1['Loyal'] = 1 - churn_data_1['Exited']\n",
    "grouped_by_exit = churn_data_1.groupby(['NumOfProducts'])[['Exited', 'Loyal']].sum()\n",
    "\n",
    "#строим диаграмму\n",
    "fig = px.bar(\n",
    "    data_frame=grouped_by_exit, #датафрейм\n",
    "    x=grouped_by_exit.index, #ось абсцисс\n",
    "    y=['Exited', 'Loyal'], #ось ординат\n",
    "    height=600, #высота\n",
    "    width=800, #ширина\n",
    "    color_discrete_sequence=['red', 'green'],\n",
    "    text_auto=True,\n",
    "    barmode=\"group\"   \n",
    ")\n",
    "\n",
    "#применим метод .update_layout к объекту fig\n",
    "fig.update_layout(\n",
    "    title='Взаимосвязь оттока клиентов и числа приобретённых услуг банка', #заголовок\n",
    "    xaxis_title='Количество услуг банка, приобретенных клиентом, шт.',\n",
    "    yaxis_title='Количество клиентов, чел.',\n",
    "    legend=dict(\n",
    "        x=0.5,\n",
    "        xanchor=\"center\",\n",
    "        orientation='h',\n",
    "        title='Клиенты',\n",
    "        font=dict(family='Arial', size=16),\n",
    "        itemsizing='constant'\n",
    "    ),\n",
    ")\n",
    "\n",
    "#отображаем диаграмму\n",
    "fig.show()"
   ]
  },
  {
   "cell_type": "markdown",
   "metadata": {},
   "source": [
    "<img src=\"images/практика/bar_2.png\">"
   ]
  },
  {
   "cell_type": "markdown",
   "metadata": {},
   "source": [
    "**ВЫВОД:** *С помощью взаимосвязи оттока клиентов и числа приобретенных услуг банка можно понять, как количество услуг, которыми пользуются клиенты, влияют на вероятность их ухода из банка. Данная диаграмма показывает, что клиенты, использующие большое количество услуг банка, имеют более высокую лояльность и соотвественно меньшую вероятность ухода. Можно сделать вывод, что клиенты, использующие несколько услуг банка, могут получать дополнительные \"привилегии\", такие как скидки, бонусы, более высокий уровень обслуживания и качество предоставляемых услуг, что скорее всего не приведет к оттоку данных клиентов.*"
   ]
  },
  {
   "cell_type": "markdown",
   "metadata": {},
   "source": [
    "**9.8.** *Как влияет наличие статуса активного клиента на отток клиентов? Постройте диаграмму, иллюстрирующую это. Что бы вы предложили банку, чтобы уменьшить отток клиентов среди неактивных?*"
   ]
  },
  {
   "cell_type": "code",
   "execution_count": null,
   "metadata": {},
   "outputs": [],
   "source": [
    "churn_data_1['Exited'] = churn_data_1['Exited'].astype('int')\n",
    "churn_data_1['Loyal'] = 1 - churn_data_1['Exited']\n",
    "grouped_by_exit = churn_data_1.groupby(['IsActiveMember'])[['Exited', 'Loyal']].sum()\n",
    "\n",
    "#строим диаграмму\n",
    "fig = px.bar(\n",
    "    data_frame=grouped_by_exit, #датафрейм\n",
    "    x=grouped_by_exit.index, #ось абсцисс\n",
    "    y=['Exited', 'Loyal'], #ось ординат\n",
    "    height=600, #высота\n",
    "    width=800, #ширина\n",
    "    color_discrete_sequence=['red', 'green'],\n",
    "    text_auto=True,\n",
    "    barmode=\"group\"   \n",
    ")\n",
    "\n",
    "#применим метод .update_layout к объекту fig\n",
    "fig.update_layout(\n",
    "    title='Влияние статуса активного клиента на отток клиентов', #заголовок\n",
    "    xaxis_title='Статус активности',\n",
    "    yaxis_title='Количество клиентов, чел.',\n",
    "    legend=dict(\n",
    "        x=0.5,\n",
    "        xanchor=\"center\",\n",
    "        orientation='h',\n",
    "        title='Клиенты',\n",
    "        font=dict(family='Arial', size=16),\n",
    "        itemsizing='constant'\n",
    "    ),\n",
    ")\n",
    "\n",
    "#отображаем диаграмму\n",
    "fig.show()"
   ]
  },
  {
   "cell_type": "markdown",
   "metadata": {},
   "source": [
    "<img src=\"images/практика/bar_3.png\">"
   ]
  },
  {
   "cell_type": "markdown",
   "metadata": {},
   "source": [
    "**ВЫВОД:** \n",
    "\n",
    "*На полученной диаграмме можно заметить, что доля ушедших клиентов банка среди неактивных клиентов выше, чем среди активных. Это говорит о том, что статус активного клиента может существенно влиять на вероятность оттока клиента. Чтобы уменьшить отток клиентов среди неактивных, банк может принять следующие меры:*\n",
    "\n",
    "→ *необходимо привлекать неактивных клиентов в банковские услуги и предоставлять им персонализированные предложения;*\n",
    "\n",
    "→ *повышать удобство и доступность банковских услуг для неактивных клиентов, например, с помощью мобильных приложений;*\n",
    "\n",
    "→ *улучшать обслуживание и качество предоставляемых услуг для всех клиентов, в том числе для неактивных, чтобы повысить их удовлетворенность и лояльность.*"
   ]
  },
  {
   "cell_type": "markdown",
   "metadata": {},
   "source": [
    "**9.9.** *В какой стране доля ушедших клиентов больше? Постройте тепловую картограмму, которая покажет это соотношение на карте мира. Предположите, с чем это может быть связано.*"
   ]
  },
  {
   "cell_type": "code",
   "execution_count": null,
   "metadata": {},
   "outputs": [],
   "source": [
    "#группируем данные по странам и вычисляем долю ушедших клиентов\n",
    "countries = churn_data_1.groupby(['Geography'])['Exited'].mean().reset_index()\n",
    "\n",
    "#строим тепловую картограмму\n",
    "fig = px.choropleth(\n",
    "    data_frame=countries, #датафрейм\n",
    "    locations='Geography', #столбец с локациями\n",
    "    locationmode='country names', #режим сопоставления локаций с базой Plotly\n",
    "    color='Exited', #от чего зависит цвет\n",
    "    color_continuous_scale=['green', 'red'], #цвета\n",
    "    range_color=[0, 0.3], #диапазон цвета\n",
    "    hover_name='Geography',\n",
    "    title='Доля ушедших клиентов по странам', #заголовок\n",
    "    height=500, #высота\n",
    "    width=800, #ширина\n",
    ")\n",
    "\n",
    "#отображаем график\n",
    "fig.show()"
   ]
  },
  {
   "cell_type": "markdown",
   "metadata": {},
   "source": [
    "<img src=\"images/практика/choropleth.png\">"
   ]
  },
  {
   "cell_type": "markdown",
   "metadata": {},
   "source": [
    "**ВЫВОД:** *На полученной тепловой картограмме можно заметить, что доля ушедших клиентов в Германии выше, чем в Испании и во Франции. Возможно, это связано с разными условиями банковского сектора в этих странах, а также с разным уровнем экономической и политической стабильности.*"
   ]
  },
  {
   "cell_type": "markdown",
   "metadata": {},
   "source": [
    "**9.10.** *Переведите числовой признак **CreditScore** в категориальный. Для этого воспользуйтесь функцией **get_credit_score_cat()**, которая приведена ниже. Примените её к столбцу **CreditScore** и создайте новый признак **CreditScoreCat** - категории кредитного рейтинга.*"
   ]
  },
  {
   "attachments": {
    "2023-09-05_13-38-53.png": {
     "image/png": "[encoded data removed]"
    }
   },
   "cell_type": "markdown",
   "metadata": {},
   "source": [
    "![2023-09-05_13-38-53.png](attachment:2023-09-05_13-38-53.png)"
   ]
  },
  {
   "cell_type": "markdown",
   "metadata": {},
   "source": [
    "*Постройте сводную таблицу, строками которой являются категории кредитного рейтинга **(CreditScoreCat)**, а столбцами - количество лет, в течение которых клиент пользуется услугами банка **(Tenure)**. В ячейках сводной таблицы должно находиться среднее по признаку оттока **(Exited)** - доля ушедших пользователей.*"
   ]
  },
  {
   "cell_type": "code",
   "execution_count": 78,
   "metadata": {},
   "outputs": [
    {
     "data": {
      "text/html": [
       "<div>\n",
       "<style scoped>\n",
       "    .dataframe tbody tr th:only-of-type {\n",
       "        vertical-align: middle;\n",
       "    }\n",
       "\n",
       "    .dataframe tbody tr th {\n",
       "        vertical-align: top;\n",
       "    }\n",
       "\n",
       "    .dataframe thead th {\n",
       "        text-align: right;\n",
       "    }\n",
       "</style>\n",
       "<table border=\"1\" class=\"dataframe\">\n",
       "  <thead>\n",
       "    <tr style=\"text-align: right;\">\n",
       "      <th>Tenure</th>\n",
       "      <th>0</th>\n",
       "      <th>1</th>\n",
       "      <th>2</th>\n",
       "      <th>3</th>\n",
       "      <th>4</th>\n",
       "      <th>5</th>\n",
       "      <th>6</th>\n",
       "      <th>7</th>\n",
       "      <th>8</th>\n",
       "      <th>9</th>\n",
       "      <th>10</th>\n",
       "    </tr>\n",
       "    <tr>\n",
       "      <th>CreditScoreCat</th>\n",
       "      <th></th>\n",
       "      <th></th>\n",
       "      <th></th>\n",
       "      <th></th>\n",
       "      <th></th>\n",
       "      <th></th>\n",
       "      <th></th>\n",
       "      <th></th>\n",
       "      <th></th>\n",
       "      <th></th>\n",
       "      <th></th>\n",
       "    </tr>\n",
       "  </thead>\n",
       "  <tbody>\n",
       "    <tr>\n",
       "      <th>Excellent</th>\n",
       "      <td>0.275000</td>\n",
       "      <td>0.208333</td>\n",
       "      <td>0.137255</td>\n",
       "      <td>0.168317</td>\n",
       "      <td>0.131868</td>\n",
       "      <td>0.233333</td>\n",
       "      <td>0.241379</td>\n",
       "      <td>0.127660</td>\n",
       "      <td>0.196078</td>\n",
       "      <td>0.270833</td>\n",
       "      <td>0.254902</td>\n",
       "    </tr>\n",
       "    <tr>\n",
       "      <th>Fair</th>\n",
       "      <td>0.217391</td>\n",
       "      <td>0.215596</td>\n",
       "      <td>0.213043</td>\n",
       "      <td>0.216450</td>\n",
       "      <td>0.197248</td>\n",
       "      <td>0.206897</td>\n",
       "      <td>0.236364</td>\n",
       "      <td>0.171103</td>\n",
       "      <td>0.209016</td>\n",
       "      <td>0.190045</td>\n",
       "      <td>0.205357</td>\n",
       "    </tr>\n",
       "    <tr>\n",
       "      <th>Good</th>\n",
       "      <td>0.203822</td>\n",
       "      <td>0.203608</td>\n",
       "      <td>0.187342</td>\n",
       "      <td>0.205962</td>\n",
       "      <td>0.195122</td>\n",
       "      <td>0.214470</td>\n",
       "      <td>0.182857</td>\n",
       "      <td>0.191892</td>\n",
       "      <td>0.152355</td>\n",
       "      <td>0.194667</td>\n",
       "      <td>0.197802</td>\n",
       "    </tr>\n",
       "    <tr>\n",
       "      <th>Poor</th>\n",
       "      <td>0.226415</td>\n",
       "      <td>0.259398</td>\n",
       "      <td>0.211765</td>\n",
       "      <td>0.212245</td>\n",
       "      <td>0.233202</td>\n",
       "      <td>0.199153</td>\n",
       "      <td>0.179916</td>\n",
       "      <td>0.151261</td>\n",
       "      <td>0.214575</td>\n",
       "      <td>0.251082</td>\n",
       "      <td>0.169492</td>\n",
       "    </tr>\n",
       "    <tr>\n",
       "      <th>Very_Poor</th>\n",
       "      <td>0.444444</td>\n",
       "      <td>0.253731</td>\n",
       "      <td>0.151515</td>\n",
       "      <td>0.285714</td>\n",
       "      <td>0.293103</td>\n",
       "      <td>0.149254</td>\n",
       "      <td>0.225352</td>\n",
       "      <td>0.206349</td>\n",
       "      <td>0.253521</td>\n",
       "      <td>0.229508</td>\n",
       "      <td>0.333333</td>\n",
       "    </tr>\n",
       "  </tbody>\n",
       "</table>\n",
       "</div>"
      ],
      "text/plain": [
       "Tenure                0         1         2         3         4         5   \\\n",
       "CreditScoreCat                                                               \n",
       "Excellent       0.275000  0.208333  0.137255  0.168317  0.131868  0.233333   \n",
       "Fair            0.217391  0.215596  0.213043  0.216450  0.197248  0.206897   \n",
       "Good            0.203822  0.203608  0.187342  0.205962  0.195122  0.214470   \n",
       "Poor            0.226415  0.259398  0.211765  0.212245  0.233202  0.199153   \n",
       "Very_Poor       0.444444  0.253731  0.151515  0.285714  0.293103  0.149254   \n",
       "\n",
       "Tenure                6         7         8         9         10  \n",
       "CreditScoreCat                                                    \n",
       "Excellent       0.241379  0.127660  0.196078  0.270833  0.254902  \n",
       "Fair            0.236364  0.171103  0.209016  0.190045  0.205357  \n",
       "Good            0.182857  0.191892  0.152355  0.194667  0.197802  \n",
       "Poor            0.179916  0.151261  0.214575  0.251082  0.169492  \n",
       "Very_Poor       0.225352  0.206349  0.253521  0.229508  0.333333  "
      ]
     },
     "metadata": {},
     "output_type": "display_data"
    }
   ],
   "source": [
    "def get_credit_score_cat(credit_score):\n",
    "    if credit_score >= 300 and credit_score < 500:\n",
    "        return \"Very_Poor\"\n",
    "    elif credit_score >= 500 and credit_score < 601:\n",
    "        return \"Poor\"\n",
    "    elif credit_score >= 601 and credit_score < 661:\n",
    "        return \"Fair\"\n",
    "    elif credit_score >= 661 and credit_score < 781:\n",
    "        return \"Good\"\n",
    "    elif credit_score >= 781 and credit_score < 851:\n",
    "        return \"Excellent\"\n",
    "    elif credit_score >= 851:\n",
    "        return \"Top\"\n",
    "    elif credit_score < 300:\n",
    "        return \"Deep\"\n",
    "\n",
    "churn_data_1['CreditScoreCat'] = churn_data_1['CreditScore'].apply(get_credit_score_cat)\n",
    "\n",
    "pivot_table = churn_data_1.pivot_table(\n",
    "                index='CreditScoreCat',\n",
    "                columns='Tenure',\n",
    "                values='Exited',\n",
    "                aggfunc='mean')\n",
    "\n",
    "display(pivot_table)\n"
   ]
  },
  {
   "cell_type": "markdown",
   "metadata": {},
   "source": [
    "*На основе полученной сводной таблицы постройте тепловую карту с аннотацией. Найдите на тепловой карте категории клиентов, которые уходят чаще всего.*"
   ]
  },
  {
   "cell_type": "code",
   "execution_count": null,
   "metadata": {},
   "outputs": [],
   "source": [
    "#строим тепловую карту\n",
    "fig = px.imshow(pivot_table,\n",
    "                labels=dict(x='Колличество лет, года', y='Категории кредитного рейтинга', color='CreditScoreCat'),\n",
    "                x=pivot_table.columns.tolist(),\n",
    "                y=pivot_table.index.tolist(),\n",
    "                color_continuous_scale=['green', 'red'], #цвета\n",
    "                height=600, #высота\n",
    "                width=1000, #ширина\n",
    "                text_auto=True,\n",
    "                title='Зависимость оттока клиентов от кредитного рейтинга и количества лет использвания услуг банка')\n",
    "\n",
    "#отображаем тепловую карту\n",
    "fig.show()"
   ]
  },
  {
   "cell_type": "markdown",
   "metadata": {},
   "source": [
    "<img src=\"images/практика/imshow.png\">"
   ]
  },
  {
   "cell_type": "markdown",
   "metadata": {},
   "source": [
    "**ВЫВОД:** *На тепловой карте можно найти категории клиентов, которые уходят чаще всего, а именно по тем ячейкам, в которых среднее значение оттока будет наибольшее. В нашем случае, такая категория - это клиенты с кредитным рейтингом **Very_Poor**, пользующиеся услугами банка в течение 1 года.*"
   ]
  },
  {
   "cell_type": "markdown",
   "metadata": {},
   "source": [
    "**ИТОГОВЫЙ ВЫВОД:**\n",
    "\n",
    "*Итак, были выяснены основные причины оттока клиентов и установлено, чем ушедшие клиенты отличаются от лояльных и как между собой связаны различные признаки, определяющие клиентов. На основе анализа банку будут переданы исследования для разработки кампании лояльности по удержанию клиентов и дальнейшего построения модели машинного обучения, которая будет прогнозировать уход клиента.*"
   ]
  }
 ],
 "metadata": {
  "kernelspec": {
   "display_name": "base",
   "language": "python",
   "name": "python3"
  },
  "language_info": {
   "codemirror_mode": {
    "name": "ipython",
    "version": 3
   },
   "file_extension": ".py",
   "mimetype": "text/x-python",
   "name": "python",
   "nbconvert_exporter": "python",
   "pygments_lexer": "ipython3",
   "version": "3.10.9"
  },
  "orig_nbformat": 4
 },
 "nbformat": 4,
 "nbformat_minor": 2
}
