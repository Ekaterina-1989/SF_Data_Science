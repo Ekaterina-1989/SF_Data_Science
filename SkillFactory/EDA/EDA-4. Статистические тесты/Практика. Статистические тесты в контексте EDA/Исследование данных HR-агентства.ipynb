{
  "cells": [
    {
      "cell_type": "markdown",
      "metadata": {
        "id": "yMG_XPwziMUN"
      },
      "source": [
        "## <center> **Практика. Статистические тесты в контексте EDA**"
      ]
    },
    {
      "cell_type": "markdown",
      "metadata": {},
      "source": [
        "## <center> *Исследование данных HR-агентства*"
      ]
    },
    {
      "cell_type": "markdown",
      "metadata": {
        "id": "EMd2vwh8ihnl"
      },
      "source": [
        "### **Постановка задачи**\n",
        "\n",
        "К Вам, как к опытному дата-сайентисту, обратилось HR-агенство, которое изучает тренды на рынке труда в IT. Компания хочет провести исследование на основе данных о зарплатах в сфере *Data Science* за 2020-2022 годы и получить некоторые выводы.\n",
        "\n",
        "HR-агенство хочет ответить на следующие вопросы, касающиеся зарплат в сфере *Data Science*:\n",
        "\n",
        "**1.** Какие факторы влияют на зарплату специалиста *Data Scientist*.\n",
        "\n",
        "**2.** А также ответить на следующие ключевые вопросы:\n",
        "    \n",
        "* Наблюдается ли ежегодный рост зарплат у специалистов *Data Scientist*?\n",
        "* Как соотносятся зарплаты *Data Scientist* и *Data Engineer* в 2022 году?\n",
        "* Как соотносятся зарплаты специалистов *Data Scientist* в компаниях различных размеров?\n",
        "* Есть ли связь между наличием должностей *Data Scientist* и *Data Engineer* и размером компании?\n",
        "\n",
        "Необходимо найти в данных интересные закономерности, также отметить их в своём анализе.\n",
        "\n",
        "Продемонстрировать использование разных тестов для проверки статистической значимости сделанных выводов:\n",
        "\n",
        "* тесты для количественного признака:\n",
        "    * для одной выборки;\n",
        "    * для двух выборок;\n",
        "    * для нескольких выборок;\n",
        "* тест для категориальных признаков.\n",
        "\n",
        "На каждый вопрос необходимо ответить с уровнем значимости $\\alpha=0.05$.\n",
        "\n",
        "Ответить на эти вопросы помогут данные о выплатах зарплат специалистам в сфере *Data Science*.\n",
        "\n",
        "Данные содержат следующие столбцы:"
      ]
    },
    {
      "cell_type": "markdown",
      "metadata": {},
      "source": [
        "<img src=\"images/Данные о выплатах зарплат специалистам в сфере DS.png\">"
      ]
    },
    {
      "cell_type": "markdown",
      "metadata": {},
      "source": [
        "Источник датасета: [\"Data Science Job Salaries\" (kaggle.com)](https://www.kaggle.com/datasets/ruchi798/data-science-job-salaries)"
      ]
    },
    {
      "cell_type": "markdown",
      "metadata": {
        "id": "_XMyOg3cgcN1"
      },
      "source": [
        "#### **1. Загрузка и обработка данных**"
      ]
    },
    {
      "cell_type": "code",
      "execution_count": 1,
      "metadata": {
        "id": "2JjaPf35gyCK"
      },
      "outputs": [],
      "source": [
        "# Загружаем необходимые библиотеки\n",
        "import pandas as pd\n",
        "import numpy as np\n",
        "\n",
        "from scipy import stats\n",
        "import statsmodels.api as sm\n",
        "from statsmodels import stats as sms\n",
        "\n",
        "import matplotlib.pyplot as plt\n",
        "import seaborn as sns\n",
        "\n",
        "# Делаем визуальную настройку графиков\n",
        "sns.set_theme(\"notebook\") \n",
        "sns.set_palette(\"Set2\")\n",
        "\n",
        "# Для отключения всех предупреждений\n",
        "import warnings\n",
        "warnings.filterwarnings('ignore')"
      ]
    },
    {
      "cell_type": "markdown",
      "metadata": {},
      "source": [
        "* **Необходимо корректно загрузить данные.**"
      ]
    },
    {
      "cell_type": "code",
      "execution_count": 87,
      "metadata": {},
      "outputs": [
        {
          "data": {
            "text/plain": [
              "'ds_salaries.zip'"
            ]
          },
          "execution_count": 87,
          "metadata": {},
          "output_type": "execute_result"
        }
      ],
      "source": [
        "# Скачиваем датасет \n",
        "import wget\n",
        "wget.download (\"https://lms.skillfactory.ru/asset-v1:SkillFactory+DST-3.0+28FEB2021+type@asset+block@ds_salaries.zip\", 'ds_salaries.zip')"
      ]
    },
    {
      "cell_type": "code",
      "execution_count": 2,
      "metadata": {},
      "outputs": [
        {
          "data": {
            "text/html": [
              "<div>\n",
              "<style scoped>\n",
              "    .dataframe tbody tr th:only-of-type {\n",
              "        vertical-align: middle;\n",
              "    }\n",
              "\n",
              "    .dataframe tbody tr th {\n",
              "        vertical-align: top;\n",
              "    }\n",
              "\n",
              "    .dataframe thead th {\n",
              "        text-align: right;\n",
              "    }\n",
              "</style>\n",
              "<table border=\"1\" class=\"dataframe\">\n",
              "  <thead>\n",
              "    <tr style=\"text-align: right;\">\n",
              "      <th></th>\n",
              "      <th>work_year</th>\n",
              "      <th>experience_level</th>\n",
              "      <th>employment_type</th>\n",
              "      <th>job_title</th>\n",
              "      <th>salary</th>\n",
              "      <th>salary_currency</th>\n",
              "      <th>salary_in_usd</th>\n",
              "      <th>employee_residence</th>\n",
              "      <th>remote_ratio</th>\n",
              "      <th>company_location</th>\n",
              "      <th>company_size</th>\n",
              "    </tr>\n",
              "  </thead>\n",
              "  <tbody>\n",
              "    <tr>\n",
              "      <th>0</th>\n",
              "      <td>2020</td>\n",
              "      <td>MI</td>\n",
              "      <td>FT</td>\n",
              "      <td>Data Scientist</td>\n",
              "      <td>70000</td>\n",
              "      <td>EUR</td>\n",
              "      <td>79833</td>\n",
              "      <td>DE</td>\n",
              "      <td>0</td>\n",
              "      <td>DE</td>\n",
              "      <td>L</td>\n",
              "    </tr>\n",
              "    <tr>\n",
              "      <th>1</th>\n",
              "      <td>2020</td>\n",
              "      <td>SE</td>\n",
              "      <td>FT</td>\n",
              "      <td>Machine Learning Scientist</td>\n",
              "      <td>260000</td>\n",
              "      <td>USD</td>\n",
              "      <td>260000</td>\n",
              "      <td>JP</td>\n",
              "      <td>0</td>\n",
              "      <td>JP</td>\n",
              "      <td>S</td>\n",
              "    </tr>\n",
              "    <tr>\n",
              "      <th>2</th>\n",
              "      <td>2020</td>\n",
              "      <td>SE</td>\n",
              "      <td>FT</td>\n",
              "      <td>Big Data Engineer</td>\n",
              "      <td>85000</td>\n",
              "      <td>GBP</td>\n",
              "      <td>109024</td>\n",
              "      <td>GB</td>\n",
              "      <td>50</td>\n",
              "      <td>GB</td>\n",
              "      <td>M</td>\n",
              "    </tr>\n",
              "    <tr>\n",
              "      <th>3</th>\n",
              "      <td>2020</td>\n",
              "      <td>MI</td>\n",
              "      <td>FT</td>\n",
              "      <td>Product Data Analyst</td>\n",
              "      <td>20000</td>\n",
              "      <td>USD</td>\n",
              "      <td>20000</td>\n",
              "      <td>HN</td>\n",
              "      <td>0</td>\n",
              "      <td>HN</td>\n",
              "      <td>S</td>\n",
              "    </tr>\n",
              "    <tr>\n",
              "      <th>4</th>\n",
              "      <td>2020</td>\n",
              "      <td>SE</td>\n",
              "      <td>FT</td>\n",
              "      <td>Machine Learning Engineer</td>\n",
              "      <td>150000</td>\n",
              "      <td>USD</td>\n",
              "      <td>150000</td>\n",
              "      <td>US</td>\n",
              "      <td>50</td>\n",
              "      <td>US</td>\n",
              "      <td>L</td>\n",
              "    </tr>\n",
              "  </tbody>\n",
              "</table>\n",
              "</div>"
            ],
            "text/plain": [
              "   work_year experience_level employment_type                   job_title  \\\n",
              "0       2020               MI              FT              Data Scientist   \n",
              "1       2020               SE              FT  Machine Learning Scientist   \n",
              "2       2020               SE              FT           Big Data Engineer   \n",
              "3       2020               MI              FT        Product Data Analyst   \n",
              "4       2020               SE              FT   Machine Learning Engineer   \n",
              "\n",
              "   salary salary_currency  salary_in_usd employee_residence  remote_ratio  \\\n",
              "0   70000             EUR          79833                 DE             0   \n",
              "1  260000             USD         260000                 JP             0   \n",
              "2   85000             GBP         109024                 GB            50   \n",
              "3   20000             USD          20000                 HN             0   \n",
              "4  150000             USD         150000                 US            50   \n",
              "\n",
              "  company_location company_size  \n",
              "0               DE            L  \n",
              "1               JP            S  \n",
              "2               GB            M  \n",
              "3               HN            S  \n",
              "4               US            L  "
            ]
          },
          "metadata": {},
          "output_type": "display_data"
        }
      ],
      "source": [
        "# Загружаем датасет\n",
        "df_salaries = pd.read_csv('./ds_salaries.csv', index_col=0)\n",
        "# Выведем первые пять строк таблицы с помощью head()\n",
        "display(df_salaries.head())"
      ]
    },
    {
      "cell_type": "code",
      "execution_count": 3,
      "metadata": {},
      "outputs": [
        {
          "data": {
            "text/html": [
              "<div>\n",
              "<style scoped>\n",
              "    .dataframe tbody tr th:only-of-type {\n",
              "        vertical-align: middle;\n",
              "    }\n",
              "\n",
              "    .dataframe tbody tr th {\n",
              "        vertical-align: top;\n",
              "    }\n",
              "\n",
              "    .dataframe thead th {\n",
              "        text-align: right;\n",
              "    }\n",
              "</style>\n",
              "<table border=\"1\" class=\"dataframe\">\n",
              "  <thead>\n",
              "    <tr style=\"text-align: right;\">\n",
              "      <th></th>\n",
              "      <th>work_year</th>\n",
              "      <th>experience_level</th>\n",
              "      <th>employment_type</th>\n",
              "      <th>job_title</th>\n",
              "      <th>salary</th>\n",
              "      <th>salary_currency</th>\n",
              "      <th>salary_in_usd</th>\n",
              "      <th>employee_residence</th>\n",
              "      <th>remote_ratio</th>\n",
              "      <th>company_location</th>\n",
              "      <th>company_size</th>\n",
              "    </tr>\n",
              "  </thead>\n",
              "  <tbody>\n",
              "    <tr>\n",
              "      <th>602</th>\n",
              "      <td>2022</td>\n",
              "      <td>SE</td>\n",
              "      <td>FT</td>\n",
              "      <td>Data Engineer</td>\n",
              "      <td>154000</td>\n",
              "      <td>USD</td>\n",
              "      <td>154000</td>\n",
              "      <td>US</td>\n",
              "      <td>100</td>\n",
              "      <td>US</td>\n",
              "      <td>M</td>\n",
              "    </tr>\n",
              "    <tr>\n",
              "      <th>603</th>\n",
              "      <td>2022</td>\n",
              "      <td>SE</td>\n",
              "      <td>FT</td>\n",
              "      <td>Data Engineer</td>\n",
              "      <td>126000</td>\n",
              "      <td>USD</td>\n",
              "      <td>126000</td>\n",
              "      <td>US</td>\n",
              "      <td>100</td>\n",
              "      <td>US</td>\n",
              "      <td>M</td>\n",
              "    </tr>\n",
              "    <tr>\n",
              "      <th>604</th>\n",
              "      <td>2022</td>\n",
              "      <td>SE</td>\n",
              "      <td>FT</td>\n",
              "      <td>Data Analyst</td>\n",
              "      <td>129000</td>\n",
              "      <td>USD</td>\n",
              "      <td>129000</td>\n",
              "      <td>US</td>\n",
              "      <td>0</td>\n",
              "      <td>US</td>\n",
              "      <td>M</td>\n",
              "    </tr>\n",
              "    <tr>\n",
              "      <th>605</th>\n",
              "      <td>2022</td>\n",
              "      <td>SE</td>\n",
              "      <td>FT</td>\n",
              "      <td>Data Analyst</td>\n",
              "      <td>150000</td>\n",
              "      <td>USD</td>\n",
              "      <td>150000</td>\n",
              "      <td>US</td>\n",
              "      <td>100</td>\n",
              "      <td>US</td>\n",
              "      <td>M</td>\n",
              "    </tr>\n",
              "    <tr>\n",
              "      <th>606</th>\n",
              "      <td>2022</td>\n",
              "      <td>MI</td>\n",
              "      <td>FT</td>\n",
              "      <td>AI Scientist</td>\n",
              "      <td>200000</td>\n",
              "      <td>USD</td>\n",
              "      <td>200000</td>\n",
              "      <td>IN</td>\n",
              "      <td>100</td>\n",
              "      <td>US</td>\n",
              "      <td>L</td>\n",
              "    </tr>\n",
              "  </tbody>\n",
              "</table>\n",
              "</div>"
            ],
            "text/plain": [
              "     work_year experience_level employment_type      job_title  salary  \\\n",
              "602       2022               SE              FT  Data Engineer  154000   \n",
              "603       2022               SE              FT  Data Engineer  126000   \n",
              "604       2022               SE              FT   Data Analyst  129000   \n",
              "605       2022               SE              FT   Data Analyst  150000   \n",
              "606       2022               MI              FT   AI Scientist  200000   \n",
              "\n",
              "    salary_currency  salary_in_usd employee_residence  remote_ratio  \\\n",
              "602             USD         154000                 US           100   \n",
              "603             USD         126000                 US           100   \n",
              "604             USD         129000                 US             0   \n",
              "605             USD         150000                 US           100   \n",
              "606             USD         200000                 IN           100   \n",
              "\n",
              "    company_location company_size  \n",
              "602               US            M  \n",
              "603               US            M  \n",
              "604               US            M  \n",
              "605               US            M  \n",
              "606               US            L  "
            ]
          },
          "metadata": {},
          "output_type": "display_data"
        }
      ],
      "source": [
        "# Выведем последние пять строк таблицы с помощью tail()\n",
        "display(df_salaries.tail())"
      ]
    },
    {
      "cell_type": "markdown",
      "metadata": {},
      "source": [
        "* **Проверим датасет на наличие пропусков и дубликатов, а также на корректность типов данных столбцов.**"
      ]
    },
    {
      "cell_type": "code",
      "execution_count": 4,
      "metadata": {
        "colab": {
          "base_uri": "https://localhost:8080/"
        },
        "id": "zkiOmlAy2XQU",
        "outputId": "88adbac3-0fd7-460c-a368-c40baff97200"
      },
      "outputs": [
        {
          "name": "stdout",
          "output_type": "stream",
          "text": [
            "<class 'pandas.core.frame.DataFrame'>\n",
            "Index: 607 entries, 0 to 606\n",
            "Data columns (total 11 columns):\n",
            " #   Column              Non-Null Count  Dtype \n",
            "---  ------              --------------  ----- \n",
            " 0   work_year           607 non-null    int64 \n",
            " 1   experience_level    607 non-null    object\n",
            " 2   employment_type     607 non-null    object\n",
            " 3   job_title           607 non-null    object\n",
            " 4   salary              607 non-null    int64 \n",
            " 5   salary_currency     607 non-null    object\n",
            " 6   salary_in_usd       607 non-null    int64 \n",
            " 7   employee_residence  607 non-null    object\n",
            " 8   remote_ratio        607 non-null    int64 \n",
            " 9   company_location    607 non-null    object\n",
            " 10  company_size        607 non-null    object\n",
            "dtypes: int64(4), object(7)\n",
            "memory usage: 56.9+ KB\n"
          ]
        }
      ],
      "source": [
        "df_salaries.info()"
      ]
    },
    {
      "cell_type": "markdown",
      "metadata": {
        "id": "Xug87trzl7Za"
      },
      "source": [
        "В датасете 607 записей (без пропущенных значений).\n",
        "\n",
        "Проверим данные на наличие полных дубликатов:"
      ]
    },
    {
      "cell_type": "code",
      "execution_count": 5,
      "metadata": {},
      "outputs": [
        {
          "name": "stdout",
          "output_type": "stream",
          "text": [
            "Количество дубликатов: 42\n",
            "Размер таблицы после удаления дубликатов: 565\n"
          ]
        }
      ],
      "source": [
        "# Проверяем наличие дубликатов\n",
        "print(\"Количество дубликатов: {}\".format(df_salaries[df_salaries.duplicated()].shape[0]))\n",
        "\n",
        "# Удаляем дубликаты\n",
        "df_salaries = df_salaries.drop_duplicates()\n",
        "print(\"Размер таблицы после удаления дубликатов: {}\".format(df_salaries.shape[0]))"
      ]
    },
    {
      "cell_type": "markdown",
      "metadata": {},
      "source": [
        "* **Определим в данных неинформативные признаки, которые не будут участвовать в исследовании.**"
      ]
    },
    {
      "cell_type": "code",
      "execution_count": 6,
      "metadata": {},
      "outputs": [
        {
          "name": "stdout",
          "output_type": "stream",
          "text": [
            "employment_type: 96.64% одинаковых значений\n"
          ]
        }
      ],
      "source": [
        "# Список неинформативных признаков\n",
        "low_information_cols = [] \n",
        "\n",
        "# Цикл по всем столбцам\n",
        "for col in df_salaries.columns:\n",
        "    # Наибольшая относительная частота в признаке\n",
        "    top_freq = df_salaries[col].value_counts(normalize=True).max()\n",
        "    # Доля уникальных значений от размера признака\n",
        "    nunique_ratio = df_salaries[col].nunique() / df_salaries[col].count()\n",
        "    # Сравниваем наибольшую частоту с порогом\n",
        "    if top_freq > 0.95:\n",
        "        low_information_cols.append(col)\n",
        "        print(f\"{col}: {round(top_freq*100, 2)}% одинаковых значений\")\n",
        "    # Сравниваем долю уникальных значений с порогом\n",
        "    if nunique_ratio > 0.95:\n",
        "        low_information_cols.append(col)\n",
        "        print(f\"{col}: {round(nunique_ratio*100, 2)}% уникальных значений\")"
      ]
    },
    {
      "cell_type": "markdown",
      "metadata": {},
      "source": [
        "Итак, мы нашли один неинформативный признак. Теперь можно удалить его с помощью метода **drop(),** передав результирующий список в его аргументы."
      ]
    },
    {
      "cell_type": "code",
      "execution_count": 7,
      "metadata": {},
      "outputs": [
        {
          "name": "stdout",
          "output_type": "stream",
          "text": [
            "Результирующее число признаков: 10\n"
          ]
        },
        {
          "data": {
            "text/html": [
              "<div>\n",
              "<style scoped>\n",
              "    .dataframe tbody tr th:only-of-type {\n",
              "        vertical-align: middle;\n",
              "    }\n",
              "\n",
              "    .dataframe tbody tr th {\n",
              "        vertical-align: top;\n",
              "    }\n",
              "\n",
              "    .dataframe thead th {\n",
              "        text-align: right;\n",
              "    }\n",
              "</style>\n",
              "<table border=\"1\" class=\"dataframe\">\n",
              "  <thead>\n",
              "    <tr style=\"text-align: right;\">\n",
              "      <th></th>\n",
              "      <th>work_year</th>\n",
              "      <th>experience_level</th>\n",
              "      <th>job_title</th>\n",
              "      <th>salary</th>\n",
              "      <th>salary_currency</th>\n",
              "      <th>salary_in_usd</th>\n",
              "      <th>employee_residence</th>\n",
              "      <th>remote_ratio</th>\n",
              "      <th>company_location</th>\n",
              "      <th>company_size</th>\n",
              "    </tr>\n",
              "  </thead>\n",
              "  <tbody>\n",
              "    <tr>\n",
              "      <th>0</th>\n",
              "      <td>2020</td>\n",
              "      <td>MI</td>\n",
              "      <td>Data Scientist</td>\n",
              "      <td>70000</td>\n",
              "      <td>EUR</td>\n",
              "      <td>79833</td>\n",
              "      <td>DE</td>\n",
              "      <td>0</td>\n",
              "      <td>DE</td>\n",
              "      <td>L</td>\n",
              "    </tr>\n",
              "    <tr>\n",
              "      <th>1</th>\n",
              "      <td>2020</td>\n",
              "      <td>SE</td>\n",
              "      <td>Machine Learning Scientist</td>\n",
              "      <td>260000</td>\n",
              "      <td>USD</td>\n",
              "      <td>260000</td>\n",
              "      <td>JP</td>\n",
              "      <td>0</td>\n",
              "      <td>JP</td>\n",
              "      <td>S</td>\n",
              "    </tr>\n",
              "    <tr>\n",
              "      <th>2</th>\n",
              "      <td>2020</td>\n",
              "      <td>SE</td>\n",
              "      <td>Big Data Engineer</td>\n",
              "      <td>85000</td>\n",
              "      <td>GBP</td>\n",
              "      <td>109024</td>\n",
              "      <td>GB</td>\n",
              "      <td>50</td>\n",
              "      <td>GB</td>\n",
              "      <td>M</td>\n",
              "    </tr>\n",
              "    <tr>\n",
              "      <th>3</th>\n",
              "      <td>2020</td>\n",
              "      <td>MI</td>\n",
              "      <td>Product Data Analyst</td>\n",
              "      <td>20000</td>\n",
              "      <td>USD</td>\n",
              "      <td>20000</td>\n",
              "      <td>HN</td>\n",
              "      <td>0</td>\n",
              "      <td>HN</td>\n",
              "      <td>S</td>\n",
              "    </tr>\n",
              "    <tr>\n",
              "      <th>4</th>\n",
              "      <td>2020</td>\n",
              "      <td>SE</td>\n",
              "      <td>Machine Learning Engineer</td>\n",
              "      <td>150000</td>\n",
              "      <td>USD</td>\n",
              "      <td>150000</td>\n",
              "      <td>US</td>\n",
              "      <td>50</td>\n",
              "      <td>US</td>\n",
              "      <td>L</td>\n",
              "    </tr>\n",
              "    <tr>\n",
              "      <th>...</th>\n",
              "      <td>...</td>\n",
              "      <td>...</td>\n",
              "      <td>...</td>\n",
              "      <td>...</td>\n",
              "      <td>...</td>\n",
              "      <td>...</td>\n",
              "      <td>...</td>\n",
              "      <td>...</td>\n",
              "      <td>...</td>\n",
              "      <td>...</td>\n",
              "    </tr>\n",
              "    <tr>\n",
              "      <th>602</th>\n",
              "      <td>2022</td>\n",
              "      <td>SE</td>\n",
              "      <td>Data Engineer</td>\n",
              "      <td>154000</td>\n",
              "      <td>USD</td>\n",
              "      <td>154000</td>\n",
              "      <td>US</td>\n",
              "      <td>100</td>\n",
              "      <td>US</td>\n",
              "      <td>M</td>\n",
              "    </tr>\n",
              "    <tr>\n",
              "      <th>603</th>\n",
              "      <td>2022</td>\n",
              "      <td>SE</td>\n",
              "      <td>Data Engineer</td>\n",
              "      <td>126000</td>\n",
              "      <td>USD</td>\n",
              "      <td>126000</td>\n",
              "      <td>US</td>\n",
              "      <td>100</td>\n",
              "      <td>US</td>\n",
              "      <td>M</td>\n",
              "    </tr>\n",
              "    <tr>\n",
              "      <th>604</th>\n",
              "      <td>2022</td>\n",
              "      <td>SE</td>\n",
              "      <td>Data Analyst</td>\n",
              "      <td>129000</td>\n",
              "      <td>USD</td>\n",
              "      <td>129000</td>\n",
              "      <td>US</td>\n",
              "      <td>0</td>\n",
              "      <td>US</td>\n",
              "      <td>M</td>\n",
              "    </tr>\n",
              "    <tr>\n",
              "      <th>605</th>\n",
              "      <td>2022</td>\n",
              "      <td>SE</td>\n",
              "      <td>Data Analyst</td>\n",
              "      <td>150000</td>\n",
              "      <td>USD</td>\n",
              "      <td>150000</td>\n",
              "      <td>US</td>\n",
              "      <td>100</td>\n",
              "      <td>US</td>\n",
              "      <td>M</td>\n",
              "    </tr>\n",
              "    <tr>\n",
              "      <th>606</th>\n",
              "      <td>2022</td>\n",
              "      <td>MI</td>\n",
              "      <td>AI Scientist</td>\n",
              "      <td>200000</td>\n",
              "      <td>USD</td>\n",
              "      <td>200000</td>\n",
              "      <td>IN</td>\n",
              "      <td>100</td>\n",
              "      <td>US</td>\n",
              "      <td>L</td>\n",
              "    </tr>\n",
              "  </tbody>\n",
              "</table>\n",
              "<p>565 rows × 10 columns</p>\n",
              "</div>"
            ],
            "text/plain": [
              "     work_year experience_level                   job_title  salary  \\\n",
              "0         2020               MI              Data Scientist   70000   \n",
              "1         2020               SE  Machine Learning Scientist  260000   \n",
              "2         2020               SE           Big Data Engineer   85000   \n",
              "3         2020               MI        Product Data Analyst   20000   \n",
              "4         2020               SE   Machine Learning Engineer  150000   \n",
              "..         ...              ...                         ...     ...   \n",
              "602       2022               SE               Data Engineer  154000   \n",
              "603       2022               SE               Data Engineer  126000   \n",
              "604       2022               SE                Data Analyst  129000   \n",
              "605       2022               SE                Data Analyst  150000   \n",
              "606       2022               MI                AI Scientist  200000   \n",
              "\n",
              "    salary_currency  salary_in_usd employee_residence  remote_ratio  \\\n",
              "0               EUR          79833                 DE             0   \n",
              "1               USD         260000                 JP             0   \n",
              "2               GBP         109024                 GB            50   \n",
              "3               USD          20000                 HN             0   \n",
              "4               USD         150000                 US            50   \n",
              "..              ...            ...                ...           ...   \n",
              "602             USD         154000                 US           100   \n",
              "603             USD         126000                 US           100   \n",
              "604             USD         129000                 US             0   \n",
              "605             USD         150000                 US           100   \n",
              "606             USD         200000                 IN           100   \n",
              "\n",
              "    company_location company_size  \n",
              "0                 DE            L  \n",
              "1                 JP            S  \n",
              "2                 GB            M  \n",
              "3                 HN            S  \n",
              "4                 US            L  \n",
              "..               ...          ...  \n",
              "602               US            M  \n",
              "603               US            M  \n",
              "604               US            M  \n",
              "605               US            M  \n",
              "606               US            L  \n",
              "\n",
              "[565 rows x 10 columns]"
            ]
          },
          "metadata": {},
          "output_type": "display_data"
        }
      ],
      "source": [
        "information_df_salaries = df_salaries.drop(low_information_cols, axis=1)\n",
        "print(f\"Результирующее число признаков: {information_df_salaries.shape[1]}\")\n",
        "display(information_df_salaries)"
      ]
    },
    {
      "cell_type": "markdown",
      "metadata": {},
      "source": [
        "Также удалим еще два признака, которые не будут участвовать в исследовании: *salary* и *salary_currency* - они отвечают за размер зарплаты и ее валюту, но так как в датасете уже есть признак *salary_in_usd* мы и будем им пользоваться."
      ]
    },
    {
      "cell_type": "code",
      "execution_count": 8,
      "metadata": {},
      "outputs": [
        {
          "data": {
            "text/html": [
              "<div>\n",
              "<style scoped>\n",
              "    .dataframe tbody tr th:only-of-type {\n",
              "        vertical-align: middle;\n",
              "    }\n",
              "\n",
              "    .dataframe tbody tr th {\n",
              "        vertical-align: top;\n",
              "    }\n",
              "\n",
              "    .dataframe thead th {\n",
              "        text-align: right;\n",
              "    }\n",
              "</style>\n",
              "<table border=\"1\" class=\"dataframe\">\n",
              "  <thead>\n",
              "    <tr style=\"text-align: right;\">\n",
              "      <th></th>\n",
              "      <th>work_year</th>\n",
              "      <th>experience_level</th>\n",
              "      <th>job_title</th>\n",
              "      <th>salary_in_usd</th>\n",
              "      <th>employee_residence</th>\n",
              "      <th>remote_ratio</th>\n",
              "      <th>company_location</th>\n",
              "      <th>company_size</th>\n",
              "    </tr>\n",
              "  </thead>\n",
              "  <tbody>\n",
              "    <tr>\n",
              "      <th>0</th>\n",
              "      <td>2020</td>\n",
              "      <td>MI</td>\n",
              "      <td>Data Scientist</td>\n",
              "      <td>79833</td>\n",
              "      <td>DE</td>\n",
              "      <td>0</td>\n",
              "      <td>DE</td>\n",
              "      <td>L</td>\n",
              "    </tr>\n",
              "    <tr>\n",
              "      <th>1</th>\n",
              "      <td>2020</td>\n",
              "      <td>SE</td>\n",
              "      <td>Machine Learning Scientist</td>\n",
              "      <td>260000</td>\n",
              "      <td>JP</td>\n",
              "      <td>0</td>\n",
              "      <td>JP</td>\n",
              "      <td>S</td>\n",
              "    </tr>\n",
              "    <tr>\n",
              "      <th>2</th>\n",
              "      <td>2020</td>\n",
              "      <td>SE</td>\n",
              "      <td>Big Data Engineer</td>\n",
              "      <td>109024</td>\n",
              "      <td>GB</td>\n",
              "      <td>50</td>\n",
              "      <td>GB</td>\n",
              "      <td>M</td>\n",
              "    </tr>\n",
              "    <tr>\n",
              "      <th>3</th>\n",
              "      <td>2020</td>\n",
              "      <td>MI</td>\n",
              "      <td>Product Data Analyst</td>\n",
              "      <td>20000</td>\n",
              "      <td>HN</td>\n",
              "      <td>0</td>\n",
              "      <td>HN</td>\n",
              "      <td>S</td>\n",
              "    </tr>\n",
              "    <tr>\n",
              "      <th>4</th>\n",
              "      <td>2020</td>\n",
              "      <td>SE</td>\n",
              "      <td>Machine Learning Engineer</td>\n",
              "      <td>150000</td>\n",
              "      <td>US</td>\n",
              "      <td>50</td>\n",
              "      <td>US</td>\n",
              "      <td>L</td>\n",
              "    </tr>\n",
              "    <tr>\n",
              "      <th>...</th>\n",
              "      <td>...</td>\n",
              "      <td>...</td>\n",
              "      <td>...</td>\n",
              "      <td>...</td>\n",
              "      <td>...</td>\n",
              "      <td>...</td>\n",
              "      <td>...</td>\n",
              "      <td>...</td>\n",
              "    </tr>\n",
              "    <tr>\n",
              "      <th>602</th>\n",
              "      <td>2022</td>\n",
              "      <td>SE</td>\n",
              "      <td>Data Engineer</td>\n",
              "      <td>154000</td>\n",
              "      <td>US</td>\n",
              "      <td>100</td>\n",
              "      <td>US</td>\n",
              "      <td>M</td>\n",
              "    </tr>\n",
              "    <tr>\n",
              "      <th>603</th>\n",
              "      <td>2022</td>\n",
              "      <td>SE</td>\n",
              "      <td>Data Engineer</td>\n",
              "      <td>126000</td>\n",
              "      <td>US</td>\n",
              "      <td>100</td>\n",
              "      <td>US</td>\n",
              "      <td>M</td>\n",
              "    </tr>\n",
              "    <tr>\n",
              "      <th>604</th>\n",
              "      <td>2022</td>\n",
              "      <td>SE</td>\n",
              "      <td>Data Analyst</td>\n",
              "      <td>129000</td>\n",
              "      <td>US</td>\n",
              "      <td>0</td>\n",
              "      <td>US</td>\n",
              "      <td>M</td>\n",
              "    </tr>\n",
              "    <tr>\n",
              "      <th>605</th>\n",
              "      <td>2022</td>\n",
              "      <td>SE</td>\n",
              "      <td>Data Analyst</td>\n",
              "      <td>150000</td>\n",
              "      <td>US</td>\n",
              "      <td>100</td>\n",
              "      <td>US</td>\n",
              "      <td>M</td>\n",
              "    </tr>\n",
              "    <tr>\n",
              "      <th>606</th>\n",
              "      <td>2022</td>\n",
              "      <td>MI</td>\n",
              "      <td>AI Scientist</td>\n",
              "      <td>200000</td>\n",
              "      <td>IN</td>\n",
              "      <td>100</td>\n",
              "      <td>US</td>\n",
              "      <td>L</td>\n",
              "    </tr>\n",
              "  </tbody>\n",
              "</table>\n",
              "<p>565 rows × 8 columns</p>\n",
              "</div>"
            ],
            "text/plain": [
              "     work_year experience_level                   job_title  salary_in_usd  \\\n",
              "0         2020               MI              Data Scientist          79833   \n",
              "1         2020               SE  Machine Learning Scientist         260000   \n",
              "2         2020               SE           Big Data Engineer         109024   \n",
              "3         2020               MI        Product Data Analyst          20000   \n",
              "4         2020               SE   Machine Learning Engineer         150000   \n",
              "..         ...              ...                         ...            ...   \n",
              "602       2022               SE               Data Engineer         154000   \n",
              "603       2022               SE               Data Engineer         126000   \n",
              "604       2022               SE                Data Analyst         129000   \n",
              "605       2022               SE                Data Analyst         150000   \n",
              "606       2022               MI                AI Scientist         200000   \n",
              "\n",
              "    employee_residence  remote_ratio company_location company_size  \n",
              "0                   DE             0               DE            L  \n",
              "1                   JP             0               JP            S  \n",
              "2                   GB            50               GB            M  \n",
              "3                   HN             0               HN            S  \n",
              "4                   US            50               US            L  \n",
              "..                 ...           ...              ...          ...  \n",
              "602                 US           100               US            M  \n",
              "603                 US           100               US            M  \n",
              "604                 US             0               US            M  \n",
              "605                 US           100               US            M  \n",
              "606                 IN           100               US            L  \n",
              "\n",
              "[565 rows x 8 columns]"
            ]
          },
          "metadata": {},
          "output_type": "display_data"
        }
      ],
      "source": [
        "information_df_salaries.drop([\"salary\", \"salary_currency\"], axis=1, inplace=True)\n",
        "display(information_df_salaries)"
      ]
    },
    {
      "cell_type": "markdown",
      "metadata": {},
      "source": [
        "Создадим копию *DataFrame* после удаления неинформативного признака с помощью метода **copy():**"
      ]
    },
    {
      "cell_type": "code",
      "execution_count": 9,
      "metadata": {},
      "outputs": [],
      "source": [
        "df_salaries_1 = information_df_salaries.copy()"
      ]
    },
    {
      "cell_type": "markdown",
      "metadata": {},
      "source": [
        "* **Классифицируем все признаки на *числовые* и *категориальные*.**"
      ]
    },
    {
      "cell_type": "code",
      "execution_count": 10,
      "metadata": {},
      "outputs": [
        {
          "name": "stdout",
          "output_type": "stream",
          "text": [
            "5 категориальных признаков: Index(['experience_level', 'job_title', 'employee_residence',\n",
            "       'company_location', 'company_size'],\n",
            "      dtype='object')\n",
            "3 числовых признака: Index(['work_year', 'salary_in_usd', 'remote_ratio'], dtype='object')\n"
          ]
        }
      ],
      "source": [
        "categorical = df_salaries_1.select_dtypes(object).columns\n",
        "numeric = df_salaries_1.select_dtypes(exclude = object).columns\n",
        "print(len(categorical), \"категориальных признаков:\", categorical)\n",
        "print(len(numeric), \"числовых признака:\", numeric)"
      ]
    },
    {
      "cell_type": "markdown",
      "metadata": {},
      "source": [
        "* **Найти основные статистические характеристики для каждого из признаков.**"
      ]
    },
    {
      "cell_type": "code",
      "execution_count": 11,
      "metadata": {},
      "outputs": [
        {
          "data": {
            "text/html": [
              "<div>\n",
              "<style scoped>\n",
              "    .dataframe tbody tr th:only-of-type {\n",
              "        vertical-align: middle;\n",
              "    }\n",
              "\n",
              "    .dataframe tbody tr th {\n",
              "        vertical-align: top;\n",
              "    }\n",
              "\n",
              "    .dataframe thead th {\n",
              "        text-align: right;\n",
              "    }\n",
              "</style>\n",
              "<table border=\"1\" class=\"dataframe\">\n",
              "  <thead>\n",
              "    <tr style=\"text-align: right;\">\n",
              "      <th></th>\n",
              "      <th>work_year</th>\n",
              "      <th>experience_level</th>\n",
              "      <th>job_title</th>\n",
              "      <th>salary_in_usd</th>\n",
              "      <th>employee_residence</th>\n",
              "      <th>remote_ratio</th>\n",
              "      <th>company_location</th>\n",
              "      <th>company_size</th>\n",
              "    </tr>\n",
              "  </thead>\n",
              "  <tbody>\n",
              "    <tr>\n",
              "      <th>count</th>\n",
              "      <td>565.000000</td>\n",
              "      <td>565</td>\n",
              "      <td>565</td>\n",
              "      <td>565.000000</td>\n",
              "      <td>565</td>\n",
              "      <td>565.000000</td>\n",
              "      <td>565</td>\n",
              "      <td>565</td>\n",
              "    </tr>\n",
              "    <tr>\n",
              "      <th>unique</th>\n",
              "      <td>NaN</td>\n",
              "      <td>4</td>\n",
              "      <td>50</td>\n",
              "      <td>NaN</td>\n",
              "      <td>57</td>\n",
              "      <td>NaN</td>\n",
              "      <td>50</td>\n",
              "      <td>3</td>\n",
              "    </tr>\n",
              "    <tr>\n",
              "      <th>top</th>\n",
              "      <td>NaN</td>\n",
              "      <td>SE</td>\n",
              "      <td>Data Scientist</td>\n",
              "      <td>NaN</td>\n",
              "      <td>US</td>\n",
              "      <td>NaN</td>\n",
              "      <td>US</td>\n",
              "      <td>M</td>\n",
              "    </tr>\n",
              "    <tr>\n",
              "      <th>freq</th>\n",
              "      <td>NaN</td>\n",
              "      <td>243</td>\n",
              "      <td>130</td>\n",
              "      <td>NaN</td>\n",
              "      <td>295</td>\n",
              "      <td>NaN</td>\n",
              "      <td>318</td>\n",
              "      <td>290</td>\n",
              "    </tr>\n",
              "    <tr>\n",
              "      <th>mean</th>\n",
              "      <td>2021.364602</td>\n",
              "      <td>NaN</td>\n",
              "      <td>NaN</td>\n",
              "      <td>110610.343363</td>\n",
              "      <td>NaN</td>\n",
              "      <td>69.911504</td>\n",
              "      <td>NaN</td>\n",
              "      <td>NaN</td>\n",
              "    </tr>\n",
              "    <tr>\n",
              "      <th>std</th>\n",
              "      <td>0.698138</td>\n",
              "      <td>NaN</td>\n",
              "      <td>NaN</td>\n",
              "      <td>72280.702792</td>\n",
              "      <td>NaN</td>\n",
              "      <td>40.900666</td>\n",
              "      <td>NaN</td>\n",
              "      <td>NaN</td>\n",
              "    </tr>\n",
              "    <tr>\n",
              "      <th>min</th>\n",
              "      <td>2020.000000</td>\n",
              "      <td>NaN</td>\n",
              "      <td>NaN</td>\n",
              "      <td>2859.000000</td>\n",
              "      <td>NaN</td>\n",
              "      <td>0.000000</td>\n",
              "      <td>NaN</td>\n",
              "      <td>NaN</td>\n",
              "    </tr>\n",
              "    <tr>\n",
              "      <th>25%</th>\n",
              "      <td>2021.000000</td>\n",
              "      <td>NaN</td>\n",
              "      <td>NaN</td>\n",
              "      <td>60757.000000</td>\n",
              "      <td>NaN</td>\n",
              "      <td>50.000000</td>\n",
              "      <td>NaN</td>\n",
              "      <td>NaN</td>\n",
              "    </tr>\n",
              "    <tr>\n",
              "      <th>50%</th>\n",
              "      <td>2021.000000</td>\n",
              "      <td>NaN</td>\n",
              "      <td>NaN</td>\n",
              "      <td>100000.000000</td>\n",
              "      <td>NaN</td>\n",
              "      <td>100.000000</td>\n",
              "      <td>NaN</td>\n",
              "      <td>NaN</td>\n",
              "    </tr>\n",
              "    <tr>\n",
              "      <th>75%</th>\n",
              "      <td>2022.000000</td>\n",
              "      <td>NaN</td>\n",
              "      <td>NaN</td>\n",
              "      <td>150000.000000</td>\n",
              "      <td>NaN</td>\n",
              "      <td>100.000000</td>\n",
              "      <td>NaN</td>\n",
              "      <td>NaN</td>\n",
              "    </tr>\n",
              "    <tr>\n",
              "      <th>max</th>\n",
              "      <td>2022.000000</td>\n",
              "      <td>NaN</td>\n",
              "      <td>NaN</td>\n",
              "      <td>600000.000000</td>\n",
              "      <td>NaN</td>\n",
              "      <td>100.000000</td>\n",
              "      <td>NaN</td>\n",
              "      <td>NaN</td>\n",
              "    </tr>\n",
              "  </tbody>\n",
              "</table>\n",
              "</div>"
            ],
            "text/plain": [
              "          work_year experience_level       job_title  salary_in_usd  \\\n",
              "count    565.000000              565             565     565.000000   \n",
              "unique          NaN                4              50            NaN   \n",
              "top             NaN               SE  Data Scientist            NaN   \n",
              "freq            NaN              243             130            NaN   \n",
              "mean    2021.364602              NaN             NaN  110610.343363   \n",
              "std        0.698138              NaN             NaN   72280.702792   \n",
              "min     2020.000000              NaN             NaN    2859.000000   \n",
              "25%     2021.000000              NaN             NaN   60757.000000   \n",
              "50%     2021.000000              NaN             NaN  100000.000000   \n",
              "75%     2022.000000              NaN             NaN  150000.000000   \n",
              "max     2022.000000              NaN             NaN  600000.000000   \n",
              "\n",
              "       employee_residence  remote_ratio company_location company_size  \n",
              "count                 565    565.000000              565          565  \n",
              "unique                 57           NaN               50            3  \n",
              "top                    US           NaN               US            M  \n",
              "freq                  295           NaN              318          290  \n",
              "mean                  NaN     69.911504              NaN          NaN  \n",
              "std                   NaN     40.900666              NaN          NaN  \n",
              "min                   NaN      0.000000              NaN          NaN  \n",
              "25%                   NaN     50.000000              NaN          NaN  \n",
              "50%                   NaN    100.000000              NaN          NaN  \n",
              "75%                   NaN    100.000000              NaN          NaN  \n",
              "max                   NaN    100.000000              NaN          NaN  "
            ]
          },
          "execution_count": 11,
          "metadata": {},
          "output_type": "execute_result"
        }
      ],
      "source": [
        "df_salaries_1.describe(include=\"all\")"
      ]
    },
    {
      "cell_type": "markdown",
      "metadata": {
        "id": "6uAbyderTaNx"
      },
      "source": [
        "#### **2. Разведывательный анализ данных**"
      ]
    },
    {
      "cell_type": "code",
      "execution_count": 12,
      "metadata": {},
      "outputs": [
        {
          "name": "stdout",
          "output_type": "stream",
          "text": [
            "Уровень значимости alpha = 0.05\n"
          ]
        }
      ],
      "source": [
        "# Задаем уровень значимости\n",
        "alpha = 0.05 \n",
        "print(\"Уровень значимости alpha = {:.2f}\".format(alpha))"
      ]
    },
    {
      "cell_type": "markdown",
      "metadata": {},
      "source": [
        "##### **2.1. Визуальный анализ данных**"
      ]
    },
    {
      "cell_type": "markdown",
      "metadata": {},
      "source": [
        "Итак, далее сформулируем следующие ключевые вопросы и ответим на них, проверив ответы на статистическую значимость."
      ]
    },
    {
      "cell_type": "markdown",
      "metadata": {},
      "source": [
        "**1. Наблюдается ли ежегодный рост зарплат у специалистов *Data Scientist*?**"
      ]
    },
    {
      "cell_type": "code",
      "execution_count": 13,
      "metadata": {},
      "outputs": [
        {
          "name": "stdout",
          "output_type": "stream",
          "text": [
            "Размер зарплатных выплат специалистов Data Scientist в зависимости от года\n"
          ]
        },
        {
          "data": {
            "text/html": [
              "<div>\n",
              "<style scoped>\n",
              "    .dataframe tbody tr th:only-of-type {\n",
              "        vertical-align: middle;\n",
              "    }\n",
              "\n",
              "    .dataframe tbody tr th {\n",
              "        vertical-align: top;\n",
              "    }\n",
              "\n",
              "    .dataframe thead th {\n",
              "        text-align: right;\n",
              "    }\n",
              "</style>\n",
              "<table border=\"1\" class=\"dataframe\">\n",
              "  <thead>\n",
              "    <tr style=\"text-align: right;\">\n",
              "      <th></th>\n",
              "      <th>count</th>\n",
              "      <th>mean</th>\n",
              "      <th>std</th>\n",
              "      <th>min</th>\n",
              "      <th>25%</th>\n",
              "      <th>50%</th>\n",
              "      <th>75%</th>\n",
              "      <th>max</th>\n",
              "    </tr>\n",
              "    <tr>\n",
              "      <th>work_year</th>\n",
              "      <th></th>\n",
              "      <th></th>\n",
              "      <th></th>\n",
              "      <th></th>\n",
              "      <th></th>\n",
              "      <th></th>\n",
              "      <th></th>\n",
              "      <th></th>\n",
              "    </tr>\n",
              "  </thead>\n",
              "  <tbody>\n",
              "    <tr>\n",
              "      <th>2020</th>\n",
              "      <td>21.0</td>\n",
              "      <td>85970.52</td>\n",
              "      <td>81436.65</td>\n",
              "      <td>21669.0</td>\n",
              "      <td>42197.00</td>\n",
              "      <td>62726.0</td>\n",
              "      <td>105000.00</td>\n",
              "      <td>412000.0</td>\n",
              "    </tr>\n",
              "    <tr>\n",
              "      <th>2021</th>\n",
              "      <td>44.0</td>\n",
              "      <td>70215.77</td>\n",
              "      <td>45843.82</td>\n",
              "      <td>2859.0</td>\n",
              "      <td>32793.75</td>\n",
              "      <td>67233.5</td>\n",
              "      <td>100922.75</td>\n",
              "      <td>165000.0</td>\n",
              "    </tr>\n",
              "    <tr>\n",
              "      <th>2022</th>\n",
              "      <td>65.0</td>\n",
              "      <td>131366.94</td>\n",
              "      <td>55785.24</td>\n",
              "      <td>18442.0</td>\n",
              "      <td>95550.00</td>\n",
              "      <td>135000.0</td>\n",
              "      <td>170000.00</td>\n",
              "      <td>260000.0</td>\n",
              "    </tr>\n",
              "  </tbody>\n",
              "</table>\n",
              "</div>"
            ],
            "text/plain": [
              "           count       mean       std      min       25%       50%        75%  \\\n",
              "work_year                                                                       \n",
              "2020        21.0   85970.52  81436.65  21669.0  42197.00   62726.0  105000.00   \n",
              "2021        44.0   70215.77  45843.82   2859.0  32793.75   67233.5  100922.75   \n",
              "2022        65.0  131366.94  55785.24  18442.0  95550.00  135000.0  170000.00   \n",
              "\n",
              "                max  \n",
              "work_year            \n",
              "2020       412000.0  \n",
              "2021       165000.0  \n",
              "2022       260000.0  "
            ]
          },
          "execution_count": 13,
          "metadata": {},
          "output_type": "execute_result"
        }
      ],
      "source": [
        "data_scientist = df_salaries_1[df_salaries_1[\"job_title\"] == \"Data Scientist\"]\n",
        "data_agg = data_scientist.groupby(\"work_year\")[\"salary_in_usd\"].describe().round(2)\n",
        "print(\"Размер зарплатных выплат специалистов Data Scientist в зависимости от года\")\n",
        "data_agg"
      ]
    },
    {
      "cell_type": "code",
      "execution_count": 14,
      "metadata": {
        "colab": {
          "base_uri": "https://localhost:8080/",
          "height": 496
        },
        "id": "KX6k6B2NWJ8t",
        "outputId": "523d571d-679e-4926-fe74-dc130c6a1b53"
      },
      "outputs": [
        {
          "data": {
            "image/png": "[encoded data removed]",
            "text/plain": [
              "<Figure size 1500x500 with 2 Axes>"
            ]
          },
          "metadata": {},
          "output_type": "display_data"
        }
      ],
      "source": [
        "fig, axes = plt.subplots(1, 2, figsize=(15, 5))\n",
        "\n",
        "sns.histplot(data_scientist[\"salary_in_usd\"], kde=True, ax=axes[0])\n",
        "axes[0].set(xlabel=\"Размер зарплаты в долларах США\", ylabel=\"Количество специалистов\")\n",
        "axes[0].set_title(\"Распределение зарплатных выплат для специалистов Data Scientist\")\n",
        "axes[0].axvline(data_scientist[\"salary_in_usd\"].mean(), color=\"red\", linestyle=\"--\", linewidth=0.8)\n",
        "\n",
        "sns.boxplot(df_salaries[\"salary_in_usd\"], ax=axes[1], orient=\"h\", medianprops={\"color\": \"red\", \"linestyle\": \"--\"})\n",
        "axes[1].set(ylabel=\"Размер зарплаты в долларах США\")\n",
        "axes[1].set_title(\"Распределение зарплатных выплат для специалистов Data Scientist\")\n",
        "\n",
        "plt.show()\n"
      ]
    },
    {
      "cell_type": "code",
      "execution_count": 15,
      "metadata": {},
      "outputs": [
        {
          "data": {
            "image/png": "[encoded data removed]",
            "text/plain": [
              "<Figure size 640x480 with 1 Axes>"
            ]
          },
          "metadata": {},
          "output_type": "display_data"
        }
      ],
      "source": [
        "ax = sns.boxplot(data_scientist, x=\"salary_in_usd\", y=\"work_year\", orient=\"h\", medianprops={\"color\": \"red\", \"linestyle\": \"--\"})\n",
        "ax.set(xlabel=\"Размер зарплатных выплат\", ylabel=\"Год\")\n",
        "plt.title(\"Распределение зарплатных выплат специалистов Data Scientist в зависимости от года\")\n",
        "plt.show()"
      ]
    },
    {
      "cell_type": "markdown",
      "metadata": {},
      "source": [
        "Как можно заметить, распределение размера заработных выплат специалистов *Data Scientist* в зависиости от года отличается друг от друга, но в целом наблюдается рост зарплат из года в год. Чтобы определить, являются ли эти отличия статистически значимыми, в следующем разделе мы проведём статистическое тестирование."
      ]
    },
    {
      "cell_type": "markdown",
      "metadata": {},
      "source": [
        "**2. Как соотносятся зарплаты *Data Scientist* и *Data Engineer* в 2022 году?**"
      ]
    },
    {
      "cell_type": "code",
      "execution_count": 16,
      "metadata": {},
      "outputs": [
        {
          "name": "stdout",
          "output_type": "stream",
          "text": [
            "Соотношение зарплат специалистов Data Scientist и Data Engineer в 2022 году\n"
          ]
        },
        {
          "data": {
            "text/html": [
              "<div>\n",
              "<style scoped>\n",
              "    .dataframe tbody tr th:only-of-type {\n",
              "        vertical-align: middle;\n",
              "    }\n",
              "\n",
              "    .dataframe tbody tr th {\n",
              "        vertical-align: top;\n",
              "    }\n",
              "\n",
              "    .dataframe thead th {\n",
              "        text-align: right;\n",
              "    }\n",
              "</style>\n",
              "<table border=\"1\" class=\"dataframe\">\n",
              "  <thead>\n",
              "    <tr style=\"text-align: right;\">\n",
              "      <th></th>\n",
              "      <th>count</th>\n",
              "      <th>mean</th>\n",
              "      <th>std</th>\n",
              "      <th>min</th>\n",
              "      <th>25%</th>\n",
              "      <th>50%</th>\n",
              "      <th>75%</th>\n",
              "      <th>max</th>\n",
              "    </tr>\n",
              "    <tr>\n",
              "      <th>work_year</th>\n",
              "      <th></th>\n",
              "      <th></th>\n",
              "      <th></th>\n",
              "      <th></th>\n",
              "      <th></th>\n",
              "      <th></th>\n",
              "      <th></th>\n",
              "      <th></th>\n",
              "    </tr>\n",
              "  </thead>\n",
              "  <tbody>\n",
              "    <tr>\n",
              "      <th>2022</th>\n",
              "      <td>65.0</td>\n",
              "      <td>131366.94</td>\n",
              "      <td>55785.24</td>\n",
              "      <td>18442.0</td>\n",
              "      <td>95550.0</td>\n",
              "      <td>135000.0</td>\n",
              "      <td>170000.0</td>\n",
              "      <td>260000.0</td>\n",
              "    </tr>\n",
              "  </tbody>\n",
              "</table>\n",
              "</div>"
            ],
            "text/plain": [
              "           count       mean       std      min      25%       50%       75%  \\\n",
              "work_year                                                                     \n",
              "2022        65.0  131366.94  55785.24  18442.0  95550.0  135000.0  170000.0   \n",
              "\n",
              "                max  \n",
              "work_year            \n",
              "2022       260000.0  "
            ]
          },
          "metadata": {},
          "output_type": "display_data"
        },
        {
          "data": {
            "text/html": [
              "<div>\n",
              "<style scoped>\n",
              "    .dataframe tbody tr th:only-of-type {\n",
              "        vertical-align: middle;\n",
              "    }\n",
              "\n",
              "    .dataframe tbody tr th {\n",
              "        vertical-align: top;\n",
              "    }\n",
              "\n",
              "    .dataframe thead th {\n",
              "        text-align: right;\n",
              "    }\n",
              "</style>\n",
              "<table border=\"1\" class=\"dataframe\">\n",
              "  <thead>\n",
              "    <tr style=\"text-align: right;\">\n",
              "      <th></th>\n",
              "      <th>count</th>\n",
              "      <th>mean</th>\n",
              "      <th>std</th>\n",
              "      <th>min</th>\n",
              "      <th>25%</th>\n",
              "      <th>50%</th>\n",
              "      <th>75%</th>\n",
              "      <th>max</th>\n",
              "    </tr>\n",
              "    <tr>\n",
              "      <th>work_year</th>\n",
              "      <th></th>\n",
              "      <th></th>\n",
              "      <th></th>\n",
              "      <th></th>\n",
              "      <th></th>\n",
              "      <th></th>\n",
              "      <th></th>\n",
              "      <th></th>\n",
              "    </tr>\n",
              "  </thead>\n",
              "  <tbody>\n",
              "    <tr>\n",
              "      <th>2022</th>\n",
              "      <td>79.0</td>\n",
              "      <td>124651.78</td>\n",
              "      <td>57846.84</td>\n",
              "      <td>25000.0</td>\n",
              "      <td>78526.0</td>\n",
              "      <td>115000.0</td>\n",
              "      <td>160040.0</td>\n",
              "      <td>324000.0</td>\n",
              "    </tr>\n",
              "  </tbody>\n",
              "</table>\n",
              "</div>"
            ],
            "text/plain": [
              "           count       mean       std      min      25%       50%       75%  \\\n",
              "work_year                                                                     \n",
              "2022        79.0  124651.78  57846.84  25000.0  78526.0  115000.0  160040.0   \n",
              "\n",
              "                max  \n",
              "work_year            \n",
              "2022       324000.0  "
            ]
          },
          "metadata": {},
          "output_type": "display_data"
        }
      ],
      "source": [
        "data_scientist = df_salaries_1[(df_salaries_1[\"job_title\"] == \"Data Scientist\") & (df_salaries[\"work_year\"].isin([2022]))]\n",
        "data_agg_ds = data_scientist.groupby(\"work_year\")[\"salary_in_usd\"].describe().round(2)\n",
        "print(\"Соотношение зарплат специалистов Data Scientist и Data Engineer в 2022 году\")\n",
        "\n",
        "data_engineer = df_salaries_1[(df_salaries_1[\"job_title\"] == \"Data Engineer\") & (df_salaries[\"work_year\"].isin([2022]))]\n",
        "data_agg_de = data_engineer.groupby(\"work_year\")[\"salary_in_usd\"].describe().round(2)\n",
        "\n",
        "display(data_agg_ds, data_agg_de)"
      ]
    },
    {
      "cell_type": "code",
      "execution_count": 17,
      "metadata": {},
      "outputs": [
        {
          "data": {
            "image/png": "[encoded data removed]",
            "text/plain": [
              "<Figure size 1500x500 with 2 Axes>"
            ]
          },
          "metadata": {},
          "output_type": "display_data"
        }
      ],
      "source": [
        "fig, axes = plt.subplots(1, 2, figsize=(15, 5))\n",
        "\n",
        "sns.histplot(data_scientist[\"salary_in_usd\"], kde=True, ax=axes[0])\n",
        "axes[0].set(xlabel=\"Размер зарплаты в долларах США\", ylabel=\"Количество специалистов\")\n",
        "axes[0].set_title(\"Распределение зарплат у специалистов Data Scientist в 2022 году\")\n",
        "axes[0].axvline(data_scientist[\"salary_in_usd\"].mean(), color=\"red\", linestyle=\"--\", linewidth=0.8)\n",
        "\n",
        "sns.histplot(data_engineer[\"salary_in_usd\"], kde=True, ax=axes[1])\n",
        "axes[1].set(xlabel=\"Размер зарплаты в долларах США\", ylabel=\"Количество специалистов\")\n",
        "axes[1].set_title(\"Распределение зарплат у специалистов Data Engineer в 2022 году\")\n",
        "axes[1].axvline(data_engineer[\"salary_in_usd\"].mean(), color=\"red\", linestyle=\"--\", linewidth=0.8)\n",
        "\n",
        "plt.show()"
      ]
    },
    {
      "cell_type": "markdown",
      "metadata": {},
      "source": [
        "Обратя внимание, можно заметить, что распределение зарплатных выплат в 2022 году у специалистов *Data Scientist* меньше, чем у специалистов *Data Engineer*. Чтобы определить, являются ли эти отличия статистически значимыми, в следующем разделе мы проведём статистическое тестирование."
      ]
    },
    {
      "cell_type": "markdown",
      "metadata": {},
      "source": [
        "**3. Как соотносятся зарплаты специалистов *Data Scientist* в компаниях различных размеров?**"
      ]
    },
    {
      "cell_type": "code",
      "execution_count": 18,
      "metadata": {},
      "outputs": [
        {
          "name": "stdout",
          "output_type": "stream",
          "text": [
            "Соотношение зарплат специалистов Data Scientist в зависимости от размера компаний\n"
          ]
        },
        {
          "data": {
            "text/html": [
              "<div>\n",
              "<style scoped>\n",
              "    .dataframe tbody tr th:only-of-type {\n",
              "        vertical-align: middle;\n",
              "    }\n",
              "\n",
              "    .dataframe tbody tr th {\n",
              "        vertical-align: top;\n",
              "    }\n",
              "\n",
              "    .dataframe thead th {\n",
              "        text-align: right;\n",
              "    }\n",
              "</style>\n",
              "<table border=\"1\" class=\"dataframe\">\n",
              "  <thead>\n",
              "    <tr style=\"text-align: right;\">\n",
              "      <th></th>\n",
              "      <th>count</th>\n",
              "      <th>mean</th>\n",
              "      <th>std</th>\n",
              "      <th>min</th>\n",
              "      <th>25%</th>\n",
              "      <th>50%</th>\n",
              "      <th>75%</th>\n",
              "      <th>max</th>\n",
              "    </tr>\n",
              "    <tr>\n",
              "      <th>company_size</th>\n",
              "      <th></th>\n",
              "      <th></th>\n",
              "      <th></th>\n",
              "      <th></th>\n",
              "      <th></th>\n",
              "      <th></th>\n",
              "      <th></th>\n",
              "      <th></th>\n",
              "    </tr>\n",
              "  </thead>\n",
              "  <tbody>\n",
              "    <tr>\n",
              "      <th>L</th>\n",
              "      <td>43.0</td>\n",
              "      <td>102743.42</td>\n",
              "      <td>73254.10</td>\n",
              "      <td>13400.0</td>\n",
              "      <td>45240.5</td>\n",
              "      <td>90734.0</td>\n",
              "      <td>135000.0</td>\n",
              "      <td>412000.0</td>\n",
              "    </tr>\n",
              "    <tr>\n",
              "      <th>M</th>\n",
              "      <td>66.0</td>\n",
              "      <td>120080.58</td>\n",
              "      <td>56347.79</td>\n",
              "      <td>4000.0</td>\n",
              "      <td>80000.0</td>\n",
              "      <td>119529.5</td>\n",
              "      <td>157500.0</td>\n",
              "      <td>260000.0</td>\n",
              "    </tr>\n",
              "    <tr>\n",
              "      <th>S</th>\n",
              "      <td>21.0</td>\n",
              "      <td>51925.76</td>\n",
              "      <td>33216.29</td>\n",
              "      <td>2859.0</td>\n",
              "      <td>21669.0</td>\n",
              "      <td>49268.0</td>\n",
              "      <td>82500.0</td>\n",
              "      <td>105000.0</td>\n",
              "    </tr>\n",
              "  </tbody>\n",
              "</table>\n",
              "</div>"
            ],
            "text/plain": [
              "              count       mean       std      min      25%       50%  \\\n",
              "company_size                                                           \n",
              "L              43.0  102743.42  73254.10  13400.0  45240.5   90734.0   \n",
              "M              66.0  120080.58  56347.79   4000.0  80000.0  119529.5   \n",
              "S              21.0   51925.76  33216.29   2859.0  21669.0   49268.0   \n",
              "\n",
              "                   75%       max  \n",
              "company_size                      \n",
              "L             135000.0  412000.0  \n",
              "M             157500.0  260000.0  \n",
              "S              82500.0  105000.0  "
            ]
          },
          "execution_count": 18,
          "metadata": {},
          "output_type": "execute_result"
        }
      ],
      "source": [
        "data_scientist = df_salaries_1[(df_salaries_1[\"job_title\"] == \"Data Scientist\")]\n",
        "data_agg = data_scientist.groupby(\"company_size\")[\"salary_in_usd\"].describe().round(2)\n",
        "print(\"Соотношение зарплат специалистов Data Scientist в зависимости от размера компаний\")\n",
        "data_agg"
      ]
    },
    {
      "cell_type": "code",
      "execution_count": 19,
      "metadata": {},
      "outputs": [
        {
          "data": {
            "image/png": "[encoded data removed]",
            "text/plain": [
              "<Figure size 640x480 with 1 Axes>"
            ]
          },
          "metadata": {},
          "output_type": "display_data"
        }
      ],
      "source": [
        "ax = sns.boxplot(data_scientist, x=\"salary_in_usd\", y=\"company_size\", orient=\"h\", medianprops={\"color\": \"red\", \"linestyle\": \"--\"})\n",
        "ax.set(xlabel=\"Размер зарплат\", ylabel=\"Размер компаний\")\n",
        "plt.title(\"Распределение зарплат у специалистов Data Scientist в зависимости от размера компаний\")\n",
        "plt.show()"
      ]
    },
    {
      "cell_type": "markdown",
      "metadata": {},
      "source": [
        "Итак, распределение зарплат у специалистов *Data Scientist* в зависимости от размера компаний имеют отличия. Чтобы определить, являются ли эти отличия статистически значимыми, в следующем разделе мы проведём статистическое тестирование."
      ]
    },
    {
      "cell_type": "markdown",
      "metadata": {},
      "source": [
        "**4. Есть ли связь между наличием должностей *Data Scientist* и *Data Engineer* и размером компании?**"
      ]
    },
    {
      "cell_type": "code",
      "execution_count": 20,
      "metadata": {},
      "outputs": [
        {
          "name": "stdout",
          "output_type": "stream",
          "text": [
            "Взаимосвязь вакансий Data Scientist и Data Engineer от опыта работы и размера компаний\n"
          ]
        },
        {
          "data": {
            "text/html": [
              "<div>\n",
              "<style scoped>\n",
              "    .dataframe tbody tr th:only-of-type {\n",
              "        vertical-align: middle;\n",
              "    }\n",
              "\n",
              "    .dataframe tbody tr th {\n",
              "        vertical-align: top;\n",
              "    }\n",
              "\n",
              "    .dataframe thead th {\n",
              "        text-align: right;\n",
              "    }\n",
              "</style>\n",
              "<table border=\"1\" class=\"dataframe\">\n",
              "  <thead>\n",
              "    <tr style=\"text-align: right;\">\n",
              "      <th></th>\n",
              "      <th>count</th>\n",
              "      <th>unique</th>\n",
              "      <th>top</th>\n",
              "      <th>freq</th>\n",
              "    </tr>\n",
              "    <tr>\n",
              "      <th>company_size</th>\n",
              "      <th></th>\n",
              "      <th></th>\n",
              "      <th></th>\n",
              "      <th></th>\n",
              "    </tr>\n",
              "  </thead>\n",
              "  <tbody>\n",
              "    <tr>\n",
              "      <th>L</th>\n",
              "      <td>43</td>\n",
              "      <td>3</td>\n",
              "      <td>MI</td>\n",
              "      <td>22</td>\n",
              "    </tr>\n",
              "    <tr>\n",
              "      <th>M</th>\n",
              "      <td>66</td>\n",
              "      <td>3</td>\n",
              "      <td>SE</td>\n",
              "      <td>32</td>\n",
              "    </tr>\n",
              "    <tr>\n",
              "      <th>S</th>\n",
              "      <td>21</td>\n",
              "      <td>3</td>\n",
              "      <td>MI</td>\n",
              "      <td>12</td>\n",
              "    </tr>\n",
              "  </tbody>\n",
              "</table>\n",
              "</div>"
            ],
            "text/plain": [
              "             count unique top freq\n",
              "company_size                      \n",
              "L               43      3  MI   22\n",
              "M               66      3  SE   32\n",
              "S               21      3  MI   12"
            ]
          },
          "metadata": {},
          "output_type": "display_data"
        },
        {
          "data": {
            "text/html": [
              "<div>\n",
              "<style scoped>\n",
              "    .dataframe tbody tr th:only-of-type {\n",
              "        vertical-align: middle;\n",
              "    }\n",
              "\n",
              "    .dataframe tbody tr th {\n",
              "        vertical-align: top;\n",
              "    }\n",
              "\n",
              "    .dataframe thead th {\n",
              "        text-align: right;\n",
              "    }\n",
              "</style>\n",
              "<table border=\"1\" class=\"dataframe\">\n",
              "  <thead>\n",
              "    <tr style=\"text-align: right;\">\n",
              "      <th></th>\n",
              "      <th>count</th>\n",
              "      <th>unique</th>\n",
              "      <th>top</th>\n",
              "      <th>freq</th>\n",
              "    </tr>\n",
              "    <tr>\n",
              "      <th>company_size</th>\n",
              "      <th></th>\n",
              "      <th></th>\n",
              "      <th></th>\n",
              "      <th></th>\n",
              "    </tr>\n",
              "  </thead>\n",
              "  <tbody>\n",
              "    <tr>\n",
              "      <th>L</th>\n",
              "      <td>34</td>\n",
              "      <td>3</td>\n",
              "      <td>MI</td>\n",
              "      <td>20</td>\n",
              "    </tr>\n",
              "    <tr>\n",
              "      <th>M</th>\n",
              "      <td>81</td>\n",
              "      <td>4</td>\n",
              "      <td>SE</td>\n",
              "      <td>41</td>\n",
              "    </tr>\n",
              "    <tr>\n",
              "      <th>S</th>\n",
              "      <td>6</td>\n",
              "      <td>3</td>\n",
              "      <td>SE</td>\n",
              "      <td>3</td>\n",
              "    </tr>\n",
              "  </tbody>\n",
              "</table>\n",
              "</div>"
            ],
            "text/plain": [
              "             count unique top freq\n",
              "company_size                      \n",
              "L               34      3  MI   20\n",
              "M               81      4  SE   41\n",
              "S                6      3  SE    3"
            ]
          },
          "metadata": {},
          "output_type": "display_data"
        }
      ],
      "source": [
        "data_scientist = df_salaries_1[(df_salaries_1[\"job_title\"] == \"Data Scientist\")]\n",
        "data_agg_ds = data_scientist.groupby(\"company_size\")[\"experience_level\"].describe().round(2)\n",
        "print(\"Взаимосвязь вакансий Data Scientist и Data Engineer от опыта работы и размера компаний\")\n",
        "\n",
        "data_engineer = df_salaries_1[(df_salaries_1[\"job_title\"] == \"Data Engineer\")]\n",
        "data_agg_de = data_engineer.groupby(\"company_size\")[\"experience_level\"].describe().round(2)\n",
        "\n",
        "display(data_agg_ds, data_agg_de)"
      ]
    },
    {
      "cell_type": "code",
      "execution_count": 21,
      "metadata": {},
      "outputs": [
        {
          "data": {
            "image/png": "[encoded data removed]",
            "text/plain": [
              "<Figure size 640x480 with 2 Axes>"
            ]
          },
          "metadata": {},
          "output_type": "display_data"
        }
      ],
      "source": [
        "cross_tab = pd.crosstab(index=data_scientist[\"experience_level\"], columns=df_salaries[\"company_size\"])\n",
        "ax = sns.heatmap(cross_tab, annot=True, linewidth=.5, fmt=\".0f\", cmap=\"coolwarm\")\n",
        "ax.set(xlabel=\"Размер компаний\", ylabel=\"Опыт специалиста\")\n",
        "ax.set_xticklabels([\"Маленькая\", \"Средняя\", \"Большая\"])\n",
        "ax.set_yticklabels([\"Entry\", \"Middle\", \"Senior\"])\n",
        "plt.title(\"Распределение вакансий Data Scientist в зависимости от опыта и размера компаний\")\n",
        "plt.show()"
      ]
    },
    {
      "cell_type": "code",
      "execution_count": 22,
      "metadata": {},
      "outputs": [
        {
          "data": {
            "image/png": "[encoded data removed]",
            "text/plain": [
              "<Figure size 640x480 with 2 Axes>"
            ]
          },
          "metadata": {},
          "output_type": "display_data"
        }
      ],
      "source": [
        "cross_tab = pd.crosstab(index=data_engineer[\"experience_level\"], columns=df_salaries[\"company_size\"])\n",
        "ax = sns.heatmap(cross_tab, annot=True, linewidth=.5, fmt=\".0f\", cmap=\"coolwarm\")\n",
        "ax.set(xlabel=\"Размер компаний\", ylabel=\"Опыт специалиста\")\n",
        "ax.set_xticklabels([\"Маленькая\", \"Средняя\", \"Большая\"])\n",
        "ax.set_yticklabels([\"Entry\", \"Middle\", \"Senior\", \"Executive\"])\n",
        "plt.title(\"Распределение вакансий Data Engineer в зависимости от опыта и размера компаний\")\n",
        "plt.show()"
      ]
    },
    {
      "cell_type": "markdown",
      "metadata": {},
      "source": [
        "Как можно отметить, распределение вакансий специалистов *Data Scientist* и *Data Engineer* в зависимости от опыта и размера компаний однозначно имеют отличия. Чтобы определить, являются ли эти отличия статистически значимыми, в следующем разделе мы проведём статистическое тестирование."
      ]
    },
    {
      "cell_type": "markdown",
      "metadata": {},
      "source": [
        "#### **Дополнительные исследования:**\n",
        "\n",
        "**5. Также, хотелось бы в целом определить ежегодный рост зарплатных выплат.**"
      ]
    },
    {
      "cell_type": "code",
      "execution_count": 23,
      "metadata": {},
      "outputs": [
        {
          "name": "stdout",
          "output_type": "stream",
          "text": [
            "Распределение зарплатных выплат в зависимости от года\n"
          ]
        },
        {
          "data": {
            "text/html": [
              "<div>\n",
              "<style scoped>\n",
              "    .dataframe tbody tr th:only-of-type {\n",
              "        vertical-align: middle;\n",
              "    }\n",
              "\n",
              "    .dataframe tbody tr th {\n",
              "        vertical-align: top;\n",
              "    }\n",
              "\n",
              "    .dataframe thead th {\n",
              "        text-align: right;\n",
              "    }\n",
              "</style>\n",
              "<table border=\"1\" class=\"dataframe\">\n",
              "  <thead>\n",
              "    <tr style=\"text-align: right;\">\n",
              "      <th></th>\n",
              "      <th>count</th>\n",
              "      <th>mean</th>\n",
              "      <th>std</th>\n",
              "      <th>min</th>\n",
              "      <th>25%</th>\n",
              "      <th>50%</th>\n",
              "      <th>75%</th>\n",
              "      <th>max</th>\n",
              "    </tr>\n",
              "    <tr>\n",
              "      <th>work_year</th>\n",
              "      <th></th>\n",
              "      <th></th>\n",
              "      <th></th>\n",
              "      <th></th>\n",
              "      <th></th>\n",
              "      <th></th>\n",
              "      <th></th>\n",
              "      <th></th>\n",
              "    </tr>\n",
              "  </thead>\n",
              "  <tbody>\n",
              "    <tr>\n",
              "      <th>2020</th>\n",
              "      <td>72.0</td>\n",
              "      <td>95813.00</td>\n",
              "      <td>82831.80</td>\n",
              "      <td>5707.0</td>\n",
              "      <td>45724.5</td>\n",
              "      <td>75544.0</td>\n",
              "      <td>115526.0</td>\n",
              "      <td>450000.0</td>\n",
              "    </tr>\n",
              "    <tr>\n",
              "      <th>2021</th>\n",
              "      <td>215.0</td>\n",
              "      <td>99430.41</td>\n",
              "      <td>80304.32</td>\n",
              "      <td>2859.0</td>\n",
              "      <td>50000.0</td>\n",
              "      <td>82528.0</td>\n",
              "      <td>135000.0</td>\n",
              "      <td>600000.0</td>\n",
              "    </tr>\n",
              "    <tr>\n",
              "      <th>2022</th>\n",
              "      <td>278.0</td>\n",
              "      <td>123089.10</td>\n",
              "      <td>59888.93</td>\n",
              "      <td>10000.0</td>\n",
              "      <td>78791.0</td>\n",
              "      <td>120000.0</td>\n",
              "      <td>160000.0</td>\n",
              "      <td>405000.0</td>\n",
              "    </tr>\n",
              "  </tbody>\n",
              "</table>\n",
              "</div>"
            ],
            "text/plain": [
              "           count       mean       std      min      25%       50%       75%  \\\n",
              "work_year                                                                     \n",
              "2020        72.0   95813.00  82831.80   5707.0  45724.5   75544.0  115526.0   \n",
              "2021       215.0   99430.41  80304.32   2859.0  50000.0   82528.0  135000.0   \n",
              "2022       278.0  123089.10  59888.93  10000.0  78791.0  120000.0  160000.0   \n",
              "\n",
              "                max  \n",
              "work_year            \n",
              "2020       450000.0  \n",
              "2021       600000.0  \n",
              "2022       405000.0  "
            ]
          },
          "execution_count": 23,
          "metadata": {},
          "output_type": "execute_result"
        }
      ],
      "source": [
        "data_agg = df_salaries_1.groupby(\"work_year\")[\"salary_in_usd\"].describe().round(2)\n",
        "print(\"Распределение зарплатных выплат в зависимости от года\")\n",
        "data_agg"
      ]
    },
    {
      "cell_type": "code",
      "execution_count": 24,
      "metadata": {},
      "outputs": [
        {
          "data": {
            "image/png": "[encoded data removed]",
            "text/plain": [
              "<Figure size 640x480 with 1 Axes>"
            ]
          },
          "metadata": {},
          "output_type": "display_data"
        }
      ],
      "source": [
        "ax = sns.boxplot(df_salaries_1, x=\"salary_in_usd\", y=\"work_year\", orient=\"h\", medianprops={\"color\": \"red\", \"linestyle\": \"--\"})\n",
        "ax.set(xlabel=\"Размер зарплатных выплат\", ylabel=\"Год\")\n",
        "plt.title(\"Распределение зарплатных выплат в зависимости от года\")\n",
        "plt.show()"
      ]
    },
    {
      "cell_type": "markdown",
      "metadata": {},
      "source": [
        "Распределения зарплатных выплат в зависимости от года имеют отличия. Чтобы определить, являются ли эти отличия статистически значимыми, необходимо провести статистическое тестирование."
      ]
    },
    {
      "cell_type": "markdown",
      "metadata": {},
      "source": [
        "**6. Распределение зарплатных выплат в зависимости от опыта работы.**"
      ]
    },
    {
      "cell_type": "code",
      "execution_count": 25,
      "metadata": {},
      "outputs": [
        {
          "name": "stdout",
          "output_type": "stream",
          "text": [
            "Распределение зарплатных выплат в зависимости от опыта работы\n"
          ]
        },
        {
          "data": {
            "text/html": [
              "<div>\n",
              "<style scoped>\n",
              "    .dataframe tbody tr th:only-of-type {\n",
              "        vertical-align: middle;\n",
              "    }\n",
              "\n",
              "    .dataframe tbody tr th {\n",
              "        vertical-align: top;\n",
              "    }\n",
              "\n",
              "    .dataframe thead th {\n",
              "        text-align: right;\n",
              "    }\n",
              "</style>\n",
              "<table border=\"1\" class=\"dataframe\">\n",
              "  <thead>\n",
              "    <tr style=\"text-align: right;\">\n",
              "      <th></th>\n",
              "      <th>count</th>\n",
              "      <th>mean</th>\n",
              "      <th>std</th>\n",
              "      <th>min</th>\n",
              "      <th>25%</th>\n",
              "      <th>50%</th>\n",
              "      <th>75%</th>\n",
              "      <th>max</th>\n",
              "    </tr>\n",
              "    <tr>\n",
              "      <th>experience_level</th>\n",
              "      <th></th>\n",
              "      <th></th>\n",
              "      <th></th>\n",
              "      <th></th>\n",
              "      <th></th>\n",
              "      <th></th>\n",
              "      <th></th>\n",
              "      <th></th>\n",
              "    </tr>\n",
              "  </thead>\n",
              "  <tbody>\n",
              "    <tr>\n",
              "      <th>EN</th>\n",
              "      <td>88.0</td>\n",
              "      <td>61643.32</td>\n",
              "      <td>44395.54</td>\n",
              "      <td>4000.0</td>\n",
              "      <td>27505.00</td>\n",
              "      <td>56500.0</td>\n",
              "      <td>85425.75</td>\n",
              "      <td>250000.0</td>\n",
              "    </tr>\n",
              "    <tr>\n",
              "      <th>EX</th>\n",
              "      <td>26.0</td>\n",
              "      <td>199392.04</td>\n",
              "      <td>117071.26</td>\n",
              "      <td>69741.0</td>\n",
              "      <td>130006.50</td>\n",
              "      <td>171437.5</td>\n",
              "      <td>233750.00</td>\n",
              "      <td>600000.0</td>\n",
              "    </tr>\n",
              "    <tr>\n",
              "      <th>MI</th>\n",
              "      <td>208.0</td>\n",
              "      <td>87793.00</td>\n",
              "      <td>64118.97</td>\n",
              "      <td>2859.0</td>\n",
              "      <td>47163.75</td>\n",
              "      <td>76940.0</td>\n",
              "      <td>112075.00</td>\n",
              "      <td>450000.0</td>\n",
              "    </tr>\n",
              "    <tr>\n",
              "      <th>SE</th>\n",
              "      <td>243.0</td>\n",
              "      <td>138374.88</td>\n",
              "      <td>59955.97</td>\n",
              "      <td>18907.0</td>\n",
              "      <td>99531.50</td>\n",
              "      <td>135000.0</td>\n",
              "      <td>171881.00</td>\n",
              "      <td>412000.0</td>\n",
              "    </tr>\n",
              "  </tbody>\n",
              "</table>\n",
              "</div>"
            ],
            "text/plain": [
              "                  count       mean        std      min        25%       50%  \\\n",
              "experience_level                                                              \n",
              "EN                 88.0   61643.32   44395.54   4000.0   27505.00   56500.0   \n",
              "EX                 26.0  199392.04  117071.26  69741.0  130006.50  171437.5   \n",
              "MI                208.0   87793.00   64118.97   2859.0   47163.75   76940.0   \n",
              "SE                243.0  138374.88   59955.97  18907.0   99531.50  135000.0   \n",
              "\n",
              "                        75%       max  \n",
              "experience_level                       \n",
              "EN                 85425.75  250000.0  \n",
              "EX                233750.00  600000.0  \n",
              "MI                112075.00  450000.0  \n",
              "SE                171881.00  412000.0  "
            ]
          },
          "execution_count": 25,
          "metadata": {},
          "output_type": "execute_result"
        }
      ],
      "source": [
        "data_agg = df_salaries_1.groupby(\"experience_level\")[\"salary_in_usd\"].describe().round(2)\n",
        "print(\"Распределение зарплатных выплат в зависимости от опыта работы\")\n",
        "data_agg"
      ]
    },
    {
      "cell_type": "code",
      "execution_count": 26,
      "metadata": {},
      "outputs": [
        {
          "data": {
            "image/png": "[encoded data removed]",
            "text/plain": [
              "<Figure size 640x480 with 1 Axes>"
            ]
          },
          "metadata": {},
          "output_type": "display_data"
        }
      ],
      "source": [
        "ax = sns.boxplot(df_salaries_1, x=\"salary_in_usd\", y=\"experience_level\", orient=\"h\", medianprops={\"color\": \"red\", \"linestyle\": \"--\"})\n",
        "ax.set(xlabel=\"Размер зарплатных выплат\", ylabel=\"Опыт работы\")\n",
        "plt.title(\"Распределение зарплатных выплат в зависимости от опыта работы\")\n",
        "plt.show()"
      ]
    },
    {
      "cell_type": "markdown",
      "metadata": {},
      "source": [
        "Распределения зарплатных выплат в зависимости от опыта работы имеют отличия. Чтобы определить, являются ли эти отличия статистически значимыми, необходимо провести статистическое тестирование."
      ]
    },
    {
      "cell_type": "markdown",
      "metadata": {},
      "source": [
        "**7. Распределение зарплатных выплат в зависимости от размера компаний.**"
      ]
    },
    {
      "cell_type": "code",
      "execution_count": 27,
      "metadata": {},
      "outputs": [
        {
          "name": "stdout",
          "output_type": "stream",
          "text": [
            "Распределение зарпатных выплат в зависимости и размера компаний\n"
          ]
        },
        {
          "data": {
            "text/html": [
              "<div>\n",
              "<style scoped>\n",
              "    .dataframe tbody tr th:only-of-type {\n",
              "        vertical-align: middle;\n",
              "    }\n",
              "\n",
              "    .dataframe tbody tr th {\n",
              "        vertical-align: top;\n",
              "    }\n",
              "\n",
              "    .dataframe thead th {\n",
              "        text-align: right;\n",
              "    }\n",
              "</style>\n",
              "<table border=\"1\" class=\"dataframe\">\n",
              "  <thead>\n",
              "    <tr style=\"text-align: right;\">\n",
              "      <th></th>\n",
              "      <th>count</th>\n",
              "      <th>mean</th>\n",
              "      <th>std</th>\n",
              "      <th>min</th>\n",
              "      <th>25%</th>\n",
              "      <th>50%</th>\n",
              "      <th>75%</th>\n",
              "      <th>max</th>\n",
              "    </tr>\n",
              "    <tr>\n",
              "      <th>company_size</th>\n",
              "      <th></th>\n",
              "      <th></th>\n",
              "      <th></th>\n",
              "      <th></th>\n",
              "      <th></th>\n",
              "      <th></th>\n",
              "      <th></th>\n",
              "      <th></th>\n",
              "    </tr>\n",
              "  </thead>\n",
              "  <tbody>\n",
              "    <tr>\n",
              "      <th>L</th>\n",
              "      <td>193.0</td>\n",
              "      <td>118213.88</td>\n",
              "      <td>86753.27</td>\n",
              "      <td>5882.0</td>\n",
              "      <td>60000.0</td>\n",
              "      <td>100000.0</td>\n",
              "      <td>153667.00</td>\n",
              "      <td>600000.0</td>\n",
              "    </tr>\n",
              "    <tr>\n",
              "      <th>M</th>\n",
              "      <td>290.0</td>\n",
              "      <td>114807.08</td>\n",
              "      <td>60779.04</td>\n",
              "      <td>4000.0</td>\n",
              "      <td>70821.5</td>\n",
              "      <td>109640.0</td>\n",
              "      <td>150213.75</td>\n",
              "      <td>450000.0</td>\n",
              "    </tr>\n",
              "    <tr>\n",
              "      <th>S</th>\n",
              "      <td>82.0</td>\n",
              "      <td>77872.10</td>\n",
              "      <td>63814.52</td>\n",
              "      <td>2859.0</td>\n",
              "      <td>41816.0</td>\n",
              "      <td>65511.0</td>\n",
              "      <td>100000.00</td>\n",
              "      <td>416000.0</td>\n",
              "    </tr>\n",
              "  </tbody>\n",
              "</table>\n",
              "</div>"
            ],
            "text/plain": [
              "              count       mean       std     min      25%       50%  \\\n",
              "company_size                                                          \n",
              "L             193.0  118213.88  86753.27  5882.0  60000.0  100000.0   \n",
              "M             290.0  114807.08  60779.04  4000.0  70821.5  109640.0   \n",
              "S              82.0   77872.10  63814.52  2859.0  41816.0   65511.0   \n",
              "\n",
              "                    75%       max  \n",
              "company_size                       \n",
              "L             153667.00  600000.0  \n",
              "M             150213.75  450000.0  \n",
              "S             100000.00  416000.0  "
            ]
          },
          "execution_count": 27,
          "metadata": {},
          "output_type": "execute_result"
        }
      ],
      "source": [
        "data_agg = df_salaries_1.groupby(\"company_size\")[\"salary_in_usd\"].describe().round(2)\n",
        "print(\"Распределение зарпатных выплат в зависимости и размера компаний\")\n",
        "data_agg"
      ]
    },
    {
      "cell_type": "code",
      "execution_count": 28,
      "metadata": {},
      "outputs": [
        {
          "data": {
            "image/png": "[encoded data removed]",
            "text/plain": [
              "<Figure size 640x480 with 1 Axes>"
            ]
          },
          "metadata": {},
          "output_type": "display_data"
        }
      ],
      "source": [
        "ax = sns.boxplot(df_salaries_1, x=\"salary_in_usd\", y=\"company_size\", orient=\"h\", medianprops={\"color\": \"red\", \"linestyle\": \"--\"})\n",
        "ax.set(xlabel=\"Размер зарплатных выплат\", ylabel=\"Размер компаний\")\n",
        "plt.title(\"Распределение зарплатных выплат в зависимости от размера компаний\")\n",
        "plt.show()"
      ]
    },
    {
      "cell_type": "markdown",
      "metadata": {},
      "source": [
        "Распределения зарплатных выплат в зависимости от размера компаний имеют отличия. Чтобы определить, являются ли эти отличия статистически значимыми, необходимо провести статистическое тестирование."
      ]
    },
    {
      "cell_type": "markdown",
      "metadata": {},
      "source": [
        "**8. Распределение зарплатных выплат в зависимости от местонахождения компаний.**"
      ]
    },
    {
      "cell_type": "code",
      "execution_count": 29,
      "metadata": {},
      "outputs": [
        {
          "name": "stdout",
          "output_type": "stream",
          "text": [
            "Распределение зарпатных выплат в зависимости от местонахождения компаний\n"
          ]
        },
        {
          "data": {
            "text/html": [
              "<div>\n",
              "<style scoped>\n",
              "    .dataframe tbody tr th:only-of-type {\n",
              "        vertical-align: middle;\n",
              "    }\n",
              "\n",
              "    .dataframe tbody tr th {\n",
              "        vertical-align: top;\n",
              "    }\n",
              "\n",
              "    .dataframe thead th {\n",
              "        text-align: right;\n",
              "    }\n",
              "</style>\n",
              "<table border=\"1\" class=\"dataframe\">\n",
              "  <thead>\n",
              "    <tr style=\"text-align: right;\">\n",
              "      <th></th>\n",
              "      <th>count</th>\n",
              "      <th>mean</th>\n",
              "      <th>std</th>\n",
              "      <th>min</th>\n",
              "      <th>25%</th>\n",
              "      <th>50%</th>\n",
              "      <th>75%</th>\n",
              "      <th>max</th>\n",
              "    </tr>\n",
              "    <tr>\n",
              "      <th>company_location</th>\n",
              "      <th></th>\n",
              "      <th></th>\n",
              "      <th></th>\n",
              "      <th></th>\n",
              "      <th></th>\n",
              "      <th></th>\n",
              "      <th></th>\n",
              "      <th></th>\n",
              "    </tr>\n",
              "  </thead>\n",
              "  <tbody>\n",
              "    <tr>\n",
              "      <th>AE</th>\n",
              "      <td>3.0</td>\n",
              "      <td>100000.00</td>\n",
              "      <td>30413.81</td>\n",
              "      <td>65000.0</td>\n",
              "      <td>90000.00</td>\n",
              "      <td>115000.0</td>\n",
              "      <td>117500.00</td>\n",
              "      <td>120000.0</td>\n",
              "    </tr>\n",
              "    <tr>\n",
              "      <th>AS</th>\n",
              "      <td>1.0</td>\n",
              "      <td>18053.00</td>\n",
              "      <td>NaN</td>\n",
              "      <td>18053.0</td>\n",
              "      <td>18053.00</td>\n",
              "      <td>18053.0</td>\n",
              "      <td>18053.00</td>\n",
              "      <td>18053.0</td>\n",
              "    </tr>\n",
              "    <tr>\n",
              "      <th>AT</th>\n",
              "      <td>4.0</td>\n",
              "      <td>72920.75</td>\n",
              "      <td>13332.78</td>\n",
              "      <td>61467.0</td>\n",
              "      <td>64003.50</td>\n",
              "      <td>69489.5</td>\n",
              "      <td>78406.75</td>\n",
              "      <td>91237.0</td>\n",
              "    </tr>\n",
              "    <tr>\n",
              "      <th>AU</th>\n",
              "      <td>3.0</td>\n",
              "      <td>108042.67</td>\n",
              "      <td>36337.91</td>\n",
              "      <td>86703.0</td>\n",
              "      <td>87064.00</td>\n",
              "      <td>87425.0</td>\n",
              "      <td>118712.50</td>\n",
              "      <td>150000.0</td>\n",
              "    </tr>\n",
              "    <tr>\n",
              "      <th>BE</th>\n",
              "      <td>2.0</td>\n",
              "      <td>85699.00</td>\n",
              "      <td>4179.00</td>\n",
              "      <td>82744.0</td>\n",
              "      <td>84221.50</td>\n",
              "      <td>85699.0</td>\n",
              "      <td>87176.50</td>\n",
              "      <td>88654.0</td>\n",
              "    </tr>\n",
              "    <tr>\n",
              "      <th>BR</th>\n",
              "      <td>3.0</td>\n",
              "      <td>18602.67</td>\n",
              "      <td>5555.76</td>\n",
              "      <td>12901.0</td>\n",
              "      <td>15904.00</td>\n",
              "      <td>18907.0</td>\n",
              "      <td>21453.50</td>\n",
              "      <td>24000.0</td>\n",
              "    </tr>\n",
              "    <tr>\n",
              "      <th>CA</th>\n",
              "      <td>28.0</td>\n",
              "      <td>100121.86</td>\n",
              "      <td>47080.71</td>\n",
              "      <td>52000.0</td>\n",
              "      <td>70518.00</td>\n",
              "      <td>81895.5</td>\n",
              "      <td>117374.75</td>\n",
              "      <td>225000.0</td>\n",
              "    </tr>\n",
              "    <tr>\n",
              "      <th>CH</th>\n",
              "      <td>2.0</td>\n",
              "      <td>64114.00</td>\n",
              "      <td>82352.48</td>\n",
              "      <td>5882.0</td>\n",
              "      <td>34998.00</td>\n",
              "      <td>64114.0</td>\n",
              "      <td>93230.00</td>\n",
              "      <td>122346.0</td>\n",
              "    </tr>\n",
              "    <tr>\n",
              "      <th>CL</th>\n",
              "      <td>1.0</td>\n",
              "      <td>40038.00</td>\n",
              "      <td>NaN</td>\n",
              "      <td>40038.0</td>\n",
              "      <td>40038.00</td>\n",
              "      <td>40038.0</td>\n",
              "      <td>40038.00</td>\n",
              "      <td>40038.0</td>\n",
              "    </tr>\n",
              "    <tr>\n",
              "      <th>CN</th>\n",
              "      <td>2.0</td>\n",
              "      <td>71665.50</td>\n",
              "      <td>40071.03</td>\n",
              "      <td>43331.0</td>\n",
              "      <td>57498.25</td>\n",
              "      <td>71665.5</td>\n",
              "      <td>85832.75</td>\n",
              "      <td>100000.0</td>\n",
              "    </tr>\n",
              "    <tr>\n",
              "      <th>CO</th>\n",
              "      <td>1.0</td>\n",
              "      <td>21844.00</td>\n",
              "      <td>NaN</td>\n",
              "      <td>21844.0</td>\n",
              "      <td>21844.00</td>\n",
              "      <td>21844.0</td>\n",
              "      <td>21844.00</td>\n",
              "      <td>21844.0</td>\n",
              "    </tr>\n",
              "    <tr>\n",
              "      <th>CZ</th>\n",
              "      <td>2.0</td>\n",
              "      <td>50937.00</td>\n",
              "      <td>26957.74</td>\n",
              "      <td>31875.0</td>\n",
              "      <td>41406.00</td>\n",
              "      <td>50937.0</td>\n",
              "      <td>60468.00</td>\n",
              "      <td>69999.0</td>\n",
              "    </tr>\n",
              "    <tr>\n",
              "      <th>DE</th>\n",
              "      <td>27.0</td>\n",
              "      <td>81559.56</td>\n",
              "      <td>39903.44</td>\n",
              "      <td>15966.0</td>\n",
              "      <td>58669.00</td>\n",
              "      <td>76833.0</td>\n",
              "      <td>89694.00</td>\n",
              "      <td>173762.0</td>\n",
              "    </tr>\n",
              "    <tr>\n",
              "      <th>DK</th>\n",
              "      <td>3.0</td>\n",
              "      <td>54386.33</td>\n",
              "      <td>30909.79</td>\n",
              "      <td>28609.0</td>\n",
              "      <td>37252.50</td>\n",
              "      <td>45896.0</td>\n",
              "      <td>67275.00</td>\n",
              "      <td>88654.0</td>\n",
              "    </tr>\n",
              "    <tr>\n",
              "      <th>DZ</th>\n",
              "      <td>1.0</td>\n",
              "      <td>100000.00</td>\n",
              "      <td>NaN</td>\n",
              "      <td>100000.0</td>\n",
              "      <td>100000.00</td>\n",
              "      <td>100000.0</td>\n",
              "      <td>100000.00</td>\n",
              "      <td>100000.0</td>\n",
              "    </tr>\n",
              "    <tr>\n",
              "      <th>EE</th>\n",
              "      <td>1.0</td>\n",
              "      <td>32974.00</td>\n",
              "      <td>NaN</td>\n",
              "      <td>32974.0</td>\n",
              "      <td>32974.00</td>\n",
              "      <td>32974.0</td>\n",
              "      <td>32974.00</td>\n",
              "      <td>32974.0</td>\n",
              "    </tr>\n",
              "    <tr>\n",
              "      <th>ES</th>\n",
              "      <td>14.0</td>\n",
              "      <td>53060.14</td>\n",
              "      <td>21090.92</td>\n",
              "      <td>10354.0</td>\n",
              "      <td>40073.50</td>\n",
              "      <td>48371.5</td>\n",
              "      <td>68793.00</td>\n",
              "      <td>87932.0</td>\n",
              "    </tr>\n",
              "    <tr>\n",
              "      <th>FR</th>\n",
              "      <td>15.0</td>\n",
              "      <td>63970.67</td>\n",
              "      <td>28679.63</td>\n",
              "      <td>36643.0</td>\n",
              "      <td>48202.50</td>\n",
              "      <td>56738.0</td>\n",
              "      <td>69143.00</td>\n",
              "      <td>152000.0</td>\n",
              "    </tr>\n",
              "    <tr>\n",
              "      <th>GB</th>\n",
              "      <td>46.0</td>\n",
              "      <td>81649.50</td>\n",
              "      <td>29846.70</td>\n",
              "      <td>37300.0</td>\n",
              "      <td>56915.50</td>\n",
              "      <td>78526.0</td>\n",
              "      <td>104316.50</td>\n",
              "      <td>183228.0</td>\n",
              "    </tr>\n",
              "    <tr>\n",
              "      <th>GR</th>\n",
              "      <td>10.0</td>\n",
              "      <td>52026.70</td>\n",
              "      <td>20357.15</td>\n",
              "      <td>20000.0</td>\n",
              "      <td>41133.25</td>\n",
              "      <td>48680.0</td>\n",
              "      <td>63201.00</td>\n",
              "      <td>87932.0</td>\n",
              "    </tr>\n",
              "    <tr>\n",
              "      <th>HN</th>\n",
              "      <td>1.0</td>\n",
              "      <td>20000.00</td>\n",
              "      <td>NaN</td>\n",
              "      <td>20000.0</td>\n",
              "      <td>20000.00</td>\n",
              "      <td>20000.0</td>\n",
              "      <td>20000.00</td>\n",
              "      <td>20000.0</td>\n",
              "    </tr>\n",
              "    <tr>\n",
              "      <th>HR</th>\n",
              "      <td>1.0</td>\n",
              "      <td>45618.00</td>\n",
              "      <td>NaN</td>\n",
              "      <td>45618.0</td>\n",
              "      <td>45618.00</td>\n",
              "      <td>45618.0</td>\n",
              "      <td>45618.00</td>\n",
              "      <td>45618.0</td>\n",
              "    </tr>\n",
              "    <tr>\n",
              "      <th>HU</th>\n",
              "      <td>1.0</td>\n",
              "      <td>35735.00</td>\n",
              "      <td>NaN</td>\n",
              "      <td>35735.0</td>\n",
              "      <td>35735.00</td>\n",
              "      <td>35735.0</td>\n",
              "      <td>35735.00</td>\n",
              "      <td>35735.0</td>\n",
              "    </tr>\n",
              "    <tr>\n",
              "      <th>IE</th>\n",
              "      <td>1.0</td>\n",
              "      <td>71444.00</td>\n",
              "      <td>NaN</td>\n",
              "      <td>71444.0</td>\n",
              "      <td>71444.00</td>\n",
              "      <td>71444.0</td>\n",
              "      <td>71444.00</td>\n",
              "      <td>71444.0</td>\n",
              "    </tr>\n",
              "    <tr>\n",
              "      <th>IL</th>\n",
              "      <td>1.0</td>\n",
              "      <td>119059.00</td>\n",
              "      <td>NaN</td>\n",
              "      <td>119059.0</td>\n",
              "      <td>119059.00</td>\n",
              "      <td>119059.0</td>\n",
              "      <td>119059.00</td>\n",
              "      <td>119059.0</td>\n",
              "    </tr>\n",
              "    <tr>\n",
              "      <th>IN</th>\n",
              "      <td>24.0</td>\n",
              "      <td>28581.75</td>\n",
              "      <td>22697.67</td>\n",
              "      <td>5409.0</td>\n",
              "      <td>16735.00</td>\n",
              "      <td>22124.0</td>\n",
              "      <td>32163.25</td>\n",
              "      <td>94665.0</td>\n",
              "    </tr>\n",
              "    <tr>\n",
              "      <th>IQ</th>\n",
              "      <td>1.0</td>\n",
              "      <td>100000.00</td>\n",
              "      <td>NaN</td>\n",
              "      <td>100000.0</td>\n",
              "      <td>100000.00</td>\n",
              "      <td>100000.0</td>\n",
              "      <td>100000.00</td>\n",
              "      <td>100000.0</td>\n",
              "    </tr>\n",
              "    <tr>\n",
              "      <th>IR</th>\n",
              "      <td>1.0</td>\n",
              "      <td>4000.00</td>\n",
              "      <td>NaN</td>\n",
              "      <td>4000.0</td>\n",
              "      <td>4000.00</td>\n",
              "      <td>4000.0</td>\n",
              "      <td>4000.00</td>\n",
              "      <td>4000.0</td>\n",
              "    </tr>\n",
              "    <tr>\n",
              "      <th>IT</th>\n",
              "      <td>2.0</td>\n",
              "      <td>36366.50</td>\n",
              "      <td>20785.40</td>\n",
              "      <td>21669.0</td>\n",
              "      <td>29017.75</td>\n",
              "      <td>36366.5</td>\n",
              "      <td>43715.25</td>\n",
              "      <td>51064.0</td>\n",
              "    </tr>\n",
              "    <tr>\n",
              "      <th>JP</th>\n",
              "      <td>6.0</td>\n",
              "      <td>114127.33</td>\n",
              "      <td>83584.64</td>\n",
              "      <td>41689.0</td>\n",
              "      <td>66283.25</td>\n",
              "      <td>75682.0</td>\n",
              "      <td>145341.00</td>\n",
              "      <td>260000.0</td>\n",
              "    </tr>\n",
              "    <tr>\n",
              "      <th>KE</th>\n",
              "      <td>1.0</td>\n",
              "      <td>9272.00</td>\n",
              "      <td>NaN</td>\n",
              "      <td>9272.0</td>\n",
              "      <td>9272.00</td>\n",
              "      <td>9272.0</td>\n",
              "      <td>9272.00</td>\n",
              "      <td>9272.0</td>\n",
              "    </tr>\n",
              "    <tr>\n",
              "      <th>LU</th>\n",
              "      <td>3.0</td>\n",
              "      <td>43942.67</td>\n",
              "      <td>29451.01</td>\n",
              "      <td>10000.0</td>\n",
              "      <td>34551.00</td>\n",
              "      <td>59102.0</td>\n",
              "      <td>60914.00</td>\n",
              "      <td>62726.0</td>\n",
              "    </tr>\n",
              "    <tr>\n",
              "      <th>MD</th>\n",
              "      <td>1.0</td>\n",
              "      <td>18000.00</td>\n",
              "      <td>NaN</td>\n",
              "      <td>18000.0</td>\n",
              "      <td>18000.00</td>\n",
              "      <td>18000.0</td>\n",
              "      <td>18000.00</td>\n",
              "      <td>18000.0</td>\n",
              "    </tr>\n",
              "    <tr>\n",
              "      <th>MT</th>\n",
              "      <td>1.0</td>\n",
              "      <td>28369.00</td>\n",
              "      <td>NaN</td>\n",
              "      <td>28369.0</td>\n",
              "      <td>28369.00</td>\n",
              "      <td>28369.0</td>\n",
              "      <td>28369.00</td>\n",
              "      <td>28369.0</td>\n",
              "    </tr>\n",
              "    <tr>\n",
              "      <th>MX</th>\n",
              "      <td>3.0</td>\n",
              "      <td>32123.33</td>\n",
              "      <td>28595.76</td>\n",
              "      <td>2859.0</td>\n",
              "      <td>18185.00</td>\n",
              "      <td>33511.0</td>\n",
              "      <td>46755.50</td>\n",
              "      <td>60000.0</td>\n",
              "    </tr>\n",
              "    <tr>\n",
              "      <th>MY</th>\n",
              "      <td>1.0</td>\n",
              "      <td>40000.00</td>\n",
              "      <td>NaN</td>\n",
              "      <td>40000.0</td>\n",
              "      <td>40000.00</td>\n",
              "      <td>40000.0</td>\n",
              "      <td>40000.00</td>\n",
              "      <td>40000.0</td>\n",
              "    </tr>\n",
              "    <tr>\n",
              "      <th>NG</th>\n",
              "      <td>2.0</td>\n",
              "      <td>30000.00</td>\n",
              "      <td>28284.27</td>\n",
              "      <td>10000.0</td>\n",
              "      <td>20000.00</td>\n",
              "      <td>30000.0</td>\n",
              "      <td>40000.00</td>\n",
              "      <td>50000.0</td>\n",
              "    </tr>\n",
              "    <tr>\n",
              "      <th>NL</th>\n",
              "      <td>4.0</td>\n",
              "      <td>54945.75</td>\n",
              "      <td>13381.03</td>\n",
              "      <td>42000.0</td>\n",
              "      <td>44543.25</td>\n",
              "      <td>54021.0</td>\n",
              "      <td>64423.50</td>\n",
              "      <td>69741.0</td>\n",
              "    </tr>\n",
              "    <tr>\n",
              "      <th>NZ</th>\n",
              "      <td>1.0</td>\n",
              "      <td>125000.00</td>\n",
              "      <td>NaN</td>\n",
              "      <td>125000.0</td>\n",
              "      <td>125000.00</td>\n",
              "      <td>125000.0</td>\n",
              "      <td>125000.00</td>\n",
              "      <td>125000.0</td>\n",
              "    </tr>\n",
              "    <tr>\n",
              "      <th>PK</th>\n",
              "      <td>3.0</td>\n",
              "      <td>13333.33</td>\n",
              "      <td>6110.10</td>\n",
              "      <td>8000.0</td>\n",
              "      <td>10000.00</td>\n",
              "      <td>12000.0</td>\n",
              "      <td>16000.00</td>\n",
              "      <td>20000.0</td>\n",
              "    </tr>\n",
              "    <tr>\n",
              "      <th>PL</th>\n",
              "      <td>4.0</td>\n",
              "      <td>66082.50</td>\n",
              "      <td>58863.60</td>\n",
              "      <td>28476.0</td>\n",
              "      <td>33811.50</td>\n",
              "      <td>41093.5</td>\n",
              "      <td>73364.50</td>\n",
              "      <td>153667.0</td>\n",
              "    </tr>\n",
              "    <tr>\n",
              "      <th>PT</th>\n",
              "      <td>4.0</td>\n",
              "      <td>47793.75</td>\n",
              "      <td>17789.25</td>\n",
              "      <td>21983.0</td>\n",
              "      <td>43130.75</td>\n",
              "      <td>54217.5</td>\n",
              "      <td>58880.50</td>\n",
              "      <td>60757.0</td>\n",
              "    </tr>\n",
              "    <tr>\n",
              "      <th>RO</th>\n",
              "      <td>1.0</td>\n",
              "      <td>60000.00</td>\n",
              "      <td>NaN</td>\n",
              "      <td>60000.0</td>\n",
              "      <td>60000.00</td>\n",
              "      <td>60000.0</td>\n",
              "      <td>60000.00</td>\n",
              "      <td>60000.0</td>\n",
              "    </tr>\n",
              "    <tr>\n",
              "      <th>RU</th>\n",
              "      <td>2.0</td>\n",
              "      <td>157500.00</td>\n",
              "      <td>102530.48</td>\n",
              "      <td>85000.0</td>\n",
              "      <td>121250.00</td>\n",
              "      <td>157500.0</td>\n",
              "      <td>193750.00</td>\n",
              "      <td>230000.0</td>\n",
              "    </tr>\n",
              "    <tr>\n",
              "      <th>SG</th>\n",
              "      <td>1.0</td>\n",
              "      <td>89294.00</td>\n",
              "      <td>NaN</td>\n",
              "      <td>89294.0</td>\n",
              "      <td>89294.00</td>\n",
              "      <td>89294.0</td>\n",
              "      <td>89294.00</td>\n",
              "      <td>89294.0</td>\n",
              "    </tr>\n",
              "    <tr>\n",
              "      <th>SI</th>\n",
              "      <td>2.0</td>\n",
              "      <td>63831.00</td>\n",
              "      <td>55165.64</td>\n",
              "      <td>24823.0</td>\n",
              "      <td>44327.00</td>\n",
              "      <td>63831.0</td>\n",
              "      <td>83335.00</td>\n",
              "      <td>102839.0</td>\n",
              "    </tr>\n",
              "    <tr>\n",
              "      <th>TR</th>\n",
              "      <td>3.0</td>\n",
              "      <td>20096.67</td>\n",
              "      <td>7956.76</td>\n",
              "      <td>12103.0</td>\n",
              "      <td>16137.00</td>\n",
              "      <td>20171.0</td>\n",
              "      <td>24093.50</td>\n",
              "      <td>28016.0</td>\n",
              "    </tr>\n",
              "    <tr>\n",
              "      <th>UA</th>\n",
              "      <td>1.0</td>\n",
              "      <td>13400.00</td>\n",
              "      <td>NaN</td>\n",
              "      <td>13400.0</td>\n",
              "      <td>13400.00</td>\n",
              "      <td>13400.0</td>\n",
              "      <td>13400.00</td>\n",
              "      <td>13400.0</td>\n",
              "    </tr>\n",
              "    <tr>\n",
              "      <th>US</th>\n",
              "      <td>318.0</td>\n",
              "      <td>144292.99</td>\n",
              "      <td>72524.34</td>\n",
              "      <td>5679.0</td>\n",
              "      <td>100000.00</td>\n",
              "      <td>135000.0</td>\n",
              "      <td>173000.00</td>\n",
              "      <td>600000.0</td>\n",
              "    </tr>\n",
              "    <tr>\n",
              "      <th>VN</th>\n",
              "      <td>1.0</td>\n",
              "      <td>4000.00</td>\n",
              "      <td>NaN</td>\n",
              "      <td>4000.0</td>\n",
              "      <td>4000.00</td>\n",
              "      <td>4000.0</td>\n",
              "      <td>4000.00</td>\n",
              "      <td>4000.0</td>\n",
              "    </tr>\n",
              "  </tbody>\n",
              "</table>\n",
              "</div>"
            ],
            "text/plain": [
              "                  count       mean        std       min        25%       50%  \\\n",
              "company_location                                                               \n",
              "AE                  3.0  100000.00   30413.81   65000.0   90000.00  115000.0   \n",
              "AS                  1.0   18053.00        NaN   18053.0   18053.00   18053.0   \n",
              "AT                  4.0   72920.75   13332.78   61467.0   64003.50   69489.5   \n",
              "AU                  3.0  108042.67   36337.91   86703.0   87064.00   87425.0   \n",
              "BE                  2.0   85699.00    4179.00   82744.0   84221.50   85699.0   \n",
              "BR                  3.0   18602.67    5555.76   12901.0   15904.00   18907.0   \n",
              "CA                 28.0  100121.86   47080.71   52000.0   70518.00   81895.5   \n",
              "CH                  2.0   64114.00   82352.48    5882.0   34998.00   64114.0   \n",
              "CL                  1.0   40038.00        NaN   40038.0   40038.00   40038.0   \n",
              "CN                  2.0   71665.50   40071.03   43331.0   57498.25   71665.5   \n",
              "CO                  1.0   21844.00        NaN   21844.0   21844.00   21844.0   \n",
              "CZ                  2.0   50937.00   26957.74   31875.0   41406.00   50937.0   \n",
              "DE                 27.0   81559.56   39903.44   15966.0   58669.00   76833.0   \n",
              "DK                  3.0   54386.33   30909.79   28609.0   37252.50   45896.0   \n",
              "DZ                  1.0  100000.00        NaN  100000.0  100000.00  100000.0   \n",
              "EE                  1.0   32974.00        NaN   32974.0   32974.00   32974.0   \n",
              "ES                 14.0   53060.14   21090.92   10354.0   40073.50   48371.5   \n",
              "FR                 15.0   63970.67   28679.63   36643.0   48202.50   56738.0   \n",
              "GB                 46.0   81649.50   29846.70   37300.0   56915.50   78526.0   \n",
              "GR                 10.0   52026.70   20357.15   20000.0   41133.25   48680.0   \n",
              "HN                  1.0   20000.00        NaN   20000.0   20000.00   20000.0   \n",
              "HR                  1.0   45618.00        NaN   45618.0   45618.00   45618.0   \n",
              "HU                  1.0   35735.00        NaN   35735.0   35735.00   35735.0   \n",
              "IE                  1.0   71444.00        NaN   71444.0   71444.00   71444.0   \n",
              "IL                  1.0  119059.00        NaN  119059.0  119059.00  119059.0   \n",
              "IN                 24.0   28581.75   22697.67    5409.0   16735.00   22124.0   \n",
              "IQ                  1.0  100000.00        NaN  100000.0  100000.00  100000.0   \n",
              "IR                  1.0    4000.00        NaN    4000.0    4000.00    4000.0   \n",
              "IT                  2.0   36366.50   20785.40   21669.0   29017.75   36366.5   \n",
              "JP                  6.0  114127.33   83584.64   41689.0   66283.25   75682.0   \n",
              "KE                  1.0    9272.00        NaN    9272.0    9272.00    9272.0   \n",
              "LU                  3.0   43942.67   29451.01   10000.0   34551.00   59102.0   \n",
              "MD                  1.0   18000.00        NaN   18000.0   18000.00   18000.0   \n",
              "MT                  1.0   28369.00        NaN   28369.0   28369.00   28369.0   \n",
              "MX                  3.0   32123.33   28595.76    2859.0   18185.00   33511.0   \n",
              "MY                  1.0   40000.00        NaN   40000.0   40000.00   40000.0   \n",
              "NG                  2.0   30000.00   28284.27   10000.0   20000.00   30000.0   \n",
              "NL                  4.0   54945.75   13381.03   42000.0   44543.25   54021.0   \n",
              "NZ                  1.0  125000.00        NaN  125000.0  125000.00  125000.0   \n",
              "PK                  3.0   13333.33    6110.10    8000.0   10000.00   12000.0   \n",
              "PL                  4.0   66082.50   58863.60   28476.0   33811.50   41093.5   \n",
              "PT                  4.0   47793.75   17789.25   21983.0   43130.75   54217.5   \n",
              "RO                  1.0   60000.00        NaN   60000.0   60000.00   60000.0   \n",
              "RU                  2.0  157500.00  102530.48   85000.0  121250.00  157500.0   \n",
              "SG                  1.0   89294.00        NaN   89294.0   89294.00   89294.0   \n",
              "SI                  2.0   63831.00   55165.64   24823.0   44327.00   63831.0   \n",
              "TR                  3.0   20096.67    7956.76   12103.0   16137.00   20171.0   \n",
              "UA                  1.0   13400.00        NaN   13400.0   13400.00   13400.0   \n",
              "US                318.0  144292.99   72524.34    5679.0  100000.00  135000.0   \n",
              "VN                  1.0    4000.00        NaN    4000.0    4000.00    4000.0   \n",
              "\n",
              "                        75%       max  \n",
              "company_location                       \n",
              "AE                117500.00  120000.0  \n",
              "AS                 18053.00   18053.0  \n",
              "AT                 78406.75   91237.0  \n",
              "AU                118712.50  150000.0  \n",
              "BE                 87176.50   88654.0  \n",
              "BR                 21453.50   24000.0  \n",
              "CA                117374.75  225000.0  \n",
              "CH                 93230.00  122346.0  \n",
              "CL                 40038.00   40038.0  \n",
              "CN                 85832.75  100000.0  \n",
              "CO                 21844.00   21844.0  \n",
              "CZ                 60468.00   69999.0  \n",
              "DE                 89694.00  173762.0  \n",
              "DK                 67275.00   88654.0  \n",
              "DZ                100000.00  100000.0  \n",
              "EE                 32974.00   32974.0  \n",
              "ES                 68793.00   87932.0  \n",
              "FR                 69143.00  152000.0  \n",
              "GB                104316.50  183228.0  \n",
              "GR                 63201.00   87932.0  \n",
              "HN                 20000.00   20000.0  \n",
              "HR                 45618.00   45618.0  \n",
              "HU                 35735.00   35735.0  \n",
              "IE                 71444.00   71444.0  \n",
              "IL                119059.00  119059.0  \n",
              "IN                 32163.25   94665.0  \n",
              "IQ                100000.00  100000.0  \n",
              "IR                  4000.00    4000.0  \n",
              "IT                 43715.25   51064.0  \n",
              "JP                145341.00  260000.0  \n",
              "KE                  9272.00    9272.0  \n",
              "LU                 60914.00   62726.0  \n",
              "MD                 18000.00   18000.0  \n",
              "MT                 28369.00   28369.0  \n",
              "MX                 46755.50   60000.0  \n",
              "MY                 40000.00   40000.0  \n",
              "NG                 40000.00   50000.0  \n",
              "NL                 64423.50   69741.0  \n",
              "NZ                125000.00  125000.0  \n",
              "PK                 16000.00   20000.0  \n",
              "PL                 73364.50  153667.0  \n",
              "PT                 58880.50   60757.0  \n",
              "RO                 60000.00   60000.0  \n",
              "RU                193750.00  230000.0  \n",
              "SG                 89294.00   89294.0  \n",
              "SI                 83335.00  102839.0  \n",
              "TR                 24093.50   28016.0  \n",
              "UA                 13400.00   13400.0  \n",
              "US                173000.00  600000.0  \n",
              "VN                  4000.00    4000.0  "
            ]
          },
          "execution_count": 29,
          "metadata": {},
          "output_type": "execute_result"
        }
      ],
      "source": [
        "data_agg = df_salaries_1.groupby(\"company_location\")[\"salary_in_usd\"].describe().round(2)\n",
        "print(\"Распределение зарпатных выплат в зависимости от местонахождения компаний\")\n",
        "data_agg"
      ]
    },
    {
      "cell_type": "code",
      "execution_count": 30,
      "metadata": {},
      "outputs": [
        {
          "data": {
            "image/png": "[encoded data removed]",
            "text/plain": [
              "<Figure size 1500x1000 with 1 Axes>"
            ]
          },
          "metadata": {},
          "output_type": "display_data"
        }
      ],
      "source": [
        "ax = plt.figure(figsize=(15,10))\n",
        "ax = sns.boxplot(df_salaries_1, x=\"salary_in_usd\", y=\"company_location\", orient=\"h\", medianprops={\"color\": \"red\", \"linestyle\": \"--\"})\n",
        "ax.set(xlabel=\"Размер зарплатных выплат\", ylabel=\"Страна\")\n",
        "plt.title(\"Распределение зарплатных выплат в зависимости от местонахождения компаний\")\n",
        "plt.show()"
      ]
    },
    {
      "cell_type": "markdown",
      "metadata": {},
      "source": [
        "Распределения зарплатных выплат в зависимости от местонахождения компаний имеют отличия. Чтобы определить, являются ли эти отличия статистически значимыми, необходимо провести статистическое тестирование."
      ]
    },
    {
      "cell_type": "markdown",
      "metadata": {},
      "source": [
        "Далее, перейдем к статистическому анализу данных."
      ]
    },
    {
      "cell_type": "markdown",
      "metadata": {
        "id": "-UcttLBPfd8-"
      },
      "source": [
        "##### **2.2. Статистический анализ данных**"
      ]
    },
    {
      "cell_type": "code",
      "execution_count": 31,
      "metadata": {
        "id": "sn3PGE23l7Ze"
      },
      "outputs": [],
      "source": [
        "# Функция для принятия решения о нормальности\n",
        "def decision_normality(p):\n",
        "    print(\"p-value = {:.3f}\".format(p))\n",
        "    if p <= alpha:\n",
        "        print(\"p-значение меньше, чем заданный уровень значимости {:.2f}. Распределение отлично от нормального\".format(alpha))\n",
        "    else:\n",
        "        print(\"p-значение больше, чем заданный уровень значимости {:.2f}. Распределение является нормальным\".format(alpha))\n",
        "\n",
        "\n",
        "# Функция для принятия решения об отклонении нулевой гипотезы\n",
        "def decision_hypothesis(p):\n",
        "    print(\"p-value = {:.3f}\".format(p))\n",
        "    if p <= alpha:\n",
        "        print(\"p-значение меньше, чем заданный уровень значимости {:.2f}. Отвергаем нулевую гипотезу в пользу альтернативной.\".format(alpha))\n",
        "    else:\n",
        "        print(\"p-значение больше, чем заданный уровень значимости {:.2f}. У нас нет оснований отвергнуть нулевую гипотезу.\".format(alpha))"
      ]
    },
    {
      "cell_type": "markdown",
      "metadata": {},
      "source": [
        "##### **1. Наблюдается ли ежегодный рост зарплат у специалистов *Data Scientist*?**"
      ]
    },
    {
      "cell_type": "markdown",
      "metadata": {
        "id": "ByITCYyXGKb4"
      },
      "source": [
        "**Сформулируем нулевую и альтернативные гипотезы:**\n",
        "\n",
        "* *Нулевая гипотеза ($H_0$)*: средний размер заработных выплат специалистов *Data Scientist* в 2020 ($μ_1$), в 2021 ($μ_2$) и в 2022 годах ($μ_3$) *<u>не отличается</u>:*\n",
        "\n",
        "$$ H_0 : μ_1 = μ_2 = μ_3$$\n",
        "\n",
        "* *Альтернативная гипотеза ($H_1$)*: средний размер заработных выплат специалистов *Data Scientist* в 2020 ($μ_1$), в 2021 ($μ_2$) и в 2022 годах ($μ_3$) *<u>отличается</u>:*\n",
        "\n",
        "$$ H_0 : μ_1 ≠ μ_2 ≠ μ_3 $$"
      ]
    },
    {
      "cell_type": "markdown",
      "metadata": {
        "id": "dPXLUo31l7Zg"
      },
      "source": [
        "**Проверка на нормальность:**\n",
        "\n",
        "С помощью теста Шапиро-Уилка проверим, распределен ли признак нормально. Напомним гипотезы теста Шапиро-Уилка:\n",
        "\n",
        "* *Нулевая гипотеза* ($H_0$): распределение данных является нормальным.\n",
        "\n",
        "* *Альтернативная гипотеза* ($H_1$): распределение данных отлично от нормального."
      ]
    },
    {
      "cell_type": "code",
      "execution_count": 32,
      "metadata": {},
      "outputs": [
        {
          "name": "stdout",
          "output_type": "stream",
          "text": [
            "Для специалистов Data Scientist в 2020 году:\n",
            "p-value = 0.000\n",
            "p-значение меньше, чем заданный уровень значимости 0.05. Распределение отлично от нормального\n",
            "Для специалистов Data Scientist в 2021 году:\n",
            "p-value = 0.107\n",
            "p-значение больше, чем заданный уровень значимости 0.05. Распределение является нормальным\n",
            "Для специалистов Data Scientist в 2022 году:\n",
            "p-value = 0.676\n",
            "p-значение больше, чем заданный уровень значимости 0.05. Распределение является нормальным\n"
          ]
        }
      ],
      "source": [
        "# Значения зарплатных выплат\n",
        "data_scientist = df_salaries_1[(df_salaries_1[\"job_title\"] == \"Data Scientist\") & (df_salaries_1[\"work_year\"].isin([2020]))]\n",
        "year_2020 = data_scientist.loc[data_scientist[\"work_year\"]==2020, \"salary_in_usd\"]\n",
        "\n",
        "data_scientist = df_salaries_1[(df_salaries_1[\"job_title\"] == \"Data Scientist\") & (df_salaries_1[\"work_year\"].isin([2021]))]\n",
        "year_2021 = data_scientist.loc[data_scientist[\"work_year\"]==2021, \"salary_in_usd\"]\n",
        "\n",
        "data_scientist = df_salaries_1[(df_salaries_1[\"job_title\"] == \"Data Scientist\") & (df_salaries_1[\"work_year\"].isin([2022]))]\n",
        "year_2022 = data_scientist.loc[data_scientist[\"work_year\"]==2022, \"salary_in_usd\"]\n",
        "\n",
        "# Проводим тест Шапиро-Уилка\n",
        "print(\"Для специалистов Data Scientist в 2020 году:\")\n",
        "result = stats.shapiro(year_2020)\n",
        "decision_normality(result[1])\n",
        "\n",
        "print(\"Для специалистов Data Scientist в 2021 году:\")\n",
        "result = stats.shapiro(year_2021)\n",
        "decision_normality(result[1])\n",
        "\n",
        "print(\"Для специалистов Data Scientist в 2022 году:\")\n",
        "result = stats.shapiro(year_2022)\n",
        "decision_normality(result[1])"
      ]
    },
    {
      "cell_type": "markdown",
      "metadata": {},
      "source": [
        "**Выберем подходящий статистический тест:**\n",
        "\n",
        "Для выбора нужного теста воспользуемся алгоритмом выбора теста. Для этого ответим на следующие вопросы:\n",
        "\n",
        "* Какой тип у признака «Размер зарплатных выплат»? - Количественный.\n",
        "* Сколько сравниваемых групп? - Три.\n",
        "* Группы зависимы? - Нет.\n",
        "* Признак распределён по нормальному закону? - Нет.\n",
        "\n",
        "Чтобы проверить нашу гипотезу, можно использовать *критерий Краскела - Уоллиса*.\n",
        "\n",
        "**Проведём тест:**"
      ]
    },
    {
      "cell_type": "code",
      "execution_count": 33,
      "metadata": {},
      "outputs": [
        {
          "name": "stdout",
          "output_type": "stream",
          "text": [
            "p-value = 0.000\n",
            "p-значение меньше, чем заданный уровень значимости 0.05. Отвергаем нулевую гипотезу в пользу альтернативной.\n"
          ]
        }
      ],
      "source": [
        "# Проводим тест\n",
        "_, p = stats.kruskal(year_2020, year_2021, year_2022)\n",
        "decision_hypothesis(p)"
      ]
    },
    {
      "cell_type": "markdown",
      "metadata": {},
      "source": [
        "**Вывод:**\n",
        "\n",
        "Отвергаем нулевую гипотезу в пользу альтернативной. Cредний размер заработных выплат специалистов *Data Scientist* в 2020, в 2021 и в 2022 годах отличается, а именно растет из года в год, соответственно, статистическая значимость гипотезы подтверждена."
      ]
    },
    {
      "cell_type": "markdown",
      "metadata": {},
      "source": [
        "##### **2. Как соотносятся зарплаты *Data Scientist* и *Data Engineer* в 2022 году?**"
      ]
    },
    {
      "cell_type": "markdown",
      "metadata": {},
      "source": [
        "**Сформулируем нулевую и альтернативные гипотезы:**\n",
        "\n",
        "* *Нулевая гипотеза ($H_0$)*: размер зарплат специалистов *Data Scientist* ($μ_1$) статистически меньше или равен размеру зарплат специалистов *Data Engineer* ($μ_2$) в 2022 году.\n",
        "\n",
        "$$ H_0 : μ_1 ≤ μ_2$$\n",
        "\n",
        "* *Альтернативная гипотеза ($H_1$)*: размер зарплат специалистов *Data Scientist* ($μ_1$) статистически больше размера зарплат специалистов *Data Engineer* ($μ_2$) в 2022 году.\n",
        "\n",
        "$$ H_1 : μ_1 > μ_2$$"
      ]
    },
    {
      "cell_type": "markdown",
      "metadata": {},
      "source": [
        "**Проверка на нормальность:**\n",
        "\n",
        "С помощью теста Шапиро-Уилка проверим, распределен ли признак нормально. Напомним гипотезы теста Шапиро-Уилка:\n",
        "\n",
        "* *Нулевая гипотеза* ($H_0$): распределение данных является нормальным.\n",
        "\n",
        "* *Альтернативная гипотеза* ($H_1$): распределение данных отлично от нормального."
      ]
    },
    {
      "cell_type": "code",
      "execution_count": 34,
      "metadata": {},
      "outputs": [
        {
          "name": "stdout",
          "output_type": "stream",
          "text": [
            "Для специалистов Data Scientist в 2022 году:\n",
            "p-value = 0.676\n",
            "p-значение больше, чем заданный уровень значимости 0.05. Распределение является нормальным\n",
            "Для специалистов Data Engineer в 2022 году:\n",
            "p-value = 0.007\n",
            "p-значение меньше, чем заданный уровень значимости 0.05. Распределение отлично от нормального\n"
          ]
        }
      ],
      "source": [
        "# Значения зарплатных выплат\n",
        "data_scientist = df_salaries_1[(df_salaries_1[\"job_title\"] == \"Data Scientist\") & (df_salaries[\"work_year\"].isin([2022]))]\n",
        "salary_ds = data_scientist.loc[data_scientist[\"work_year\"]==2022, \"salary_in_usd\"]\n",
        "\n",
        "data_engineer = df_salaries_1[(df_salaries_1[\"job_title\"] == \"Data Engineer\") & (df_salaries[\"work_year\"].isin([2022]))]\n",
        "salary_de = data_engineer.loc[data_engineer[\"work_year\"]==2022, \"salary_in_usd\"]\n",
        "\n",
        "# Проводим тест Шапиро-Уилка\n",
        "print(\"Для специалистов Data Scientist в 2022 году:\")\n",
        "result = stats.shapiro(salary_ds)\n",
        "decision_normality(result[1])\n",
        "\n",
        "print(\"Для специалистов Data Engineer в 2022 году:\")\n",
        "result = stats.shapiro(salary_de)\n",
        "decision_normality(result[1])"
      ]
    },
    {
      "cell_type": "markdown",
      "metadata": {},
      "source": [
        "**Выберем подходящий статистический тест:**\n",
        "\n",
        "Для выбора нужного теста воспользуемся алгоритмом выбора теста. Для этого ответим на следующие вопросы:\n",
        "\n",
        "* Какой тип у признака «Размер зарплатных выплат»? - Количественный.\n",
        "* Сколько сравниваемых групп? - Две.\n",
        "* Группы зависимы? - Нет.\n",
        "* Признак распределён по нормальному закону? - Нет.\n",
        "\n",
        "Чтобы проверить нашу гипотезу, можно использовать *U-КРИТЕРИЙ МАННА - УИТНИ*.\n",
        "\n",
        "**Проведем тест:**"
      ]
    },
    {
      "cell_type": "code",
      "execution_count": 37,
      "metadata": {},
      "outputs": [
        {
          "name": "stdout",
          "output_type": "stream",
          "text": [
            "p-value = 0.160\n",
            "p-значение больше, чем заданный уровень значимости 0.05. У нас нет оснований отвергнуть нулевую гипотезу.\n"
          ]
        }
      ],
      "source": [
        "# Проводим тест\n",
        "_, p = stats.mannwhitneyu(salary_ds, salary_de, alternative=\"greater\")\n",
        "decision_hypothesis(p)"
      ]
    },
    {
      "cell_type": "markdown",
      "metadata": {},
      "source": [
        "**Вывод:**\n",
        "\n",
        "У нас нет оснований отвергнуть нулевую гипотезу, а значит размер зарплат специалистов *Data Scientist* статистически меньше или равен размеру зарплат специалистов *Data Engineer* в 2022 году."
      ]
    },
    {
      "cell_type": "markdown",
      "metadata": {},
      "source": [
        "##### **3. Как соотносятся зарплаты специалистов *Data Scientist* в компаниях различных размеров?**"
      ]
    },
    {
      "cell_type": "markdown",
      "metadata": {},
      "source": [
        "**Сформулируем нулевую и альтернативные гипотезы:**\n",
        "\n",
        "* *Нулевая гипотеза ($H_0$)*: размер зарплат специалистов *Data Scientist* в зависимости от размера маленьких ($μ_1$), средних ($μ_2$) и больших ($μ_3$) компаний *<u>не отличается</u>.*\n",
        "\n",
        "$$ H_0 : μ_1 = μ_2 = μ_3 $$\n",
        "\n",
        "* *Альтернативная гипотеза ($H_1$)*: размер зарплат специалистов *Data Scientist* в зависимости от размера маленьких ($μ_1$), средних ($μ_2$) и больших ($μ_3$) компаний *<u>отличается</u>.*\n",
        "\n",
        "$$ H_0 : μ_1 ≠ μ_2 ≠ μ_3 $$"
      ]
    },
    {
      "cell_type": "markdown",
      "metadata": {},
      "source": [
        "**Проверка на нормальность:**\n",
        "\n",
        "С помощью теста Шапиро-Уилка проверим, распределен ли признак нормально. Напомним гипотезы теста Шапиро-Уилка:\n",
        "\n",
        "* *Нулевая гипотеза* ($H_0$): распределение данных является нормальным.\n",
        "\n",
        "* *Альтернативная гипотеза* ($H_1$): распределение данных отлично от нормального."
      ]
    },
    {
      "cell_type": "code",
      "execution_count": 38,
      "metadata": {},
      "outputs": [
        {
          "name": "stdout",
          "output_type": "stream",
          "text": [
            "Для маленьких компаний:\n",
            "p-value = 0.189\n",
            "p-значение больше, чем заданный уровень значимости 0.05. Распределение является нормальным\n",
            "Для средних компаний:\n",
            "p-value = 0.897\n",
            "p-значение больше, чем заданный уровень значимости 0.05. Распределение является нормальным\n",
            "Для крупных компаний:\n",
            "p-value = 0.000\n",
            "p-значение меньше, чем заданный уровень значимости 0.05. Распределение отлично от нормального\n"
          ]
        }
      ],
      "source": [
        "# Значения зарплатных выплат\n",
        "data_scientist = df_salaries_1[(df_salaries_1[\"job_title\"] == \"Data Scientist\")]\n",
        "company_small = data_scientist.loc[data_scientist[\"company_size\"]==\"S\", \"salary_in_usd\"]\n",
        "company_medium = data_scientist.loc[data_scientist[\"company_size\"]==\"M\", \"salary_in_usd\"]\n",
        "company_large = data_scientist.loc[data_scientist[\"company_size\"]==\"L\", \"salary_in_usd\"]\n",
        "\n",
        "# Проводим тест Шапиро-Уилка\n",
        "print(\"Для маленьких компаний:\")\n",
        "result = stats.shapiro(company_small)\n",
        "decision_normality(result[1])\n",
        "\n",
        "print(\"Для средних компаний:\")\n",
        "result = stats.shapiro(company_medium)\n",
        "decision_normality(result[1])\n",
        "\n",
        "print(\"Для крупных компаний:\")\n",
        "result = stats.shapiro(company_large)\n",
        "decision_normality(result[1])"
      ]
    },
    {
      "cell_type": "markdown",
      "metadata": {},
      "source": [
        "**Выберем подходящий статистический тест:**\n",
        "\n",
        "Для выбора нужного теста воспользуемся алгоритмом выбора теста. Для этого ответим на следующие вопросы:\n",
        "\n",
        "* Какой тип у признака «Размер компаний»? - Количественный.\n",
        "* Сколько сравниваемых групп? - Три.\n",
        "* Группы зависимы? - Нет.\n",
        "* Признак распределён по нормальному закону? - Нет.\n",
        "\n",
        "Чтобы проверить нашу гипотезу, можно использовать *критерий Краскела - Уоллиса*.\n",
        "\n",
        "**Проведём тест:**"
      ]
    },
    {
      "cell_type": "code",
      "execution_count": 39,
      "metadata": {},
      "outputs": [
        {
          "name": "stdout",
          "output_type": "stream",
          "text": [
            "p-value = 0.000\n",
            "p-значение меньше, чем заданный уровень значимости 0.05. Отвергаем нулевую гипотезу в пользу альтернативной.\n"
          ]
        }
      ],
      "source": [
        "# Проводим тест\n",
        "_, p = stats.kruskal(company_small, company_medium, company_large)\n",
        "decision_hypothesis(p)"
      ]
    },
    {
      "cell_type": "markdown",
      "metadata": {},
      "source": [
        "**Вывод:**\n",
        "\n",
        "Отвергаем нулевую гипотезу в пользу альтернативной, а значит размер зарплат специалистов *Data Scientist* в зависимости от размера компаний *<u>отличается</u>.*"
      ]
    },
    {
      "cell_type": "markdown",
      "metadata": {},
      "source": [
        "##### **4. Есть ли связь между наличием должностей *Data Scientist* и *Data Engineer* и размером компании?**"
      ]
    },
    {
      "cell_type": "markdown",
      "metadata": {},
      "source": [
        "**Сформулируем нулевую и альтернативные гипотезы:**\n",
        "\n",
        "* *Нулевая гипотеза*: между специалистами *Data Scientist* и *Data Engineer* и размером компании нет взаимосвязи - *<u>признаки независимы</u>*.\n",
        "\n",
        "* *Альтернативная гипотеза*: между специалистами *Data Scientist* и *Data Engineer* и размером компании есть взаимосвязь - *<u>признаки взаимосвязаны</u>*."
      ]
    },
    {
      "cell_type": "markdown",
      "metadata": {},
      "source": [
        "**Выберем подходящий статистический тест:**\n",
        "\n",
        "Для выбора нужного теста воспользуемся алгоритмом выбора теста. Для этого ответим на следующие вопросы:\n",
        "\n",
        "* Какой тип у признака «Специалист»? - Категориальный.\n",
        "* Сколько сравниваемых групп? - Две.\n",
        "* Проверяется независимость групп? - Да.\n",
        "\n",
        "Для проверки нашей гипотезы можно использовать *Критерий хи-квадрат*."
      ]
    },
    {
      "cell_type": "code",
      "execution_count": 40,
      "metadata": {},
      "outputs": [
        {
          "data": {
            "text/html": [
              "<div>\n",
              "<style scoped>\n",
              "    .dataframe tbody tr th:only-of-type {\n",
              "        vertical-align: middle;\n",
              "    }\n",
              "\n",
              "    .dataframe tbody tr th {\n",
              "        vertical-align: top;\n",
              "    }\n",
              "\n",
              "    .dataframe thead th {\n",
              "        text-align: right;\n",
              "    }\n",
              "</style>\n",
              "<table border=\"1\" class=\"dataframe\">\n",
              "  <thead>\n",
              "    <tr style=\"text-align: right;\">\n",
              "      <th>company_size</th>\n",
              "      <th>L</th>\n",
              "      <th>M</th>\n",
              "      <th>S</th>\n",
              "    </tr>\n",
              "    <tr>\n",
              "      <th>job_title</th>\n",
              "      <th></th>\n",
              "      <th></th>\n",
              "      <th></th>\n",
              "    </tr>\n",
              "  </thead>\n",
              "  <tbody>\n",
              "    <tr>\n",
              "      <th>Data Engineer</th>\n",
              "      <td>34</td>\n",
              "      <td>81</td>\n",
              "      <td>6</td>\n",
              "    </tr>\n",
              "    <tr>\n",
              "      <th>Data Scientist</th>\n",
              "      <td>43</td>\n",
              "      <td>66</td>\n",
              "      <td>21</td>\n",
              "    </tr>\n",
              "  </tbody>\n",
              "</table>\n",
              "</div>"
            ],
            "text/plain": [
              "company_size     L   M   S\n",
              "job_title                 \n",
              "Data Engineer   34  81   6\n",
              "Data Scientist  43  66  21"
            ]
          },
          "execution_count": 40,
          "metadata": {},
          "output_type": "execute_result"
        }
      ],
      "source": [
        "# Вычисляем таблицу сопряжённости\n",
        "data_cross = df_salaries_1[(df_salaries_1[\"job_title\"] == \"Data Scientist\") | (df_salaries[\"job_title\"] == \"Data Engineer\")]\n",
        "table = pd.crosstab(data_cross[\"job_title\"], df_salaries_1[\"company_size\"])\n",
        "table"
      ]
    },
    {
      "cell_type": "markdown",
      "metadata": {},
      "source": [
        "**Проведем тест:**"
      ]
    },
    {
      "cell_type": "code",
      "execution_count": 41,
      "metadata": {},
      "outputs": [
        {
          "name": "stdout",
          "output_type": "stream",
          "text": [
            "p-value = 0.005\n",
            "p-значение меньше, чем заданный уровень значимости 0.05. Отвергаем нулевую гипотезу в пользу альтернативной.\n"
          ]
        }
      ],
      "source": [
        "# Проводим тест\n",
        "_, p, _, _ = stats.chi2_contingency(table)\n",
        "decision_hypothesis(p)"
      ]
    },
    {
      "cell_type": "markdown",
      "metadata": {},
      "source": [
        "**Вывод:**\n",
        "\n",
        "Отвергаем нулевую гипотезу в пользу альтернативной, а значит существует статистически значимая взаимосвязь между специалистами *Data Scientist* и *Data Engineer* и размером компании."
      ]
    },
    {
      "cell_type": "markdown",
      "metadata": {},
      "source": [
        "#### **Дополнительные исследования:**"
      ]
    },
    {
      "cell_type": "markdown",
      "metadata": {},
      "source": [
        "##### **5. Наблюдается ли ежегодный рост зарплат у специалистов Data Scientist, а именно выросла ли зарплата у специалистов Data Scientist в 2022 году по сравнению с 2021 годом?**"
      ]
    },
    {
      "cell_type": "markdown",
      "metadata": {},
      "source": [
        "**Сформулируем нулевую и альтернативные гипотезы:**\n",
        "\n",
        "* *Нулевая гипотеза ($H_0$)*: средний размер заработных выплат специалистов *Data Scientist* в 2022 году ($μ_1$) статистически меньше или равен среднему размеру заработных выплат специалистов *Data Scientist* в 2021 году ($μ_2$).\n",
        "\n",
        "$$ H_0 : μ_1 ≤ μ_2$$\n",
        "\n",
        "* *Альтернативная гипотеза ($H_1$)*: средний размер заработных выплат специалистов *Data Scientist* в 2022 году ($μ_1$) статистически больше, чем средний размер заработных выплат специалистов *Data Scientist* в 2021 году ($μ_2$).\n",
        "\n",
        "$$ H_1 : μ_1 > μ_2$$"
      ]
    },
    {
      "cell_type": "markdown",
      "metadata": {},
      "source": [
        "**Проверка на нормальность:**\n",
        "\n",
        "С помощью теста Шапиро-Уилка проверим, распределен ли признак нормально. Напомним гипотезы теста Шапиро-Уилка:\n",
        "\n",
        "* *Нулевая гипотеза* ($H_0$): распределение данных является нормальным.\n",
        "\n",
        "* *Альтернативная гипотеза* ($H_1$): распределение данных отлично от нормального."
      ]
    },
    {
      "cell_type": "code",
      "execution_count": 44,
      "metadata": {},
      "outputs": [
        {
          "name": "stdout",
          "output_type": "stream",
          "text": [
            "Для специалистов Data Scientist в 2022 году:\n",
            "p-value = 0.676\n",
            "p-значение больше, чем заданный уровень значимости 0.05. Распределение является нормальным\n",
            "Для специалистов Data Scientist в 2021 году:\n",
            "p-value = 0.107\n",
            "p-значение больше, чем заданный уровень значимости 0.05. Распределение является нормальным\n"
          ]
        }
      ],
      "source": [
        "# Значения зарплатных выплат\n",
        "data_scientist = df_salaries[(df_salaries[\"job_title\"] == \"Data Scientist\") & (df_salaries[\"work_year\"].isin([2022]))]\n",
        "year_2022 = data_scientist.loc[data_scientist[\"work_year\"]==2022, \"salary_in_usd\"]\n",
        "\n",
        "data_scientist = df_salaries[(df_salaries[\"job_title\"] == \"Data Scientist\") & (df_salaries[\"work_year\"].isin([2021]))]\n",
        "year_2021 = data_scientist.loc[data_scientist[\"work_year\"]==2021, \"salary_in_usd\"]\n",
        "\n",
        "# Проводим тест Шапиро-Уилка\n",
        "print(\"Для специалистов Data Scientist в 2022 году:\")\n",
        "result = stats.shapiro(year_2022)\n",
        "decision_normality(result[1])\n",
        "\n",
        "print(\"Для специалистов Data Scientist в 2021 году:\")\n",
        "result = stats.shapiro(year_2021)\n",
        "decision_normality(result[1])"
      ]
    },
    {
      "cell_type": "markdown",
      "metadata": {},
      "source": [
        "**Выберем подходящий статистический тест:**\n",
        "\n",
        "Для выбора нужного теста воспользуемся алгоритмом выбора теста. Для этого ответим на следующие вопросы:\n",
        "\n",
        "* Какой тип у признака «Размер зарплатных выплат»? - Количественный.\n",
        "* Сколько сравниваемых групп? - Две.\n",
        "* Группы зависимы? - Нет.\n",
        "* Признак распределён по нормальному закону? - Да.\n",
        "\n",
        "Чтобы проверить нашу гипотезу, можно использовать *ДВУХВЫБОРОЧНЫЙ T-КРИТЕРИЙ* для сравнения средних значений распределений.\n",
        "\n",
        "**Проведем тест:**"
      ]
    },
    {
      "cell_type": "code",
      "execution_count": 45,
      "metadata": {},
      "outputs": [
        {
          "name": "stdout",
          "output_type": "stream",
          "text": [
            "p-value = 0.000\n",
            "p-значение меньше, чем заданный уровень значимости 0.05. Отвергаем нулевую гипотезу в пользу альтернативной.\n"
          ]
        }
      ],
      "source": [
        "# Проводим тест\n",
        "_, p = stats.ttest_ind(year_2022, year_2021, alternative=\"greater\")\n",
        "decision_hypothesis(p)"
      ]
    },
    {
      "cell_type": "markdown",
      "metadata": {},
      "source": [
        "**Вывод:**\n",
        "\n",
        "Отвергаем нулевую гипотезу в пользу альтернативной. Средний размер заработных выплат специалистов *Data Scientist* в 2022 году статистически больше, чем средний размер заработных выплат специалистов *Data Scientist* в 2021 году."
      ]
    },
    {
      "cell_type": "markdown",
      "metadata": {},
      "source": [
        "##### **6. Наблюдается ли ежегодный рост зарплат у специалистов *Data Engineer*, а именно выросла ли зарплата у специалистов *Data Engineer* в 2022 году по сравнению с 2021 годом?**"
      ]
    },
    {
      "cell_type": "markdown",
      "metadata": {},
      "source": [
        "**Сформулируем нулевую и альтернативные гипотезы:**\n",
        "\n",
        "* *Нулевая гипотеза ($H_0$)*: средний размер заработных выплат специалистов *Data Engineer* в 2022 году ($μ_1$) статистически меньше или равен среднему размеру заработных выплат специалистов *Data Engineer* в 2021 году ($μ_2$).\n",
        "\n",
        "$$ H_0 : μ_1 ≤ μ_2$$\n",
        "\n",
        "* *Альтернативная гипотеза ($H_1$)*: средний размер заработных выплат специалистов *Data Engineer* в 2022 году ($μ_1$) статистически больше, чем средний размер заработных выплат специалистов *Data Engineer* в 2021 году ($μ_2$).\n",
        "\n",
        "$$ H_1 : μ_1 > μ_2$$"
      ]
    },
    {
      "cell_type": "markdown",
      "metadata": {},
      "source": [
        "**Проверка на нормальность:**\n",
        "\n",
        "С помощью теста Шапиро-Уилка проверим, распределен ли признак нормально. Напомним гипотезы теста Шапиро-Уилка:\n",
        "\n",
        "* *Нулевая гипотеза* ($H_0$): распределение данных является нормальным.\n",
        "\n",
        "* *Альтернативная гипотеза* ($H_1$): распределение данных отлично от нормального."
      ]
    },
    {
      "cell_type": "code",
      "execution_count": 46,
      "metadata": {},
      "outputs": [
        {
          "name": "stdout",
          "output_type": "stream",
          "text": [
            "Для специалистов Data Engineer в 2022 году:\n",
            "p-value = 0.007\n",
            "p-значение меньше, чем заданный уровень значимости 0.05. Распределение отлично от нормального\n",
            "Для специалистов Data Engineer в 2021 году:\n",
            "p-value = 0.253\n",
            "p-значение больше, чем заданный уровень значимости 0.05. Распределение является нормальным\n"
          ]
        }
      ],
      "source": [
        "# Значения зарплатных выплат\n",
        "data_engineer = df_salaries_1[(df_salaries_1[\"job_title\"] == \"Data Engineer\") & (df_salaries[\"work_year\"].isin([2022]))]\n",
        "year_2022 = data_engineer.loc[data_engineer[\"work_year\"]==2022, \"salary_in_usd\"]\n",
        "\n",
        "data_engineer = df_salaries_1[(df_salaries_1[\"job_title\"] == \"Data Engineer\") & (df_salaries[\"work_year\"].isin([2021]))]\n",
        "year_2021 = data_engineer.loc[data_engineer[\"work_year\"]==2021, \"salary_in_usd\"]\n",
        "\n",
        "# Проводим тест Шапиро-Уилка\n",
        "print(\"Для специалистов Data Engineer в 2022 году:\")\n",
        "result = stats.shapiro(year_2022)\n",
        "decision_normality(result[1])\n",
        "\n",
        "print(\"Для специалистов Data Engineer в 2021 году:\")\n",
        "result = stats.shapiro(year_2021)\n",
        "decision_normality(result[1])"
      ]
    },
    {
      "cell_type": "markdown",
      "metadata": {},
      "source": [
        "**Выберем подходящий статистический тест:**\n",
        "\n",
        "Для выбора нужного теста воспользуемся алгоритмом выбора теста. Для этого ответим на следующие вопросы:\n",
        "\n",
        "* Какой тип у признака «Размер зарплатных выплат»? - Количественный.\n",
        "* Сколько сравниваемых групп? - Две.\n",
        "* Группы зависимы? - Нет.\n",
        "* Признак распределён по нормальному закону? - Нет.\n",
        "\n",
        "Чтобы проверить нашу гипотезу, можно использовать *U-КРИТЕРИЙ МАННА - УИТНИ*.\n",
        "\n",
        "**Проведем тест:**"
      ]
    },
    {
      "cell_type": "code",
      "execution_count": 47,
      "metadata": {},
      "outputs": [
        {
          "name": "stdout",
          "output_type": "stream",
          "text": [
            "p-value = 0.000\n",
            "p-значение меньше, чем заданный уровень значимости 0.05. Отвергаем нулевую гипотезу в пользу альтернативной.\n"
          ]
        }
      ],
      "source": [
        "# Проводим тест\n",
        "_, p = stats.mannwhitneyu(year_2022, year_2021, alternative=\"greater\")\n",
        "decision_hypothesis(p)"
      ]
    },
    {
      "cell_type": "markdown",
      "metadata": {},
      "source": [
        "**Вывод:**\n",
        "\n",
        "Отвергаем нулевую гипотезу в пользу альтернативной. Средний размер заработных выплат специалистов *Data Engineer* в 2022 году статистически больше, чем средний размер заработных выплат специалистов *Data Engineer* в 2021 году **- результат получился такое же, как и в ранее проведенном исследовании, касающегося заработных выплат специалистов *Data Scientist*.**"
      ]
    },
    {
      "cell_type": "markdown",
      "metadata": {},
      "source": [
        "##### **7. Как соотносятся зарплаты специалистов *Data Engineer* в компаниях различных размеров, а именно отличается ли зарплата специалистов *Data Engineer* в маленьких, средних и больших компаниях?**"
      ]
    },
    {
      "cell_type": "markdown",
      "metadata": {},
      "source": [
        "**Сформулируем нулевую и альтернативные гипотезы:**\n",
        "\n",
        "* *Нулевая гипотеза ($H_0$)*: размер зарплат специалистов *Data Engineer* в зависимости от размера маленьких ($μ_1$), средних ($μ_2$) и больших ($μ_3$) компаний *<u>не отличается</u>.*\n",
        "\n",
        "$$ H_0 : μ_1 = μ_2 = μ_3 $$\n",
        "\n",
        "* *Альтернативная гипотеза ($H_1$)*: размер зарплат специалистов *Data Engineer* в зависимости от размера маленьких ($μ_1$), средних ($μ_2$) и больших ($μ_3$) компаний *<u>отличается</u>.*\n",
        "\n",
        "$$ H_0 : μ_1 ≠ μ_2 ≠ μ_3 $$"
      ]
    },
    {
      "cell_type": "markdown",
      "metadata": {},
      "source": [
        "**Проверка на нормальность:**\n",
        "\n",
        "С помощью теста Шапиро-Уилка проверим, распределен ли признак нормально. Напомним гипотезы теста Шапиро-Уилка:\n",
        "\n",
        "* *Нулевая гипотеза* ($H_0$): распределение данных является нормальным.\n",
        "\n",
        "* *Альтернативная гипотеза* ($H_1$): распределение данных отлично от нормального."
      ]
    },
    {
      "cell_type": "code",
      "execution_count": 48,
      "metadata": {},
      "outputs": [
        {
          "name": "stdout",
          "output_type": "stream",
          "text": [
            "Для маленьких компаний:\n",
            "p-value = 0.606\n",
            "p-значение больше, чем заданный уровень значимости 0.05. Распределение является нормальным\n",
            "Для средних компаний:\n",
            "p-value = 0.085\n",
            "p-значение больше, чем заданный уровень значимости 0.05. Распределение является нормальным\n",
            "Для крупных компаний:\n",
            "p-value = 0.109\n",
            "p-значение больше, чем заданный уровень значимости 0.05. Распределение является нормальным\n"
          ]
        }
      ],
      "source": [
        "# Значения зарплатных выплат\n",
        "data_engineer = df_salaries_1[(df_salaries_1[\"job_title\"] == \"Data Engineer\")]\n",
        "company_small = data_engineer.loc[data_engineer[\"company_size\"]==\"S\", \"salary_in_usd\"]\n",
        "company_medium = data_engineer.loc[data_engineer[\"company_size\"]==\"M\", \"salary_in_usd\"]\n",
        "company_large = data_engineer.loc[data_engineer[\"company_size\"]==\"L\", \"salary_in_usd\"]\n",
        "\n",
        "# Проводим тест Шапиро-Уилка\n",
        "print(\"Для маленьких компаний:\")\n",
        "result = stats.shapiro(company_small)\n",
        "decision_normality(result[1])\n",
        "\n",
        "print(\"Для средних компаний:\")\n",
        "result = stats.shapiro(company_medium)\n",
        "decision_normality(result[1])\n",
        "\n",
        "print(\"Для крупных компаний:\")\n",
        "result = stats.shapiro(company_large)\n",
        "decision_normality(result[1])"
      ]
    },
    {
      "cell_type": "markdown",
      "metadata": {},
      "source": [
        "**Выберем подходящий статистический тест:**\n",
        "\n",
        "Для выбора нужного теста воспользуемся алгоритмом выбора теста. Для этого ответим на следующие вопросы:\n",
        "\n",
        "* Какой тип у признака «Размер зарплатных выплат»? - Количественный.\n",
        "* Сколько сравниваемых групп? - Три.\n",
        "* Группы зависимы? - Нет.\n",
        "* Признак распределён по нормальному закону? - Да.\n",
        "\n",
        "Чтобы проверить нашу гипотезу, можно использовать *ОДНОФАКТОРНЫЙ ДИСПЕРСИОННЫЙ АНАЛИЗ (ANOVA)* для сравнения средних значений распределений.\n",
        "\n",
        "**Проведем тест:**"
      ]
    },
    {
      "cell_type": "code",
      "execution_count": 49,
      "metadata": {},
      "outputs": [
        {
          "name": "stdout",
          "output_type": "stream",
          "text": [
            "p-value = 0.032\n",
            "p-значение меньше, чем заданный уровень значимости 0.05. Отвергаем нулевую гипотезу в пользу альтернативной.\n"
          ]
        }
      ],
      "source": [
        "# Проводим тест\n",
        "_, p = stats.f_oneway(company_small, company_medium, company_large)\n",
        "decision_hypothesis(p)"
      ]
    },
    {
      "cell_type": "markdown",
      "metadata": {},
      "source": [
        "**Вывод:**\n",
        "\n",
        "Отвергаем нулевую гипотезу в пользу альтернативной, а значит размер зарплат специалистов *Data Engineer* в зависимости от размера компаний *<u>отличается</u>* **- результат получился такое же, как и в ранее проведенном исследовании, касающегося зарплат специалистов *Data Scientist*.**"
      ]
    },
    {
      "cell_type": "markdown",
      "metadata": {
        "id": "weubXekLfsQX"
      },
      "source": [
        "#### **3. Итоговые результаты исследования**\n",
        "    \n",
        "* Средний размер заработных выплат специалистов *Data Scientist* в 2020, в 2021 и в 2022 годах отличается, а именно растет из года в год.\n",
        "* Размер зарплат специалистов *Data Scientist* статистически меньше или равен размеру зарплат специалистов *Data Engineer* в 2022 году, т.е. нет оснований утверждать, что зарплата специалистов *Data Scientist* больше, чем зарплата специалистов *Data Engineer*.\n",
        "* Размер зарплат специалистов *Data Scientist* в зависимости от размера компаний *отличается*.\n",
        "* Существует статистически значимая взаимосвязь между специалистами *Data Scientist* и *Data Engineer* и размером компании.\n",
        "* Средний размер заработных выплат специалистов *Data Scientist* в 2022 году статистически больше, чем средний размер заработных выплат специалистов *Data Scientist* в 2021 году.\n",
        "* Средний размер заработных выплат специалистов *Data Engineer* в 2022 году статистически больше, чем средний размер заработных выплат специалистов *Data Engineer* в 2021 году.\n",
        "* Размер зарплат специалистов *Data Engineer* в зависимости от размера компаний *отличается*.\n",
        "\n",
        "Исходя из анализа данных, есть основания полагать, что на размер зарплатных выплат специалистов *Data Scientist* однозначно влияют следующие факторы:\n",
        "\n",
        "* *experience_level -* опыт работы;\n",
        "* *employment_type -* тип трудоустройства;\n",
        "* *job_title -* роль, в которой соискатель работал в течение года;\n",
        "* *company_location -* страна главного офиса работодателя или филиала по контракту;\n",
        "* *company_size -* среднее количество людей, работавших в компании в течение года."
      ]
    }
  ],
  "metadata": {
    "colab": {
      "provenance": []
    },
    "kernelspec": {
      "display_name": "Python 3.10.8 ('base')",
      "language": "python",
      "name": "python3"
    },
    "language_info": {
      "codemirror_mode": {
        "name": "ipython",
        "version": 3
      },
      "file_extension": ".py",
      "mimetype": "text/x-python",
      "name": "python",
      "nbconvert_exporter": "python",
      "pygments_lexer": "ipython3",
      "version": "3.11.7"
    },
    "vscode": {
      "interpreter": {
        "hash": "86c56a74836ad344b00594bf6f38fa6a676a207ceefe20d101fbc465800ccb8d"
      }
    }
  },
  "nbformat": 4,
  "nbformat_minor": 0
}
