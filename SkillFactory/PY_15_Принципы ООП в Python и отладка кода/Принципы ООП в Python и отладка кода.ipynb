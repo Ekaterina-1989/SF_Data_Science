{
 "cells": [
  {
   "cell_type": "markdown",
   "metadata": {},
   "source": [
    "#### **1. Введение**"
   ]
  },
  {
   "cell_type": "markdown",
   "metadata": {},
   "source": [
    "Идеология **объектно-ориентированного программирования (ООП)** разрабатывалась как попытка связать поведение определённой сущности **(объекта)** с тем, к какому классу она принадлежит. Причина задумки такого подхода в том, что нам проще воспринимать окружающий мир как объекты, которые поддаются определённой классификации (взять хотя бы разделение на живую и неживую природу).\n",
    "\n",
    "Основу ООП составляют два понятия - **классы** и **объекты**.\n",
    "\n",
    "Посмотрим на человека? У него есть некоторые свойства, которые определяют наш внешний облик как вида - две руки, две ноги, определённый набор костей, мышцы и так далее.\n",
    "\n",
    "Когда мы говорим о **классе**, мы имеем в виду то, какими свойствами и поведением будет обладать объект (например, ходить на двух ногах, говорить).\n",
    "\n",
    "А **объект** - это экземпляр с собственным состоянием этих свойств (то, что будет отличать одного человека от другого), любой предмет, существо, явление. Иными словами, это всё, что называется именем существительным, о чём можно сказать «это что-то» или «это кто-то».\n",
    "\n",
    "Мы уже упоминали, что объекты класса обладают **свойствами** и поведением (**методами**).\n",
    "\n",
    "*В чём разница между **свойствами** и **методами**?*\n",
    "\n",
    "**Свойствам** устанавливаются значения, а **методам** - нет. То есть **методы** - это определённое поведение, которым характеризуется объект, а **свойства** могут изменяться."
   ]
  },
  {
   "cell_type": "markdown",
   "metadata": {},
   "source": [
    "#### **2. Принципы ООП**"
   ]
  },
  {
   "cell_type": "markdown",
   "metadata": {},
   "source": [
    "**ООП (объектно-ориентированное программирование)**, как и любой другой тип, характеризуется своими особенностями **(принципами)**. Рассмотрим их подробнее."
   ]
  },
  {
   "cell_type": "markdown",
   "metadata": {},
   "source": [
    "→ **НАСЛЕДОВАНИЕ** - этот принцип базируется на том, что новый класс описывается на основе уже существующего (родительского), то есть не только перенимает все свойства родительского класса, но ещё и получает новые."
   ]
  },
  {
   "cell_type": "markdown",
   "metadata": {},
   "source": [
    "→ **АБСТРАКЦИЯ** - означает выделение главных, наиболее значимых характеристик предмета и, наоборот, отбрасывание второстепенных, незначительных. "
   ]
  },
  {
   "cell_type": "markdown",
   "metadata": {},
   "source": [
    "→ **ИНКАПСУЛЯЦИЯ** - это свойство системы, позволяющее объединить данные и методы, работающие с ними, в классе и скрыть детали реализации от пользователя. Инкапсуляция также означает ограничение доступа к данным и возможностям их изменения."
   ]
  },
  {
   "cell_type": "markdown",
   "metadata": {},
   "source": [
    "→ **ПОЛИМОРФИЗМ** - это свойство системы, позволяющее иметь множество реализаций одного интерфейса. "
   ]
  },
  {
   "cell_type": "markdown",
   "metadata": {},
   "source": [
    "#### **3. Объекты и классы**"
   ]
  },
  {
   "cell_type": "markdown",
   "metadata": {},
   "source": [
    "**ОБЪЕКТЫ**\n",
    "\n",
    "Некоторые данные и действия над ними могут **объединяться** вместе в единый объект. В *Python* всё по сути является объектом. Объект **числа** хранит своё значение - данные, мы можем вызвать его методы, совершать действия. "
   ]
  },
  {
   "cell_type": "code",
   "execution_count": 2,
   "metadata": {},
   "outputs": [
    {
     "name": "stdout",
     "output_type": "stream",
     "text": [
      "False\n",
      "(5, 2)\n"
     ]
    }
   ],
   "source": [
    "number = 2.5   \n",
    "# Вызовем метод is_integer. Он скажет нам, является ли number целым числом  \n",
    "print(number.is_integer())  \n",
    "# => False  \n",
    "  \n",
    "# Давайте попробуем представить number как обыкновенную дробь  \n",
    "print(number.as_integer_ratio())  \n",
    "# => (5, 2)  \n",
    "# Действительно 2.5 = 5/2 "
   ]
  },
  {
   "cell_type": "markdown",
   "metadata": {},
   "source": [
    "Посмотрим на **список:** он хранит данные своих элементов, мы можем совершать над ними действия встроенными методами."
   ]
  },
  {
   "cell_type": "code",
   "execution_count": 3,
   "metadata": {},
   "outputs": [
    {
     "name": "stdout",
     "output_type": "stream",
     "text": [
      "2\n",
      "['Alexandra', 'Stanislav', 'Vasiliy', 'Vasiliy']\n"
     ]
    }
   ],
   "source": [
    "people = [\"Vasiliy\", \"Stanislav\", \"Alexandra\", \"Vasiliy\"]  \n",
    "  \n",
    "# Посчитаем число Василиев с помощью метода count  \n",
    "print(people.count(\"Vasiliy\"))  \n",
    "# => 2  \n",
    "  \n",
    "# Теперь отсортируем   \n",
    "people.sort()  \n",
    "print(people)  \n",
    "# => ['Alexandra', 'Stanislav', 'Vasiliy', 'Vasiliy'] "
   ]
  },
  {
   "cell_type": "markdown",
   "metadata": {},
   "source": [
    "**КЛАССЫ**\n",
    "\n",
    "У всех встроенных объектов есть свой класс. В примере для числа 2.5 мы видим класс действительных чисел **(float)**, для списка - класс списка **(list)**. **Класс** - это некая заготовка или чертёж, которая описывает общую структуру, свойства и действия для объектов.  "
   ]
  },
  {
   "cell_type": "code",
   "execution_count": 4,
   "metadata": {},
   "outputs": [
    {
     "name": "stdout",
     "output_type": "stream",
     "text": [
      "<class 'float'>\n",
      "<class 'list'>\n"
     ]
    }
   ],
   "source": [
    "number = 2.5  \n",
    "print(number.__class__)  \n",
    "# => <class 'float'>  \n",
    "  \n",
    "people = [\"Vasiliy\", \"Stanislav\", \"Alexandra\", \"Vasiliy\"]  \n",
    "print(people.__class__)  \n",
    "# => <class 'list'> "
   ]
  },
  {
   "cell_type": "markdown",
   "metadata": {},
   "source": [
    "Определим пустой класс: он не делает ничего, но позволит нам посмотреть на синтаксис."
   ]
  },
  {
   "cell_type": "code",
   "execution_count": 5,
   "metadata": {},
   "outputs": [],
   "source": [
    "# Используем ключевое слово class, за которым идёт название класса, в примере это SalesReport  \n",
    "class SalesReport():  \n",
    "    pass  \n",
    "  \n",
    "# Сравните это с определением пустой функции  \n",
    "# Команда pass не делает ничего; на её месте могли быть другие инструкции  \n",
    "# Мы используем её только потому, что синтаксически python требует, чтобы там было хоть что-то  \n",
    "def build_report():  \n",
    "    pass  \n",
    "  \n",
    "  \n",
    "# И давайте определим ещё один класс  \n",
    "# Для имён классов традиционно используются имена в формате CamelCase, где начала слов отмечаются большими буквами  \n",
    "# Это позволяет легко отличать их от функций, которые пишутся в формате snake_case  \n",
    "class SkillfactoryStudent():  \n",
    "    pass"
   ]
  },
  {
   "cell_type": "markdown",
   "metadata": {},
   "source": [
    "**Задание 3.2**\n",
    "\n",
    "Определите пустой класс с именем **DepartmentReport**.\n",
    "\n",
    "Обратите внимание, что от вас требуется только объявить класс. Создавать экземпляров класса не нужно!\n",
    "\n",
    "**Подсказка**\n",
    "\n",
    "В теле класса используйте ключевое слово **pass**"
   ]
  },
  {
   "cell_type": "code",
   "execution_count": 6,
   "metadata": {},
   "outputs": [],
   "source": [
    "# Используем ключевое слово class, за которым идёт название класса, в примере это DepartmentReport  \n",
    "class DepartmentReport():  \n",
    "    pass  "
   ]
  },
  {
   "cell_type": "markdown",
   "metadata": {},
   "source": [
    "**ОБЪЕКТЫ ИЗ КЛАССОВ**\n",
    "\n",
    "Мы написали свой первый класс - давайте создадим по нему объект. Вызываем класс и получаем новый объект аналогично тому, как вызывается функция. Получаем результат."
   ]
  },
  {
   "cell_type": "code",
   "execution_count": 7,
   "metadata": {},
   "outputs": [
    {
     "name": "stdout",
     "output_type": "stream",
     "text": [
      "False\n"
     ]
    }
   ],
   "source": [
    "class SalesReport():  \n",
    "    pass  \n",
    "  \n",
    "# создаём объект по классу  \n",
    "report = SalesReport()  \n",
    "  \n",
    "# мы можем создавать множество объектов по одному классу  \n",
    "report_2 = SalesReport()  \n",
    "  \n",
    "# Это будут разные объекты.   \n",
    "print(report == report_2)  \n",
    "# => False  "
   ]
  },
  {
   "cell_type": "markdown",
   "metadata": {},
   "source": [
    "Созданный таким образом объект часто называют **экземпляром класса** *(instance)*. Такое название вы будете часто встречать в статьях и книгах."
   ]
  },
  {
   "cell_type": "markdown",
   "metadata": {},
   "source": [
    "**Задание 3.3**\n",
    "\n",
    "Скопируйте определение **DepartmentReport** из предыдущего задания и создайте объект **department_report** по нему."
   ]
  },
  {
   "cell_type": "code",
   "execution_count": 8,
   "metadata": {},
   "outputs": [],
   "source": [
    "# Используем ключевое слово class, за которым идёт название класса, в примере это DepartmentReport  \n",
    "class DepartmentReport():  \n",
    "    pass  \n",
    "\n",
    "# создаём объект по классу  \n",
    "department_report = DepartmentReport()"
   ]
  },
  {
   "cell_type": "markdown",
   "metadata": {},
   "source": [
    "#### **4. Атрибуты и методы**\n",
    "\n",
    "**АТРИБУТЫ И МЕТОДЫ**\n",
    "\n",
    "Мы создали объект по пустому классу. Давайте добавим ему данные. Сделаем класс для отчётов по продажам *SalesReport*. Пусть у нас в компании есть менеджеры по продажам, которые заключают сделки, и мы хотим посчитать для них метрики общего объёма продаж."
   ]
  },
  {
   "cell_type": "code",
   "execution_count": 9,
   "metadata": {},
   "outputs": [
    {
     "name": "stdout",
     "output_type": "stream",
     "text": [
      "Total amount: 10\n",
      "Total amount: 20\n"
     ]
    }
   ],
   "source": [
    " # По-прежнему пока создаём пустой класс  \n",
    "class SalesReport():  \n",
    "    pass  \n",
    "  \n",
    "# Создаём первый отчёт по продажам   \n",
    "report = SalesReport()  \n",
    "  \n",
    "# Мы добавим новый атрибут объекту.  \n",
    "# Для этого через точку напишем имя атрибута и дальше как с обычной переменной  \n",
    "report.amount = 10  \n",
    "  \n",
    "# То же самое делаем для второго отчёта.  \n",
    "report_2 = SalesReport()  \n",
    "report_2.amount = 20  \n",
    "  \n",
    "# Создадим вспомогательную функцию, она будет печатать общую сумму из отчёта  \n",
    "def print_report(report):  \n",
    "    print(\"Total amount:\", report.amount)  \n",
    "      \n",
    "print_report(report) # => Total amount: 10  \n",
    "print_report(report_2) # => Total amount: 20 "
   ]
  },
  {
   "cell_type": "markdown",
   "metadata": {},
   "source": [
    "Для разных отчётов вывелись разные значения, хотя объекты создавались из одного класса. Функция **print_report** делает операцию над отчётом. Так как классы увязывают данные и действия над ними, положим **print_report** внутрь класса."
   ]
  },
  {
   "cell_type": "code",
   "execution_count": 10,
   "metadata": {},
   "outputs": [
    {
     "name": "stdout",
     "output_type": "stream",
     "text": [
      "Total amount: 10\n",
      "Total amount: 20\n"
     ]
    }
   ],
   "source": [
    "class SalesReport():  \n",
    "    # Наш новый метод внутри класса.  \n",
    "    # Мы определяем его похожим образом с обычными функциями,  \n",
    "    #   но только помещаем внутрь класса и первым аргументом передаём self  \n",
    "    def print_report(self):  \n",
    "        print(\"Total amount:\", self.amount)  \n",
    "          \n",
    "          \n",
    "# Дальше мы применяем report так же, как и в примере выше   \n",
    "report = SalesReport()  \n",
    "report.amount = 10  \n",
    "  \n",
    "report_2 = SalesReport()  \n",
    "report_2.amount = 20  \n",
    "  \n",
    "# Используем наши новые методы  \n",
    "report.print_report() # => Total amount: 10  \n",
    "report_2.print_report() # => Total amount: 20 "
   ]
  },
  {
   "cell_type": "markdown",
   "metadata": {},
   "source": [
    "Мы определили метод внутри класса, и он стал доступен у всех экземпляров этого класса. \n",
    "\n",
    "Методы в целом похожи на обычные функции, но их ключевое отличие - доступ к самому объекту. "
   ]
  },
  {
   "cell_type": "markdown",
   "metadata": {},
   "source": [
    "В методе мы первым аргументом получаем **self** - в нашем случае это отчёт, что позволяет использовать атрибуты объекта внутри метода, как мы сделали с **amount**. **Self** передаётся автоматически. При вызове метода мы не передавали никакие аргументы.\n",
    "\n",
    "Давайте для примера определим ещё пару методов:"
   ]
  },
  {
   "cell_type": "code",
   "execution_count": 11,
   "metadata": {},
   "outputs": [
    {
     "name": "stdout",
     "output_type": "stream",
     "text": [
      "Total sales: 40000\n"
     ]
    }
   ],
   "source": [
    "class SalesReport():  \n",
    "    # Позволим добавлять много разных сделок   \n",
    "    def add_deal(self, amount):   \n",
    "        # На первой сделке создадим список для хранения всех сделок   \n",
    "        if not hasattr(self, 'deals'):  \n",
    "            self.deals = []  \n",
    "        # Добавим текущую сделку  \n",
    "        self.deals.append(amount)  \n",
    "          \n",
    "    # Посчитаем сумму всех сделок      \n",
    "    def total_amount(self):  \n",
    "        return sum(self.deals)  \n",
    "      \n",
    "    def print_report(self):  \n",
    "        print(\"Total sales:\", self.total_amount())  \n",
    "          \n",
    "# Используем наши новые возможности  \n",
    "# Добавим две сделки и распечатаем отчёт  \n",
    "report = SalesReport()  \n",
    "report.add_deal(10_000)  \n",
    "report.add_deal(30_000)  \n",
    "report.print_report() # => Total sales: 40000  "
   ]
  },
  {
   "cell_type": "markdown",
   "metadata": {},
   "source": [
    "Атрибут **deals**, определённый в одном методе, становится доступен сразу во всех методах класса. Через **self** становятся доступны и остальные методы, например **print_report** использует метод **total_amount**. Это позволяет компактно упаковывать логику внутри класса: внешнее использование становится гораздо лаконичнее."
   ]
  },
  {
   "cell_type": "markdown",
   "metadata": {},
   "source": [
    "**Задание 4.1**\n",
    "\n",
    "Допишите определение класса **DepartmentReport**, который выводит отчёт по отделам компании. У него должны быть определены:\n",
    "\n",
    "→ свойство **revenues** - список, где мы храним значения выручки отделов;\n",
    "\n",
    "→ метод **add_revenue()**, который добавляет выручку одного отдела в список **revenues**. Если списка **revenues** еще не существует, метод должен его создавать (проверку наличия атрибута можно выполнить с помощью встроенной функции **hasattr()**);\n",
    "\n",
    "→ метод **average_revenue()**, который возвращает среднюю выручку по всем отделам (считает среднее по списку **revenues**).\n",
    "\n",
    "**Пример использования класса:**\n",
    "\n",
    "report = DepartmentReport()\n",
    "\n",
    "report.add_revenue(1_000_000)\n",
    "\n",
    "report.add_revenue(400_000)\n",
    "\n",
    "print(report.revenues) - #[1000000, 400000]\n",
    "\n",
    "print(report.average_revenue()) - #700000.0\n",
    "\n",
    "**Обратите внимание**, что от вас требуется только объявить класс. Создавать экземпляров класса не нужно!"
   ]
  },
  {
   "cell_type": "code",
   "execution_count": 12,
   "metadata": {},
   "outputs": [],
   "source": [
    "class DepartmentReport():\n",
    "       \n",
    "    def add_revenue(self, amount):\n",
    "        \"\"\"\n",
    "        Метод для добавления выручки отдела в список revenues.\n",
    "        Если атрибута revenues ещё не существует, метод должен создавать пустой список перед добавлением выручки.\n",
    "        \"\"\"\n",
    "        if not hasattr(self,'revenues'):\n",
    "            self.revenues=[]\n",
    "        self.revenues.append(amount)\n",
    "    \n",
    "    def average_revenue(self):\n",
    "        \"\"\"\n",
    "        Метод возвращает среднюю выручку по отделам.\n",
    "        \"\"\"\n",
    "        return sum(self.revenues)/len(self.revenues)"
   ]
  },
  {
   "cell_type": "markdown",
   "metadata": {},
   "source": [
    "**МЕТОД __ INIT __**\n",
    "\n",
    "Мы определили несколько методов в классе **SalesReport**. С ним есть пара проблем. \n",
    "\n",
    "Если мы вызовем **total_amount** до **add_deal**, то список сделок ещё не будет создан, и мы получим ошибку. Также проверка на наличие списка в методе **add_deal** не кажется оптимальным решением, потому что создать список нужно один раз, а проверять его наличие мы вынуждены на каждой сделке."
   ]
  },
  {
   "cell_type": "code",
   "execution_count": 13,
   "metadata": {},
   "outputs": [
    {
     "ename": "AttributeError",
     "evalue": "'SalesReport' object has no attribute 'deals'",
     "output_type": "error",
     "traceback": [
      "\u001b[1;31m---------------------------------------------------------------------------\u001b[0m",
      "\u001b[1;31mAttributeError\u001b[0m                            Traceback (most recent call last)",
      "Cell \u001b[1;32mIn[13], line 14\u001b[0m\n\u001b[0;32m     11\u001b[0m         \u001b[38;5;28mprint\u001b[39m(\u001b[38;5;124m\"\u001b[39m\u001b[38;5;124mTotal sales:\u001b[39m\u001b[38;5;124m\"\u001b[39m, \u001b[38;5;28mself\u001b[39m\u001b[38;5;241m.\u001b[39mtotal_amount())  \n\u001b[0;32m     13\u001b[0m report \u001b[38;5;241m=\u001b[39m SalesReport()  \n\u001b[1;32m---> 14\u001b[0m \u001b[43mreport\u001b[49m\u001b[38;5;241;43m.\u001b[39;49m\u001b[43mtotal_amount\u001b[49m\u001b[43m(\u001b[49m\u001b[43m)\u001b[49m\n",
      "Cell \u001b[1;32mIn[13], line 8\u001b[0m, in \u001b[0;36mSalesReport.total_amount\u001b[1;34m(self)\u001b[0m\n\u001b[0;32m      7\u001b[0m \u001b[38;5;28;01mdef\u001b[39;00m \u001b[38;5;21mtotal_amount\u001b[39m(\u001b[38;5;28mself\u001b[39m):  \n\u001b[1;32m----> 8\u001b[0m     \u001b[38;5;28;01mreturn\u001b[39;00m \u001b[38;5;28msum\u001b[39m(\u001b[38;5;28;43mself\u001b[39;49m\u001b[38;5;241;43m.\u001b[39;49m\u001b[43mdeals\u001b[49m)\n",
      "\u001b[1;31mAttributeError\u001b[0m: 'SalesReport' object has no attribute 'deals'"
     ]
    }
   ],
   "source": [
    "class SalesReport():  \n",
    "    def add_deal(self, amount):   \n",
    "        if not hasattr(self, 'deals'):  \n",
    "            self.deals = []  \n",
    "        self.deals.append(amount)  \n",
    "          \n",
    "    def total_amount(self):  \n",
    "        return sum(self.deals)  \n",
    "      \n",
    "    def print_report(self):  \n",
    "        print(\"Total sales:\", self.total_amount())  \n",
    "          \n",
    "report = SalesReport()  \n",
    "report.total_amount()  \n",
    "# => AttributeError"
   ]
  },
  {
   "cell_type": "markdown",
   "metadata": {},
   "source": [
    "Обе проблемы решились бы, если задавать атрибутам исходное значение. Для этого у классов есть **метод инициализации __ init __**. Если мы определим метод с таким именем, код в нём вызовется при создании объекта."
   ]
  },
  {
   "cell_type": "code",
   "execution_count": null,
   "metadata": {},
   "outputs": [
    {
     "name": "stdout",
     "output_type": "stream",
     "text": [
      "[]\n"
     ]
    },
    {
     "data": {
      "text/plain": [
       "0"
      ]
     },
     "execution_count": 19,
     "metadata": {},
     "output_type": "execute_result"
    }
   ],
   "source": [
    "class SalesReport():  \n",
    "    def __init__(self):  \n",
    "        self.deals = []  \n",
    "          \n",
    "    def add_deal(self, amount):   \n",
    "        self.deals.append(amount)  \n",
    "          \n",
    "    def total_amount(self):  \n",
    "        return sum(self.deals)  \n",
    "      \n",
    "    def print_report(self):  \n",
    "        print(\"Total sales:\", self.total_amount())  \n",
    "   \n",
    "report = SalesReport()  \n",
    "print(report.deals)  \n",
    "# => []  \n",
    "report.total_amount()  \n",
    "# => 0  "
   ]
  },
  {
   "cell_type": "markdown",
   "metadata": {},
   "source": [
    "При создании отчёта вызвался **__ init __**, **deals** определился в нём пустым списком и проблемы ушли. \n",
    "\n",
    "**__ init __** - это технический метод, поэтому его имя начинается и заканчивается **двумя подчёркиваниями**. Он получает первым аргументом сам объект, в нём могут выполняться любые операции. Оставшиеся аргументы он получает из вызова при создании: если мы напишем **report = SalesReport(\"Info\", 20)**, то вторым и третьим аргументом в **__ init __** передадутся **\"Info\" и 20**."
   ]
  },
  {
   "cell_type": "code",
   "execution_count": null,
   "metadata": {},
   "outputs": [
    {
     "name": "stdout",
     "output_type": "stream",
     "text": [
      "Manager: Ivan Taranov\n",
      "Total sales: 40000\n"
     ]
    }
   ],
   "source": [
    "class SalesReport():  \n",
    "    # Будем принимать в __init__ ещё и имя менеджера  \n",
    "    def __init__(self, manager_name):  \n",
    "        self.deals = []  \n",
    "        self.manager_name = manager_name  \n",
    "          \n",
    "    def add_deal(self, amount):   \n",
    "        self.deals.append(amount)  \n",
    "          \n",
    "    def total_amount(self):  \n",
    "        return sum(self.deals)  \n",
    "      \n",
    "    def print_report(self):  \n",
    "        # И добавлять это имя в отчёт  \n",
    "        print(\"Manager:\", self.manager_name)  \n",
    "        print(\"Total sales:\", self.total_amount())  \n",
    "          \n",
    "   \n",
    "report = SalesReport(\"Ivan Taranov\")  \n",
    "report.add_deal(10_000)  \n",
    "report.add_deal(30_000)  \n",
    "report.print_report()  \n",
    "# =>   \n",
    "# Manager: Ivan Taranov  \n",
    "# Total sales: 40000"
   ]
  },
  {
   "cell_type": "markdown",
   "metadata": {},
   "source": [
    "Кроме **__ init __** у классов можно определить ряд технических методов, которые также называют **магическими**. Дело в том, что они не вызываются напрямую, но позволяют реализовать операции сложения **object_1 + object_2** или сравнения **object_1 > object_2**. "
   ]
  },
  {
   "cell_type": "markdown",
   "metadata": {},
   "source": [
    "**Задание 4.2**\n",
    "\n",
    "Улучшите класс **DepartmentReport**, добавив в него инициализатор.\n",
    "\n",
    "Класс при инициализации должен принимать переменную **company_name** и инициализировать её значением свойства **company**, а также инициализировать свойство revenues пустым списком.\n",
    "\n",
    "Также модифицируйте метод **average_revenue**. \n",
    "\n",
    "Теперь он должен возвращать строку следующего вида: **\"Average department revenue for <company_name>: <average_revenue>\".**\n",
    "\n",
    "**Пример использования класса:**\n",
    "\n",
    "report = DepartmentReport(company_name=\"Danon\")\n",
    "\n",
    "print(report.company) #Danon\n",
    "\n",
    "\n",
    "report.add_revenue(1_000_000)\n",
    "\n",
    "report.add_revenue(400_000)\n",
    "\n",
    "\n",
    "print(report.average_revenue()) #Average department revenue for Danon: 700000\n",
    "\n",
    "**Обратите внимание**, что от вас требуется только объявить класс. Создавать экземпляров класса не нужно!"
   ]
  },
  {
   "cell_type": "code",
   "execution_count": null,
   "metadata": {},
   "outputs": [],
   "source": [
    "class DepartmentReport():\n",
    "\n",
    "    def __init__(self, company_name):\n",
    "        \"\"\"\n",
    "        Метод инициализации класса. \n",
    "        Создаёт атрибуты revenues и company\n",
    "        \"\"\"\n",
    "        self.revenues=[]\n",
    "        self.company=company_name\n",
    "    \n",
    "    def add_revenue(self, amount):\n",
    "        \"\"\"\n",
    "        Метод для добавления выручки отдела в список revenues.\n",
    "        Если атрибута revenues ещё не существует, метод должен создавать пустой список перед добавлением выручки.\n",
    "        \"\"\"\n",
    "        if not hasattr(self, 'revenues'):\n",
    "            self.revenues=[]\n",
    "        self.revenues.append(amount)\n",
    "    \n",
    "    def average_revenue(self):\n",
    "        \"\"\"\n",
    "        Вычисляет average_revenue — среднюю выручку по отделам — округляя до целого.\n",
    "        Метод возвращает строку в формате:\n",
    "        'Average department revenue for <company>: <average_revenue>'\n",
    "        \"\"\"\n",
    "        average=int(round(sum(self.revenues)/len(self.revenues),0))\n",
    "        return 'Average department revenue for {}: {}'.format(self.company,average)"
   ]
  },
  {
   "cell_type": "markdown",
   "metadata": {},
   "source": [
    "**КРАТКОЕ РЕЗЮМЕ**\n",
    "\n",
    "✔️ Мы рассмотрели базовый синтаксис классов и синтаксис создания объектов. Давайте вспомним некоторые важные моменты:\n",
    "\n",
    "→ **атрибут объекта** - это просто его переменная;\n",
    "\n",
    "→ **метод объекта** - это его функция;\n",
    "\n",
    "→ метод объекта автоматически получает первым аргументом сам объект под именем **self**;\n",
    "\n",
    "→ **класс** описывает объект через его атрибуты и методы;\n",
    "\n",
    "→ мы можем создавать множество **экземпляров** одного класса, и значения их атрибутов независимы друг от друга;\n",
    "\n",
    "→ если определить метод **__ init __**, то он будет выполняться при создании объекта;\n",
    "\n",
    "→ всё это позволяет компактно увязывать данные и логику внутри объекта.\n",
    "\n",
    "Чтобы продемонстрировать, что мы имеем в виду под компактностью, давайте добавим ещё метрик в отчёт. \n",
    "\n",
    "Допустим, теперь мы хотим получать средний размер сделки и список клиентов, из которого исключены повторения (в случае, если компания заключала несколько сделок с одним и тем же клиентом)."
   ]
  },
  {
   "cell_type": "code",
   "execution_count": null,
   "metadata": {},
   "outputs": [
    {
     "name": "stdout",
     "output_type": "stream",
     "text": [
      "Employee:  Ivan Semenov\n",
      "Total sales: 390000\n",
      "Average sales: 130000.0\n",
      "Companies: ['PepsiCo', 'SkyEng']\n"
     ]
    }
   ],
   "source": [
    "class SalesReport():  \n",
    "    def __init__(self, employee_name):  \n",
    "        self.deals = []  \n",
    "        self.employee_name = employee_name  \n",
    "      \n",
    "    def add_deal(self, company, amount):   \n",
    "        self.deals.append({'company': company, 'amount': amount})  \n",
    "          \n",
    "    def total_amount(self):  \n",
    "        return sum([deal['amount'] for deal in self.deals])  \n",
    "      \n",
    "    def average_deal(self):  \n",
    "        return self.total_amount()/len(self.deals)  \n",
    "      \n",
    "    def all_companies(self):  \n",
    "        return list(set([deal['company'] for deal in self.deals]))  \n",
    "      \n",
    "    def print_report(self):  \n",
    "        print(\"Employee: \", self.employee_name)  \n",
    "        print(\"Total sales:\", self.total_amount())  \n",
    "        print(\"Average sales:\", self.average_deal())  \n",
    "        print(\"Companies:\", self.all_companies())  \n",
    "      \n",
    "      \n",
    "report = SalesReport(\"Ivan Semenov\")  \n",
    "  \n",
    "report.add_deal(\"PepsiCo\", 120_000)  \n",
    "report.add_deal(\"SkyEng\", 250_000)  \n",
    "report.add_deal(\"PepsiCo\", 20_000)  \n",
    "  \n",
    "report.print_report()  \n",
    "# => Employee:  Ivan Semenov  \n",
    "# Total sales: 390000  \n",
    "# Average sales: 130000.0  \n",
    "# Companies: ['PepsiCo', 'SkyEng'] "
   ]
  },
  {
   "cell_type": "markdown",
   "metadata": {},
   "source": [
    "#### **5. Практические примеры**"
   ]
  },
  {
   "cell_type": "markdown",
   "metadata": {},
   "source": [
    "⭐️ Мы научились определять **классы** и создавать **объекты**. Основная их задача - объединять данные и действия над ними. Эти же задачи можно решать обычными функциями и коллекциями (словарями/списками).\n",
    "\n",
    "Разница в том, что для ряда задач ООП является более подходящим инструментом и позволяет решать их проще. Рассмотрим ещё несколько примеров - это поможет вам развить интуицию и понять, в каких ситуациях стоит рассматривать переход от простых функций к классам.\n",
    "\n",
    "**ОТСЛЕЖИВАНИЕ СОСТОЯНИЯ**\n",
    "\n",
    "Одно из классических предписаний для классов - у каждого из множества объектов есть некоторые меняющиеся состояния. \n",
    "\n",
    "Вернёмся к примеру: есть база клиентов с основной информацией; в реальном времени нам приходит информация о покупках. Запустим промокампанию, чтобы поощрить старых клиентов, которые сделали у нас много заказов, и выдать им скидку:"
   ]
  },
  {
   "cell_type": "code",
   "execution_count": null,
   "metadata": {},
   "outputs": [
    {
     "name": "stdout",
     "output_type": "stream",
     "text": [
      "Order price for max@gmail.com is 100\n",
      "Order price for lova@yandex.ru is 180.0\n",
      "Order price for german@sberbank.ru is 500\n",
      "Order price for german@sberbank.ru is 450.0\n"
     ]
    }
   ],
   "source": [
    "class Client():  \n",
    "    # Базовые данные  \n",
    "    def __init__(self, email, order_num, registration_year):  \n",
    "        self.email = email  \n",
    "        self.order_num = order_num  \n",
    "        self.registration_year = registration_year  \n",
    "        self.discount = 0  \n",
    "          \n",
    "    # Оформление заказа  \n",
    "    def make_order(self, price):  \n",
    "        self.update_discount()  \n",
    "        self.order_num += 1  \n",
    "        # Здесь было бы оформление заказа, но мы просто выведем его цену  \n",
    "        discounted_price = price * (1 - self.discount)   \n",
    "        print(f\"Order price for {self.email} is {discounted_price}\")  \n",
    "              \n",
    "    # Назначение скидки  \n",
    "    def update_discount(self):   \n",
    "        if self.registration_year < 2018 and self.order_num >= 5:  \n",
    "            self.discount = 0.1   \n",
    "              \n",
    "  \n",
    "# Применение  \n",
    "          \n",
    "# Сделаем подобие базы  \n",
    "client_db = [   \n",
    "    Client(\"max@gmail.com\", 2, 2019),  \n",
    "    Client(\"lova@yandex.ru\", 10, 2015),  \n",
    "    Client(\"german@sberbank.ru\", 4, 2017)  \n",
    "]  \n",
    "  \n",
    "  \n",
    "# Сгенерируем заказы  \n",
    "client_db[0].make_order(100)  \n",
    "# => Order price for max@gmail.com is 100  \n",
    "  \n",
    "client_db[1].make_order(200)  \n",
    "# => Order price for lova@yandex.ru is 180.0  \n",
    "  \n",
    "client_db[2].make_order(500)  \n",
    "# => Order price for german@sberbank.ru is 500  \n",
    "  \n",
    "client_db[2].make_order(500)  \n",
    "# => Order price for german@sberbank.ru is 450.0 "
   ]
  },
  {
   "cell_type": "markdown",
   "metadata": {},
   "source": [
    "**Два важных момента:**\n",
    "\n",
    "→ У нас получился **простой интерфейс**. С функциями нам пришлось бы передавать много параметров или делать вложенный словарь.\n",
    "\n",
    "→ В классах хорошо реализуется **скрытая логика** и естественное сохранение состояний. В примере на втором и четвёртом заказах автоматически появилась скидка."
   ]
  },
  {
   "cell_type": "markdown",
   "metadata": {},
   "source": [
    "**Задание 5.1**\n",
    "\n",
    "Мы разрабатываем приложение, которое подразумевает функционал авторизации пользователя, а также управление балансом его балансом на некотором виртуальном счете.\n",
    "\n",
    "Определите класс для пользователей **User**.\n",
    "\n",
    "У него должны быть:\n",
    "\n",
    "→ атрибуты **e-mail, password и balance**, которые устанавливаются при инициализации в методе **__ init __()**;\n",
    "\n",
    "→ метод **login()**, который реализует проверку почты и пароля. Метод должен принимать в качестве аргументов е-майл **(e-mail)** и пароль **(password)**. Если они совпадают с атрибутами объекта, он возвращает **True**, а иначе - **False**;\n",
    "\n",
    "→ метод **update_balance()**, который должен принимать в качестве аргумента **amount** некоторое число и изменять текущий баланс счёта (атрибут **balance**) на величину **amount**.\n",
    "\n",
    "В случае правильного описания класса код, приведённый ниже, должен выдать следующий результат:\n",
    "\n",
    "**Пример использования класса:**\n",
    "\n",
    "user = User(\"gosha@roskino.org\", \"qwerty\", 20_000)\n",
    "\n",
    "print(user.login(\"gosha@roskino.org\", \"qwerty123\")) #False\n",
    "\n",
    "print(user.login(\"gosha@roskino.org\", \"qwerty\")) #True\n",
    "\n",
    "user.update_balance(200)\n",
    "user.update_balance(-500)\n",
    "print(user.balance) #19700\n",
    "\n",
    "**Обратите внимание**, что от вас требуется только объявить класс. Создавать экземпляров класса не нужно!"
   ]
  },
  {
   "cell_type": "code",
   "execution_count": null,
   "metadata": {},
   "outputs": [],
   "source": [
    "class User():\n",
    "    def __init__(self, email, password, balance):\n",
    "        self.email=email\n",
    "        self.password=password\n",
    "        self.balance=balance\n",
    "        update_balance=0\n",
    "     \n",
    "    def login(self, email, password):\n",
    "        if self.email==email and self.password==password:\n",
    "            answer=True\n",
    "        else:\n",
    "            answer=False\n",
    "        return answer\n",
    "    \n",
    "    def update_balance(self, amount):\n",
    "        self.balance+=amount\n",
    "        return self.balance"
   ]
  },
  {
   "cell_type": "markdown",
   "metadata": {},
   "source": [
    "**КОМБИНАЦИЯ ОПЕРАЦИЙ**\n",
    "\n",
    "Классы могут пригодиться, если вы регулярно делаете над данными одну и ту же последовательность разноплановых функций. Вы можете упаковать их в класс и в дальнейшем сразу получать результат по загруженным данным.\n",
    "\n",
    "У нас есть численные данные из разных источников. Если они в виде строк, то нужно привести их к числам, а пропуски - заполнить значениями. Сделаем доступ к медиане, среднему значению и стандартному отклонению:"
   ]
  },
  {
   "cell_type": "code",
   "execution_count": null,
   "metadata": {},
   "outputs": [
    {
     "name": "stdout",
     "output_type": "stream",
     "text": [
      "[1.0, 17.0, 4.0, 0.0, 8.0]\n",
      "6.892024376045111\n",
      "4.0\n"
     ]
    }
   ],
   "source": [
    "import statistics  \n",
    "  \n",
    "class DataFrame():  \n",
    "    def __init__(self, column, fill_value=0):  \n",
    "        # Инициализируем атрибуты  \n",
    "        self.column = column  \n",
    "        self.fill_value = fill_value  \n",
    "        # Заполним пропуски  \n",
    "        self.fill_missed()  \n",
    "        # Конвертируем все элементы в числа  \n",
    "        self.to_float()  \n",
    "          \n",
    "    def fill_missed(self):  \n",
    "        for i, value in enumerate(self.column):  \n",
    "            if value is None or value == '':  \n",
    "                self.column[i] = self.fill_value  \n",
    "                  \n",
    "    def to_float(self):  \n",
    "        self.column = [float(value) for value in self.column]  \n",
    "      \n",
    "    def median(self):  \n",
    "        return statistics.median(self.column)  \n",
    "      \n",
    "    def mean(self):  \n",
    "        return statistics.mean(self.column)  \n",
    "      \n",
    "    def deviation(self):  \n",
    "        return statistics.stdev(self.column)  \n",
    "      \n",
    "  \n",
    "      \n",
    "# Воспользуемся классом  \n",
    "df = DataFrame([\"1\", 17, 4, None, 8])  \n",
    "  \n",
    "print(df.column)  \n",
    "# => [1.0, 17.0, 4.0, 0.0, 8.0]  \n",
    "print(df.deviation())  \n",
    "# => 6.89  \n",
    "print(df.median())  \n",
    "# => 4.0  "
   ]
  },
  {
   "cell_type": "markdown",
   "metadata": {},
   "source": [
    "Мы получили очень лаконичный интерфейс для использования класса. В **__ init __** мы использовали значение по умолчанию для **fill_value**, а методы позволяют нам определять необязательные параметры."
   ]
  },
  {
   "cell_type": "markdown",
   "metadata": {},
   "source": [
    "**Задание 5.2**\n",
    "\n",
    "Определите класс **IntDataFrame**, который в момент инициализации объектов принимает список неотрицательных чисел и приводит к целым значениям все числа в этом списке, отрезая дробную часть с помощью встроенной функции **int()**.\n",
    "\n",
    "Результирующий список должен быть сохранен в виде атрибута с именем **column**.\n",
    "\n",
    "Также класс должен содержать следующие методы:\n",
    "\n",
    "→ **count()**, который возвращает количество ненулевых элементов в списке **column**;\n",
    "\n",
    "→ **unique()**, который возвращает число уникальных элементов в списке в списке **column**.\n",
    "\n",
    "В случае правильного описания класса код, приведённый ниже, должен выдать следующий результат:\n",
    "\n",
    "**Пример использования класса:**\n",
    "\n",
    "df = IntDataFrame([4.7, 4, 3, 0, 2.4, 0.3, 4])\n",
    "\n",
    "print(df.column) #[4, 4, 3, 0, 2, 0, 4]\n",
    "\n",
    "print(df.count() #5\n",
    "\n",
    "print(df.unique() #4\n",
    "\n",
    "**Обратите внимание**, что от вас требуется только объявить класс. Создавать экземпляров класса не нужно!"
   ]
  },
  {
   "cell_type": "code",
   "execution_count": null,
   "metadata": {},
   "outputs": [],
   "source": [
    "class IntDataFrame():\n",
    "    def __init__(self, column):\n",
    "        self.column=column\n",
    "        self.to_int()\n",
    "        \n",
    "    def to_int(self):\n",
    "        self.column=[int(value) for value in self.column]\n",
    "    \n",
    "    def count(self):\n",
    "        j=0\n",
    "        for i, value in enumerate(self.column):\n",
    "            if value>0:\n",
    "                j+=1\n",
    "        return j\n",
    "    \n",
    "    def unique(self):\n",
    "        uniq=[]\n",
    "        for i, value in enumerate(self.column):\n",
    "            if value in uniq:\n",
    "                continue\n",
    "            else:\n",
    "                uniq.append(value)\n",
    "        return len(uniq)"
   ]
  },
  {
   "cell_type": "markdown",
   "metadata": {},
   "source": [
    "**КЛАСС-ОБЁРТКА**\n",
    "\n",
    "Классы можно использовать тогда, когда у вас есть процесс, который требует сложной конфигурации, повторяющейся из раза в раз. Можно написать класс-обёртку, который сведёт этот процесс к одному-двум методам.\n",
    "\n",
    "Представим, вы делаете обработку данных и в конце каждого дня сохраняете результат в архив. Вы хотите, чтобы данные каждого дня лежали в отдельном файле для этого дня, при этом можно было бы получить данные за произвольный день. \n",
    "\n",
    "Перед запуском кода создайте папку с названием **archive** там же, где находится ноутбук:"
   ]
  },
  {
   "cell_type": "code",
   "execution_count": null,
   "metadata": {},
   "outputs": [],
   "source": [
    "import pickle  \n",
    "from datetime import datetime  \n",
    "from os import path  \n",
    "  \n",
    "class Dumper():  \n",
    "    def __init__(self, archive_dir=\"archive/\"):  \n",
    "        self.archive_dir = archive_dir  \n",
    "          \n",
    "    def dump(self, data):  \n",
    "        # Библиотека pickle позволяет доставать и класть объекты в файл  \n",
    "        with open(self.get_file_name(), 'wb') as file:  \n",
    "            pickle.dump(data, file)  \n",
    "              \n",
    "    def load_for_day(self, day):  \n",
    "        file_name = path.join(self.archive_dir, day + \".pkl\")   \n",
    "        with open(file_name, 'rb') as file:  \n",
    "            sets = pickle.load(file)  \n",
    "        return sets  \n",
    "          \n",
    "    # возвращает корректное имя для файла   \n",
    "    def get_file_name(self):   \n",
    "        today = datetime.now().strftime(\"%y-%m-%d\")   \n",
    "        return path.join(self.archive_dir, today + \".pkl\")  \n",
    "      \n",
    "      \n",
    "# Пример использования  \n",
    "  \n",
    "data = {  \n",
    "    'perfomance': [10, 20, 10],  \n",
    "    'clients': {\"Romashka\": 10, \"Vector\": 34}  \n",
    "}  \n",
    "  \n",
    "  \n",
    "dumper = Dumper()  \n",
    "  \n",
    "# Сохраним данные  \n",
    "dumper.dump(data)  \n",
    "  \n",
    "# Восстановим для сегодняшней даты  \n",
    "file_name = datetime.now().strftime(\"%y-%m-%d\")\n",
    "restored_data = dumper.load_for_day(file_name)\n",
    "print(restored_data)  \n",
    "# => {'perfomance': [10, 20, 10], 'clients': {'Romashka': 10, 'Vector': 34}}"
   ]
  },
  {
   "cell_type": "markdown",
   "metadata": {},
   "source": [
    "Сохранение и восстановление работает в пару строк. В результате мы можем приводить достаточно сложные операции к простому виду."
   ]
  },
  {
   "cell_type": "markdown",
   "metadata": {},
   "source": [
    "**Задание 5.3**\n",
    "\n",
    "Напишите класс сборщика технических сообщений **OwnLogger**.\n",
    "\n",
    "У него должен быть\n",
    "\n",
    "→ атрибут **logs**, содержащий **{\"info\": None, \"warning\": None, \"error\": None, \"all\": None}**.\n",
    "\n",
    "→ метод **log(message, level)**, который записывает сообщения. Здесь сообщение **message** может быть любым, а **level** - один из **\"info\", \"warning\", \"error\"**.\n",
    "\n",
    "→ метод **show_last(level)**, где **level** может быть **\"info\", \"warning\", \"error\", \"all\"**.\n",
    "\n",
    "Для **\"all\"** он просто возвращает последнее добавленное сообщение, а для остальных - последнее поступившее сообщение соответствующего уровня. При этом по умолчанию значение именно **\"all\"**.\n",
    "\n",
    "Если подходящего сообщения нет, возвращает **None**.\n",
    "\n",
    "В случае правильного описания класса код, приведённый ниже, должен выдать следующий результат:\n",
    "\n",
    "logger = OwnLogger()\n",
    "\n",
    "logger.log(\"System started\", \"info\")\n",
    "\n",
    "logger.show_last(\"error\") #None # Некоторые интерпретаторы *Python* могут не выводить *None*, тогда в этой проверке у вас будет пустая строка\n",
    "\n",
    "logger.log(\"Connection instable\", \"warning\")\n",
    "\n",
    "logger.log(\"Connection lost\", \"error\")\n",
    "\n",
    "logger.show_last() #Connection lost\n",
    "\n",
    "logger.show_last(\"info\") #System started"
   ]
  },
  {
   "cell_type": "code",
   "execution_count": null,
   "metadata": {},
   "outputs": [],
   "source": [
    "class OwnLogger():\n",
    "    def __init__(self):\n",
    "        self.logs = {\"info\": None, \"warning\": None, \"error\": None, \"all\": None}\n",
    "    def log(self, message, level):\n",
    "        self.logs[level] = message\n",
    "        self.logs['all'] = message\n",
    "    def show_last(self, level='all'):\n",
    "        return self.logs[level]"
   ]
  },
  {
   "cell_type": "markdown",
   "metadata": {},
   "source": [
    "**ИМПОРТ И ОРГАНИЗАЦИЯ КОДА**\n",
    "\n",
    "Классы, как и библиотечные функции, можно **импортировать** в другие программы. Для этого нужно положить класс в отдельный файл в корне проекта и использовать ключевое слово **import**. \n",
    "\n",
    "Например, если мы положим **Dumper** в файл *dumper.py* в корне проекта, то его можно импортировать командой:"
   ]
  },
  {
   "cell_type": "code",
   "execution_count": null,
   "metadata": {},
   "outputs": [],
   "source": [
    "from dumper import Dumper "
   ]
  },
  {
   "cell_type": "markdown",
   "metadata": {},
   "source": [
    "Пишем **from <имя файла без .py> import <имя класса>**. Имя файла должно начинаться с буквы и не совпадать с именами библиотечных модулей. Если файлов с классами много, их можно складывать в папки, предварительно положив туда пустой файл **__ init __.py** — это требование *Python*.\n",
    "\n",
    "Сгруппируем классы из примеров в папке **helpers**. Структура файлов:"
   ]
  },
  {
   "cell_type": "code",
   "execution_count": null,
   "metadata": {},
   "outputs": [],
   "source": [
    "helpers\n",
    "-- __init__.py\n",
    "-- dumper.py\n",
    "-- data_frame.py\n",
    "-- client.py"
   ]
  },
  {
   "cell_type": "markdown",
   "metadata": {},
   "source": [
    "Импортируем, соединяя все шаги через точку с помощью того же синтаксиса, что использовался для импорта библиотечных функций."
   ]
  },
  {
   "cell_type": "code",
   "execution_count": null,
   "metadata": {},
   "outputs": [],
   "source": [
    "from helpers.dumper import Dumper  \n",
    "from helpers.data_frame import DataFrame  \n",
    "from helpers.client import Client  "
   ]
  },
  {
   "cell_type": "markdown",
   "metadata": {},
   "source": [
    "**Задание 5.4**\n",
    "\n",
    "Пусть у вас есть папка duck, в которой лежит файл egg.py, а в нём - класс Needle. Какой командой мы можем импортировать этот класс?\n",
    "\n",
    "**Ответ:** from duck.egg import Needle"
   ]
  },
  {
   "cell_type": "markdown",
   "metadata": {},
   "source": [
    "#### **6. Проверка знаний**"
   ]
  },
  {
   "cell_type": "markdown",
   "metadata": {},
   "source": [
    "**Задание 6.1**\n",
    "\n",
    "У вас есть класс *DataBase,* где метод **__init__** принимает один аргумент. Какой код создаст объект этого класса и положит его в переменную **db**?\n",
    "\n",
    "**Ответ:** db = DataBase()"
   ]
  },
  {
   "cell_type": "markdown",
   "metadata": {},
   "source": [
    "**Задание 6.2**\n",
    "\n",
    "Чем отличается метод от обычной функции? Выберите все верные варианты.\n",
    "\n",
    "**Ответ:**\n",
    "\n",
    "* Метод определяется для класса, функция - сама по себе.\n",
    "* Метод первым аргументом получает вызывающий его объект."
   ]
  },
  {
   "cell_type": "markdown",
   "metadata": {},
   "source": [
    "**Задание 6.3**\n",
    "\n",
    "Определите *класс Dog,* у которого есть методы **bark** и **give_paw.** При этом, пусть методы принимают список из любого количества аргументов.\n",
    "\n",
    "* bark возвращает строку \"Bark!\"\n",
    "* give_paw возвращает строку \"Paw\"\n",
    "\n",
    "**Ответ:**"
   ]
  },
  {
   "cell_type": "code",
   "execution_count": 14,
   "metadata": {},
   "outputs": [],
   "source": [
    "class Dog():    \n",
    "    def bark(*args):\n",
    "        return 'Bark!'\n",
    "    \n",
    "    def give_paw(*args):\n",
    "        return 'Paw'"
   ]
  },
  {
   "cell_type": "markdown",
   "metadata": {},
   "source": [
    "**Задание 6.4**\n",
    "\n",
    "В папке *animals* в файле **dog.py** лежит *класс Dog.* Напишите команду, которая импортирует этот класс.\n",
    "\n",
    "**Ответ:** from animals.dog import Dog"
   ]
  },
  {
   "cell_type": "markdown",
   "metadata": {},
   "source": [
    "#### **7. Применение ООП для работы с файлами**"
   ]
  },
  {
   "cell_type": "markdown",
   "metadata": {},
   "source": [
    "##### **<center> ПУТЬ К ФАЙЛУ </center>**"
   ]
  },
  {
   "cell_type": "markdown",
   "metadata": {},
   "source": [
    "**Путь** (от англ. *path*) - набор символов, показывающий расположение файла или каталога в файловой системе.\n",
    "\n",
    "В операционных системах **UNIX** разделительным знаком при записи пути является **«/»** *(слеш),* в **Windows** - **«\\»** *(обратный слеш).* Эти знаки служат для разделения названия каталогов, составляющих путь к файлу. Все вы видели, например, такой путь на ОС *Windows:* **C:\\Program Files.** Это и есть путь до папки *Program Files.*\n",
    "\n",
    "**Существует два типа пути:**\n",
    "\n",
    "* абсолютный;\n",
    "* относительный.\n",
    "\n",
    "Абсолютный путь всегда считается от «корня», той папки, откуда потом «вырастают» все остальные папки. Для *Windows* это **диск С:, D: и т. д.,** для *Unix* это **“/”.** Абсолютный путь всегда уникальный.\n",
    "\n",
    "**Абсолютный путь** - это путь, который указывает на одно и то же место в файловой системе, вне зависимости от текущего рабочего каталога или других обстоятельств. Его ещё называют **полным.**\n",
    "\n",
    "**Относительный путь** - это путь по отношению к текущему рабочему каталогу пользователя.\n",
    "\n",
    "Чтобы поработать с путями, есть модуль **os.** Функция **os.chdir()** позволяет нам изменить директорию, которую мы в данный момент используем. Если вам нужно знать, какой путь вы в данный момент используете, для этого нужно вызвать **os.getcwd().**\n",
    "\n",
    "**Примечание:** Все дальнейшие пути указаны для конкретной машины на ОС *Linux.* У вас эти результаты будут отличаться."
   ]
  },
  {
   "cell_type": "code",
   "execution_count": 17,
   "metadata": {},
   "outputs": [],
   "source": [
    "import os"
   ]
  },
  {
   "cell_type": "code",
   "execution_count": 18,
   "metadata": {},
   "outputs": [
    {
     "name": "stdout",
     "output_type": "stream",
     "text": [
      "c:\\IDE\\SF_Data_Science\\SF_Data_Science\\SkillFactory\\PY_15_Принципы ООП в Python и отладка кода\n"
     ]
    }
   ],
   "source": [
    "# получить текущий путь\n",
    "start_path = os.getcwd()\n",
    "print(start_path)"
   ]
  },
  {
   "cell_type": "markdown",
   "metadata": {},
   "source": [
    "Далее попробуем подняться на директорию выше:"
   ]
  },
  {
   "cell_type": "code",
   "execution_count": 19,
   "metadata": {},
   "outputs": [
    {
     "data": {
      "text/plain": [
       "'c:\\\\IDE\\\\SF_Data_Science\\\\SF_Data_Science\\\\SkillFactory'"
      ]
     },
     "execution_count": 19,
     "metadata": {},
     "output_type": "execute_result"
    }
   ],
   "source": [
    "os.chdir(\"..\") # подняться на один уровень выше\n",
    "os.getcwd()"
   ]
  },
  {
   "cell_type": "markdown",
   "metadata": {},
   "source": [
    "Теперь вернемся в ту директорию, из которой стартовали. Изначально мы сохраняли её в переменной **start_path.**"
   ]
  },
  {
   "cell_type": "code",
   "execution_count": 20,
   "metadata": {},
   "outputs": [
    {
     "data": {
      "text/plain": [
       "'c:\\\\IDE\\\\SF_Data_Science\\\\SF_Data_Science\\\\SkillFactory\\\\PY_15_Принципы ООП в Python и отладка кода'"
      ]
     },
     "execution_count": 20,
     "metadata": {},
     "output_type": "execute_result"
    }
   ],
   "source": [
    "os.chdir(start_path)\n",
    "os.getcwd()"
   ]
  },
  {
   "cell_type": "markdown",
   "metadata": {},
   "source": [
    "С помощью функции **os.listdir()** можно получить весь список файлов, находящихся в директории. Если не указать никаких аргументов, то будет взята текущая директория."
   ]
  },
  {
   "cell_type": "code",
   "execution_count": 21,
   "metadata": {},
   "outputs": [
    {
     "name": "stdout",
     "output_type": "stream",
     "text": [
      "['DS_PY_15 (практика).ipynb', 'Принципы ООП в Python и отладка кода.ipynb']\n",
      "Файл отсутствует в данной директории\n"
     ]
    }
   ],
   "source": [
    "# список файлов и директорий в папке\n",
    "import os\n",
    "\n",
    "print(os.listdir()) # ['SnapchatLoader', 'FBLoader', 'tmp.py', '.gitignore', 'venv', '.git']\n",
    "\n",
    "if 'tmp.py' not in os.listdir():\n",
    "    print(\"Файл отсутствует в данной директории\")"
   ]
  },
  {
   "cell_type": "markdown",
   "metadata": {},
   "source": [
    "Для того чтобы склеивать пути с учётом особенностей ОС, следует использовать функцию **os.path.join().** Это связано с тем, что в разных операционных системах могут быть разные разделители каталогов, например в ОС *Windows* этим разделителем является **«\\»,** а в *Linux* - **«/»,** как мы и говорили в начале юнита. Поэтому, чтобы поиск файла проходил гладко в обеих системах (ведь ваш скрипт могут запускать на любой системе в связи с кросс-платформенностью *Python*), лучше всё-таки использовать **os.path.join().**"
   ]
  },
  {
   "cell_type": "code",
   "execution_count": 22,
   "metadata": {},
   "outputs": [
    {
     "name": "stdout",
     "output_type": "stream",
     "text": [
      "c:\\IDE\\SF_Data_Science\\SF_Data_Science\\SkillFactory\\PY_15_Принципы ООП в Python и отладка кода\n",
      "c:\\IDE\\SF_Data_Science\\SF_Data_Science\\SkillFactory\\PY_15_Принципы ООП в Python и отладка кода\\test\n"
     ]
    }
   ],
   "source": [
    "# соединяет пути с учётом особенностей операционной системы\n",
    "print(start_path)\n",
    "print(os.path.join(start_path, 'test'))"
   ]
  },
  {
   "cell_type": "markdown",
   "metadata": {},
   "source": [
    "**Задание 7.1**\n",
    "\n",
    "Путь, который указывает на одно и то же место в файловой системе, вне зависимости от текущего рабочего каталога или других обстоятельств, называется:\n",
    "\n",
    "**Ответ:** Абсолютный путь.\n",
    "\n",
    "Путь по отношению к текущему рабочему каталогу пользователя, называется:\n",
    "\n",
    "**Ответ:** Относительный путь."
   ]
  },
  {
   "cell_type": "markdown",
   "metadata": {},
   "source": [
    "**Задание 7.2**\n",
    "\n",
    "Соотнесите абсолютные и относительные пути."
   ]
  },
  {
   "cell_type": "markdown",
   "metadata": {},
   "source": [
    "<img src=\"images/соотношение абсолютного и относительного пути.png\">"
   ]
  },
  {
   "cell_type": "markdown",
   "metadata": {},
   "source": [
    "**Задание 7.3**\n",
    "\n",
    "Сделайте функцию, которая принимает от пользователя путь и выводит всю информацию о содержимом этой папки. Для реализации используйте функцию встроенного модуля **os.walk().** Если путь не указан, то сравнение начинается с текущей директории.\n",
    "\n",
    "**Ответ:**"
   ]
  },
  {
   "cell_type": "code",
   "execution_count": 23,
   "metadata": {},
   "outputs": [
    {
     "name": "stdout",
     "output_type": "stream",
     "text": [
      "Текущая директория c:\\IDE\\SF_Data_Science\\SF_Data_Science\\SkillFactory\\PY_15_Принципы ООП в Python и отладка кода\n",
      "---\n",
      "Список папок ['images']\n",
      "---\n",
      "Список файлов ['DS_PY_15 (практика).ipynb', 'Принципы ООП в Python и отладка кода.ipynb']\n",
      "---\n",
      "Все пути:\n",
      "Файл  c:\\IDE\\SF_Data_Science\\SF_Data_Science\\SkillFactory\\PY_15_Принципы ООП в Python и отладка кода\\DS_PY_15 (практика).ipynb\n",
      "Файл  c:\\IDE\\SF_Data_Science\\SF_Data_Science\\SkillFactory\\PY_15_Принципы ООП в Python и отладка кода\\Принципы ООП в Python и отладка кода.ipynb\n",
      "Папка  c:\\IDE\\SF_Data_Science\\SF_Data_Science\\SkillFactory\\PY_15_Принципы ООП в Python и отладка кода\\images\n",
      "===\n",
      "Текущая директория c:\\IDE\\SF_Data_Science\\SF_Data_Science\\SkillFactory\\PY_15_Принципы ООП в Python и отладка кода\\images\n",
      "---\n",
      "Папок нет\n",
      "---\n",
      "Список файлов ['Соотношение абсолютного и относительного пути.png']\n",
      "---\n",
      "Файл  c:\\IDE\\SF_Data_Science\\SF_Data_Science\\SkillFactory\\PY_15_Принципы ООП в Python и отладка кода\\images\\Соотношение абсолютного и относительного пути.png\n",
      "===\n"
     ]
    }
   ],
   "source": [
    "import os\n",
    "\n",
    "def walk_desc(path=None):\n",
    "    start_path = path if path is not None else os.getcwd()\n",
    "\n",
    "    for root, dirs, files in os.walk(start_path):\n",
    "        print(\"Текущая директория\", root)\n",
    "        print(\"---\")\n",
    "\n",
    "        if dirs:\n",
    "            print(\"Список папок\", dirs)\n",
    "        else:\n",
    "            print(\"Папок нет\")\n",
    "        print(\"---\")\n",
    "\n",
    "        if files:\n",
    "            print(\"Список файлов\", files)\n",
    "        else:\n",
    "            print(\"Файлов нет\")\n",
    "        print(\"---\")\n",
    "\n",
    "        if files and dirs:\n",
    "            print(\"Все пути:\")\n",
    "        for f in files:\n",
    "            print(\"Файл \", os.path.join(root, f))\n",
    "        for d in dirs:\n",
    "            print(\"Папка \", os.path.join(root, d))\n",
    "        print(\"===\")\n",
    "\n",
    "walk_desc()"
   ]
  },
  {
   "cell_type": "markdown",
   "metadata": {},
   "source": [
    "##### **<center> РАБОТА С ФАЙЛАМИ </center>**"
   ]
  },
  {
   "cell_type": "markdown",
   "metadata": {},
   "source": [
    "*Python* «из коробки» располагает достаточно широким набором инструментов для работы с файлами. Для того чтобы начать работать с файлом, надо его открыть с помощью команды специальной функции **open.**"
   ]
  },
  {
   "cell_type": "markdown",
   "metadata": {},
   "source": [
    "<img src=\"images/работа с файлами.png\">"
   ]
  },
  {
   "cell_type": "markdown",
   "metadata": {},
   "source": [
    "Теперь давайте поговорим про то, как записывать какую-либо информацию в файл.\n",
    "\n",
    "При открытии файла внутри него ставится указатель текущей позиции для чтения. При открытии в режиме чтения **('r')** или записи **('w')** указатель ставится на начало, в режиме **'a'** (добавление новых записей в конец файла) - в конец.\n",
    "\n",
    "Откроем файл на запись и с помощью метода **write** запишем в него строку. В качестве результата метод **write** возвращает количество записанных символов."
   ]
  },
  {
   "cell_type": "code",
   "execution_count": 54,
   "metadata": {},
   "outputs": [
    {
     "data": {
      "text/plain": [
       "21"
      ]
     },
     "execution_count": 54,
     "metadata": {},
     "output_type": "execute_result"
    }
   ],
   "source": [
    "f = open('test.txt', 'w', encoding='utf8')\n",
    "\n",
    "# Запишем в файл строку\n",
    "f.write(\"This is a test string\\n\")\n",
    "f.write(\"This is a new string\\n\")"
   ]
  },
  {
   "cell_type": "markdown",
   "metadata": {},
   "source": [
    "После вызова команды **write** ваши данные не сразу попадут и сохранятся в файл. Связано это с особенностями внутренней работы операционных систем. Если для вас критично своевременное попадание информации на жесткий диск компьютера, то после записи вызывайте **f.flush()** или закрывайте файл. Закрыть файл можно с помощью метода **close().**"
   ]
  },
  {
   "cell_type": "code",
   "execution_count": 55,
   "metadata": {},
   "outputs": [],
   "source": [
    "# обязательно нужно закрыть файл иначе он будет заблокирован ОС\n",
    "f.close()"
   ]
  },
  {
   "cell_type": "markdown",
   "metadata": {},
   "source": [
    "Теперь давайте посмотрим, как читать данные из файла.\n",
    "\n",
    "Откроем файл для чтения, в который только что записали две строки:"
   ]
  },
  {
   "cell_type": "code",
   "execution_count": 56,
   "metadata": {},
   "outputs": [],
   "source": [
    "f = open('test.txt', 'r', encoding='utf8')"
   ]
  },
  {
   "cell_type": "markdown",
   "metadata": {},
   "source": [
    "Вот его содержимое на жестком диске:\n",
    "\n",
    "* This is a test string\n",
    "* This is a new string"
   ]
  },
  {
   "cell_type": "markdown",
   "metadata": {},
   "source": [
    "После того, как файл открыт для чтения, мы можем читать из него данные.\n",
    "\n",
    "**f.read(n)** - операция, читающая с текущего места **n** символов, если файл открыт в **t** режиме, или **n** байт, если файл открыт в **b** режиме, и возвращающая прочитанную информацию."
   ]
  },
  {
   "cell_type": "code",
   "execution_count": 58,
   "metadata": {},
   "outputs": [
    {
     "name": "stdout",
     "output_type": "stream",
     "text": [
      "This is a \n"
     ]
    }
   ],
   "source": [
    "print(f.read(10)) # This is a "
   ]
  },
  {
   "cell_type": "markdown",
   "metadata": {},
   "source": [
    "После прочтения указатель на содержимое остается на той позиции, где чтение закончилось. Если **n** не указать, будет прочитано «от печки», то есть от текущего места указателя и до самого конца файла."
   ]
  },
  {
   "cell_type": "code",
   "execution_count": 59,
   "metadata": {},
   "outputs": [
    {
     "data": {
      "text/plain": [
       "'test string\\nThis is a new string\\n'"
      ]
     },
     "execution_count": 59,
     "metadata": {},
     "output_type": "execute_result"
    }
   ],
   "source": [
    "# считали остаток файла\n",
    "f.read() # test string\\nThis is a new string\\n"
   ]
  },
  {
   "cell_type": "markdown",
   "metadata": {},
   "source": [
    "После работы обязательно закрываем файл:"
   ]
  },
  {
   "cell_type": "code",
   "execution_count": 60,
   "metadata": {},
   "outputs": [],
   "source": [
    "# обязательно закрываем файл\n",
    "f.close()"
   ]
  },
  {
   "cell_type": "markdown",
   "metadata": {},
   "source": [
    "##### **<center> ЧТЕНИЕ И ЗАПИСЬ ПОСТРОЧНО </center>**"
   ]
  },
  {
   "cell_type": "markdown",
   "metadata": {},
   "source": [
    "Зачастую с файлами удобнее работать построчно, поэтому для этого есть отдельные методы:\n",
    "\n",
    "* **writelines** - записывает список строк в файл;\n",
    "* **readline** - считывает из файла одну строку и возвращает её;\n",
    "* **readlines** - считывает из файла все строки в список и возвращает их.\n",
    "\n",
    "Метод **f.writelines(sequence)** не будет сам за вас дописывать символ конца строки **('\\n'),** поэтому при необходимости его нужно прописать вручную."
   ]
  },
  {
   "cell_type": "code",
   "execution_count": 61,
   "metadata": {},
   "outputs": [],
   "source": [
    "f = open('test.txt', 'a', encoding='utf8') # открываем файл на дозапись\n",
    "\n",
    "sequence = [\"other string\\n\", \"123\\n\", \"test test\\n\"]\n",
    "f.writelines(sequence) # берет строки из sequence и записывает в файл (без переносов)\n",
    "\n",
    "f.close()"
   ]
  },
  {
   "cell_type": "markdown",
   "metadata": {},
   "source": [
    "Попробуем теперь построчно считать файл с помощью **readlines:**"
   ]
  },
  {
   "cell_type": "code",
   "execution_count": 62,
   "metadata": {},
   "outputs": [
    {
     "name": "stdout",
     "output_type": "stream",
     "text": [
      "['This is a test string\\n', 'This is a new string\\n', 'other string\\n', '123\\n', 'test test\\n']\n"
     ]
    }
   ],
   "source": [
    "f = open('test.txt', 'r', encoding='utf8')\n",
    "\n",
    "print(f.readlines()) # считывает все строки в список и возвращает список\n",
    "\n",
    "f.close()"
   ]
  },
  {
   "cell_type": "markdown",
   "metadata": {},
   "source": [
    "Метод **f.readline()** возвращает строку (символы от текущей позиции до символа переноса строки **\\n,** который остаётся в конце строки и опускается только в последней строке файла, если файл не заканчивается новой строкой):"
   ]
  },
  {
   "cell_type": "code",
   "execution_count": 63,
   "metadata": {},
   "outputs": [
    {
     "name": "stdout",
     "output_type": "stream",
     "text": [
      "This is a test string\n",
      "\n",
      "This\n",
      " is a new string\n",
      "\n"
     ]
    }
   ],
   "source": [
    "f = open('test.txt', 'r', encoding='utf8')\n",
    "\n",
    "print(f.readline()) # This is a test string\n",
    "print(f.read(4)) # This\n",
    "print(f.readline()) # is a new string\n",
    "\n",
    "f.close()"
   ]
  },
  {
   "cell_type": "markdown",
   "metadata": {},
   "source": [
    "##### **<center> ФАЙЛ КАК ИТЕРАТОР </center>**"
   ]
  },
  {
   "cell_type": "markdown",
   "metadata": {},
   "source": [
    "Объект файл является итератором, поэтому его можно использовать в цикле **for.**\n",
    "\n",
    "Для чего это нужно?\n",
    "\n",
    "Итераторы представляют собой такой объект, который вычисляет какие-то действия на каждом шаге, а не все сразу. На примере файла это выглядит примерно так. Предположим, у вас есть огромный текстовый файл, который весит несколько гигабайт. Если попытаться разом считать его полностью с помощью **f.readlines(),** то он будет загружен в вашу программу, в то время как переменная, в которую будет записан файл, станет весить столько же, сколько и объём считанного файла.\n",
    "\n",
    "В большинстве задач с обработкой текста он весь сразу не нужен, поэтому мы можем, например, считывать его построчно, обрабатывать строку и забывать из нашей программы, чтобы считать новую. Тогда весь файл огромного объема не будет «висеть» в памяти компьютера.\n",
    "\n",
    "Не стоит считывать файл полностью - в большинстве задач с обработкой текста весь файл разом читать не требуется. В таком случае с файлом работают построчно."
   ]
  },
  {
   "cell_type": "code",
   "execution_count": 64,
   "metadata": {},
   "outputs": [
    {
     "name": "stdout",
     "output_type": "stream",
     "text": [
      "This is a test string\n",
      "This is a new string\n",
      "other string\n",
      "123\n",
      "test test\n"
     ]
    }
   ],
   "source": [
    "f = open('test.txt')  # можно перечислять строки в файле\n",
    "for line in f:\n",
    "    print(line, end='')\n",
    "\n",
    "# This is a test string\n",
    "# This is a new string\n",
    "# other string\n",
    "# 123\n",
    "# test test\n",
    "\n",
    "f.close()"
   ]
  },
  {
   "cell_type": "markdown",
   "metadata": {},
   "source": [
    "Цикл **for,** как мы помним, - это цикл, который перебирает по очереди."
   ]
  },
  {
   "cell_type": "markdown",
   "metadata": {},
   "source": [
    "##### **<center> МЕНЕДЖЕР КОНТЕКСТА WITH </center>**"
   ]
  },
  {
   "cell_type": "markdown",
   "metadata": {},
   "source": [
    "После работы с файлом его необходимо закрыть с помощью метода **close().** Файл освобождается для операционной системы (если он был открыт для записи), и другие приложения могут получать к нему доступ. Если не закрыть файл явно, то информация, записываемая в него, может быть утеряна, или файл может повредиться.\n",
    "\n",
    "Для явного указания места работы с файлом, а также чтобы не забывать закрывать файл после обработки, существует менеджер контекста **with.**"
   ]
  },
  {
   "cell_type": "code",
   "execution_count": 65,
   "metadata": {},
   "outputs": [
    {
     "ename": "ValueError",
     "evalue": "read of closed file",
     "output_type": "error",
     "traceback": [
      "\u001b[1;31m---------------------------------------------------------------------------\u001b[0m",
      "\u001b[1;31mValueError\u001b[0m                                Traceback (most recent call last)",
      "Cell \u001b[1;32mIn[65], line 6\u001b[0m\n\u001b[0;32m      3\u001b[0m     a \u001b[38;5;241m=\u001b[39m f\u001b[38;5;241m.\u001b[39mread(\u001b[38;5;241m10\u001b[39m)\n\u001b[0;32m      4\u001b[0m     b \u001b[38;5;241m=\u001b[39m f\u001b[38;5;241m.\u001b[39mread(\u001b[38;5;241m23\u001b[39m)\n\u001b[1;32m----> 6\u001b[0m \u001b[43mf\u001b[49m\u001b[38;5;241;43m.\u001b[39;49m\u001b[43mread\u001b[49m\u001b[43m(\u001b[49m\u001b[38;5;241;43m3\u001b[39;49m\u001b[43m)\u001b[49m\n",
      "\u001b[1;31mValueError\u001b[0m: read of closed file"
     ]
    }
   ],
   "source": [
    "# В блоке менеджера контекста открытый файл «жив» и с ним можно работать, при выходе из блока - файл закрывается.\n",
    "with open(\"test.txt\", 'rb') as f:\n",
    "    a = f.read(10)\n",
    "    b = f.read(23)\n",
    "\n",
    "f.read(3) # Error!"
   ]
  },
  {
   "cell_type": "markdown",
   "metadata": {},
   "source": [
    "Тело менеджера контекста определяется одним отступом вправо относительно отступов ключевого слова *with.** Менеджер контекста неявно вызывает закрытие файла после работы, что освобождает вас от забот о том, закрыли ли вы файл или нет. Закрытие файла происходит при любом стечении обстоятельств, даже если внутри **with** будет ошибка. \n",
    "\n",
    "В дальнейшем мы научимся писать собственные структуры, работающие похожим образом."
   ]
  },
  {
   "cell_type": "markdown",
   "metadata": {},
   "source": [
    "**Задание 7.4**\n",
    "\n",
    "Создайте любой файл на операционной системе под название **input.txt** и построчно перепишите его в файл **output.txt.**"
   ]
  },
  {
   "cell_type": "code",
   "execution_count": null,
   "metadata": {},
   "outputs": [],
   "source": [
    "with open(\"input.txt\", \"r\") as input_file:\n",
    "    with open(\"output.txt\", \"w\") as output_file:\n",
    "        for line in input_file:\n",
    "            output_file.write(line)"
   ]
  },
  {
   "cell_type": "markdown",
   "metadata": {},
   "source": [
    "**Задание 7.5**\n",
    "\n",
    "Дан файл **numbers.txt,** компоненты которого являются действительными числами (файл создайте самостоятельно и заполните любыми числам, в одной строке одно число). Найдите сумму наибольшего и наименьшего из значений и запишите результат в файл **output.txt.**"
   ]
  },
  {
   "cell_type": "code",
   "execution_count": null,
   "metadata": {},
   "outputs": [],
   "source": [
    "filename = 'numbers.txt'\n",
    "output = 'output.txt'\n",
    "\n",
    "with open(filename) as f:\n",
    "    min_ = max_ = float(f.readline())  # считали первое число\n",
    "    for line in f:\n",
    "        num =  float(line)\n",
    "        if num > max_:\n",
    "            max_ = num\n",
    "        elif num < min_:\n",
    "            min_ = num\n",
    "\n",
    "    sum_ = min_ + max_\n",
    "\n",
    "with open(output, 'w') as f:\n",
    "    f.write(str(sum_))\n",
    "    f.write('\\n')"
   ]
  },
  {
   "cell_type": "markdown",
   "metadata": {},
   "source": [
    "**Задание 7.6**\n",
    "\n",
    "В текстовый файл построчно записаны фамилии и имена учащихся класса и их оценки за контрольную. Подсчитайте количество учащихся, чья оценка меньше 3 баллов. Cодержание файла:\n",
    "\n",
    "* Иванов О. 4\n",
    "* Петров И. 3\n",
    "* Дмитриев Н. 2\n",
    "* Смирнова О. 4\n",
    "* Керченских В. 5\n",
    "* Котов Д. 2\n",
    "* Бирюкова Н. 1\n",
    "* Данилов П. 3\n",
    "* Аранских В. 5\n",
    "* Лемонов Ю. 2\n",
    "* Олегова К. 4"
   ]
  },
  {
   "cell_type": "code",
   "execution_count": null,
   "metadata": {},
   "outputs": [],
   "source": [
    "count = 0\n",
    "for line in open(\"input.txt\"):\n",
    "    points = int(line.split()[-1])\n",
    "    if points < 3:\n",
    "        count += 1"
   ]
  },
  {
   "cell_type": "markdown",
   "metadata": {},
   "source": [
    "**Задание 7.7**\n",
    "\n",
    "Выполните реверсирование строк файла (перестановку строк файла в обратном порядке)."
   ]
  },
  {
   "cell_type": "code",
   "execution_count": null,
   "metadata": {},
   "outputs": [],
   "source": [
    "with open(\"input.txt\", \"r\") as input_file:\n",
    "    with open(\"output.txt\", \"w\") as output_file:\n",
    "        for line in reversed(input_file.readlines()):\n",
    "            output_file.write(line)"
   ]
  },
  {
   "cell_type": "markdown",
   "metadata": {},
   "source": [
    "#### **8. Исключения**"
   ]
  },
  {
   "cell_type": "markdown",
   "metadata": {},
   "source": [
    "<img src=\"images/схема.png\">"
   ]
  },
  {
   "cell_type": "markdown",
   "metadata": {},
   "source": [
    "Предположим, мы написали программу. Она даже запустилась и вроде даже что-то сделала. Но в один прекрасный момент всё вылетело, а в терминале вылезло непонятное сообщение:"
   ]
  },
  {
   "cell_type": "markdown",
   "metadata": {},
   "source": [
    "Эта ошибка относится к типу **исключительных ситуаций.** Исключительные ситуации порой возникают в случаях, когда вы написали код правильно, он запустился и отработал своё, а запустив код на следующий день, вы видите ошибку. \n",
    "\n",
    "Но как? В прошлый раз всё ведь запускалось без ошибок…\n",
    "\n",
    "Дело в том, что исключения могут возникнуть не только из-за ошибок в написании кода, а ещё и от взаимодействия пользователя с вашей программой, от состояния системы, на которой она запущена, погоды или ретроградного Меркурия. Да от чего угодно помимо вашего кода! \n",
    "\n",
    "Итак, вы узнаете, как работать с исключительными ситуациями или же исключениями в языке *Python.*\n",
    "\n",
    "**Исключения** - это такие ошибки, которые возникают не во время компиляции программы, а в процессе её исполнения, в случаях, если что-то идёт не так.\n",
    "\n",
    "После возникновения исключения программа попытается экстренно завершить работу или перейти к обработчику исключения, если такой есть. Поскольку *Python* - интерпретируемый язык, то, по сути, исключения и вставляют нам палки в колёса, прерывая выполнение программы.\n",
    "\n",
    "**Ошибки бывают двух видов:**\n",
    "\n",
    "* отлавливаемые - все, что наследуются от класса **Exception;**\n",
    "* не отлавливаемые - **SystemExit, KeyboardInterrupt и т.д.**\n",
    "\n",
    "Заучивать их все не стоит - только зря потратите время, потому как на самом деле этих ошибок может быть множество. Например, в отдельной библиотеке есть собственные исключения.\n",
    "\n",
    "Давайте же посмотрим на пример кода, который вызывает исключение."
   ]
  },
  {
   "cell_type": "markdown",
   "metadata": {},
   "source": [
    "<img src=\"images/исключения.png\">"
   ]
  },
  {
   "cell_type": "code",
   "execution_count": 44,
   "metadata": {},
   "outputs": [
    {
     "name": "stdout",
     "output_type": "stream",
     "text": [
      "Перед исключением\n"
     ]
    },
    {
     "ename": "ZeroDivisionError",
     "evalue": "division by zero",
     "output_type": "error",
     "traceback": [
      "\u001b[1;31m---------------------------------------------------------------------------\u001b[0m",
      "\u001b[1;31mZeroDivisionError\u001b[0m                         Traceback (most recent call last)",
      "Cell \u001b[1;32mIn[44], line 2\u001b[0m\n\u001b[0;32m      1\u001b[0m \u001b[38;5;28mprint\u001b[39m(\u001b[38;5;124m\"\u001b[39m\u001b[38;5;124mПеред исключением\u001b[39m\u001b[38;5;124m\"\u001b[39m)\n\u001b[1;32m----> 2\u001b[0m c \u001b[38;5;241m=\u001b[39m \u001b[38;5;241;43m1\u001b[39;49m\u001b[43m \u001b[49m\u001b[38;5;241;43m/\u001b[39;49m\u001b[43m \u001b[49m\u001b[38;5;241;43m0\u001b[39;49m  \u001b[38;5;66;03m# Здесь что-то не так….\u001b[39;00m\n\u001b[0;32m      3\u001b[0m \u001b[38;5;28mprint\u001b[39m(\u001b[38;5;124m\"\u001b[39m\u001b[38;5;124mПосле исключения\u001b[39m\u001b[38;5;124m\"\u001b[39m)\n",
      "\u001b[1;31mZeroDivisionError\u001b[0m: division by zero"
     ]
    }
   ],
   "source": [
    "print(\"Перед исключением\")\n",
    "c = 1 / 0  # Здесь что-то не так….\n",
    "print(\"После исключения\")"
   ]
  },
  {
   "cell_type": "markdown",
   "metadata": {},
   "source": [
    "Строка **«После исключения»** не будет выведена на экран: как только интерпретатор дойдёт до строчки **c = 1 / 0,** он экстренно завершит работу и выведет нам сообщение об ошибке деления на ноль.\n",
    "\n",
    "В этом примере мы чётко видим, что может возникнуть ошибка. Но в большинстве случаев это бывает не столь очевидно. \n",
    "\n",
    "Поэтому давайте слегка поменяем наш код:"
   ]
  },
  {
   "cell_type": "code",
   "execution_count": 45,
   "metadata": {},
   "outputs": [
    {
     "name": "stdout",
     "output_type": "stream",
     "text": [
      "Перед исключением\n",
      "1.0\n",
      "После исключения\n"
     ]
    }
   ],
   "source": [
    "print(\"Перед исключением\")\n",
    "# теперь пользователь сам вводит числа для деления\n",
    "a = int(input(\"a: \"))\n",
    "b = int(input(\"b: \"))\n",
    "c = a / b  # здесь может возникнуть исключение деления на ноль\n",
    "print(c)  # печатаем c = a / b если всё хорошо\n",
    "print(\"После исключения\")"
   ]
  },
  {
   "cell_type": "markdown",
   "metadata": {},
   "source": [
    "После выполнения этого кода у пользователя может возникнуть такая же ошибка, если он введёт **b = 0.**\n",
    "\n",
    "Как же сделать так, чтобы программа не вылетала при ошибке и продолжала свою работу? \n",
    "\n",
    "Очень просто! Для этого и нужна конструкция **try-except.**\n",
    "\n",
    "**Давайте посмотрим на следующий код:**"
   ]
  },
  {
   "cell_type": "code",
   "execution_count": 46,
   "metadata": {},
   "outputs": [
    {
     "name": "stdout",
     "output_type": "stream",
     "text": [
      "Перед исключением\n",
      "2.0\n",
      "После После исключения\n"
     ]
    }
   ],
   "source": [
    "try:  # Добавляем конструкцию try-except для отлова нашей ошибки\n",
    "    print(\"Перед исключением\")\n",
    "    # теперь пользователь сам вводит числа для деления\n",
    "    a = int(input(\"a: \"))\n",
    "    b = int(input(\"b: \"))\n",
    "    c = a / b  # здесь может возникнуть исключение деления на ноль\n",
    "    print(c)  # печатаем c = a / b если всё хорошо\n",
    "except ZeroDivisionError as e: # Добавляем тип именно той ошибки, которую хотим отловить.     \n",
    "    print(e)  # Выводим информацию об ошибке\n",
    "    print(\"После исключения\")\n",
    " \n",
    "print(\"После После исключения\")"
   ]
  },
  {
   "cell_type": "markdown",
   "metadata": {},
   "source": [
    "В данном случае тоже может возникнуть ошибка деления на ноль, если пользователь введёт **b = 0.** Поэтому мы отлавливаем ошибку **ZeroDivisionError.** В блоке **try** помещается «опасный» кусок кода, который может вызывать исключения, а в блоке **except** указывается класс ошибки, которую мы хотим отловить, а затем помещается код, который нужно выполнить в случае возникновении ошибки. \n",
    "\n",
    "После возникновении ошибки код в блоке **try** прервётся, перейдёт в блок **except,** а затем продолжит выполняться дальше - программа не вылетает, как это было без обработчика исключений. В этом и есть главная суть конструкции **try-except.**\n",
    "\n",
    "Это ещё не всё! Есть также блоки **finally** и **else.** Код в блоке **else** выполнялся после завершения цикла. С **try-except** есть нечто похожее. Посмотрите на пример кода ниже.\n",
    "\n",
    "**Можно так:**"
   ]
  },
  {
   "cell_type": "markdown",
   "metadata": {},
   "source": [
    "<img src=\"images/схема_3.png\">"
   ]
  },
  {
   "cell_type": "markdown",
   "metadata": {},
   "source": [
    "**Рассмотрим применение этих блоков на примере:**"
   ]
  },
  {
   "cell_type": "code",
   "execution_count": 47,
   "metadata": {},
   "outputs": [
    {
     "name": "stdout",
     "output_type": "stream",
     "text": [
      "Перед исключением\n",
      "После исключения\n",
      "Finally на месте\n",
      "После После исключения\n"
     ]
    }
   ],
   "source": [
    "try:\n",
    "    print(\"Перед исключением\")\n",
    "    a = int(input(\"a: \"))\n",
    "    b = int(input(\"b: \"))\n",
    "    c = a / b\n",
    "    print(c)  # печатаем c = a / b если всё хорошо\n",
    "except ZeroDivisionError as e:\n",
    "    print(\"После исключения\")\n",
    "else:  # код в блоке else выполняется только в том случае, если код в блоке try выполнился успешно (т.е. не вылетело никакого исключения).\n",
    "    print(\"Всё ништяк\")\n",
    "finally:  # код в блоке finally выполнится в любом случае, при выходе из try-except\n",
    "    print(\"Finally на месте\")\n",
    " \n",
    "print(\"После После исключения\")"
   ]
  },
  {
   "cell_type": "markdown",
   "metadata": {},
   "source": [
    "<img src=\"images/схема_4.png\">"
   ]
  },
  {
   "cell_type": "markdown",
   "metadata": {},
   "source": [
    "**Например:**"
   ]
  },
  {
   "cell_type": "code",
   "execution_count": 48,
   "metadata": {},
   "outputs": [
    {
     "name": "stdout",
     "output_type": "stream",
     "text": [
      "Тебе 20 лет!\n"
     ]
    }
   ],
   "source": [
    "age = int(input(\"Сколько тебе лет?\"))\n",
    "\n",
    " \n",
    "if age > 100 or age <= 0:\n",
    "    raise ValueError(\"Тебе не может быть столько лет\")\n",
    " \n",
    "print(f\"Тебе {age} лет!\") # Возраст выводится только если пользователь ввёл правильный возраст."
   ]
  },
  {
   "cell_type": "markdown",
   "metadata": {},
   "source": [
    "<img src=\"images/схема_5.png\">"
   ]
  },
  {
   "cell_type": "markdown",
   "metadata": {},
   "source": [
    "**Например:**"
   ]
  },
  {
   "cell_type": "code",
   "execution_count": 50,
   "metadata": {},
   "outputs": [
    {
     "name": "stdout",
     "output_type": "stream",
     "text": [
      "Неправильный возраст\n"
     ]
    }
   ],
   "source": [
    "try:\n",
    "    age = int(input(\"Сколько тебе лет?\"))\n",
    "\n",
    "    if age > 100 or age <= 0:\n",
    "        raise ValueError(\"Тебе не может быть столько лет\")\n",
    "\n",
    "    # Возраст выводится только если пользователь ввёл правильный возраст.\n",
    "    print(f\"Тебе {age} лет!\")\n",
    "except ValueError:\n",
    "    print(\"Неправильный возраст\")"
   ]
  },
  {
   "cell_type": "markdown",
   "metadata": {},
   "source": [
    "<img src=\"images/схема_6.png\">"
   ]
  },
  {
   "cell_type": "markdown",
   "metadata": {},
   "source": [
    "**Задание 8.1**\n",
    "\n",
    "Просмотрите основные виды встроенных исключений в документации. Найдите исключение, которое возникает при проблемах с оперативной памятью.\n",
    "\n",
    "**Ответ:** MemoryError."
   ]
  },
  {
   "cell_type": "markdown",
   "metadata": {},
   "source": [
    "**Задание 8.2**\n",
    "\n",
    "**Исключения** - это …\n",
    "\n",
    "**Ответ:** Ошибки, возникающие в результате выполнения программы и завершающие её работу, если не предусмотрен их отлов."
   ]
  },
  {
   "cell_type": "markdown",
   "metadata": {},
   "source": [
    "**Задание 8.3**\n",
    "\n",
    "Для отлова исключений используется конструкция…\n",
    "\n",
    "**Ответ:** try-except."
   ]
  },
  {
   "cell_type": "markdown",
   "metadata": {},
   "source": [
    "**Задание 8.4**\n",
    "\n",
    "В блоке **try** помещается…\n",
    "\n",
    "**Ответ:** Любой код, который может либо вызвать, либо не вызвать исключение."
   ]
  },
  {
   "cell_type": "markdown",
   "metadata": {},
   "source": [
    "**Задание 8.5**\n",
    "\n",
    "В блоке except должен находиться…\n",
    "\n",
    "**Ответ:** Любой код, который выполнится после возникновения той или иной ошибки."
   ]
  },
  {
   "cell_type": "markdown",
   "metadata": {},
   "source": [
    "**Задание 8.6**\n",
    "\n",
    "Выполняется только при удачном завершении кода в блоке **try**\n",
    "* **else**\n",
    "\n",
    "Выполняется в любом случае после выхода из try-except\n",
    "* **finally**"
   ]
  },
  {
   "cell_type": "markdown",
   "metadata": {},
   "source": [
    "**Задание 8.7**\n",
    "\n",
    "Создать скрипт, который будет в **input()** принимать строки, и их необходимо будет конвертировать в числа, добавить **try-except** на то, чтобы строки могли быть сконвертированы в числа.\n",
    "\n",
    "В случае удачного выполнения скрипта написать: **«Вы ввели <введённое число>».**\n",
    "\n",
    "В конце скрипта обязательно написать: **«Выход из программы».**\n",
    "\n",
    "**ПРИМЕЧАНИЕ:** Для отлова ошибок используйте **try-except,** а также блоки **finally** и **else.**"
   ]
  },
  {
   "cell_type": "markdown",
   "metadata": {},
   "source": [
    "<img src=\"images/примеры входов и выходов.png\">"
   ]
  },
  {
   "cell_type": "code",
   "execution_count": 51,
   "metadata": {},
   "outputs": [
    {
     "name": "stdout",
     "output_type": "stream",
     "text": [
      "Вы ввели 5\n",
      "Выход из программы\n"
     ]
    }
   ],
   "source": [
    "try:\n",
    "    i = int(input('Введите число:\\t'))\n",
    "except ValueError as e:\n",
    "    print('Вы ввели неправильное число')\n",
    "else:\n",
    "    print(f'Вы ввели {i}')\n",
    "finally:\n",
    "    print('Выход из программы')"
   ]
  },
  {
   "cell_type": "markdown",
   "metadata": {},
   "source": [
    "#### **9. Тонкости обработки исключений. Собственные классы исключений**"
   ]
  },
  {
   "cell_type": "markdown",
   "metadata": {},
   "source": [
    "Вы уже знакомы с конструкцией **try-except,** научились отлавливать стандартные исключения и поднимать их при необходимости. В этом уроке мы закончим говорить об конструкции **try-except,** обсудим небольшие нюансы работы с ней, а также попробуем написать собственные классы-исключения.\n",
    "\n",
    "Пожалуйста, посмотрите на схему, представленную ниже."
   ]
  },
  {
   "cell_type": "markdown",
   "metadata": {},
   "source": [
    "<img src=\"images/схема_1.png\">"
   ]
  },
  {
   "cell_type": "markdown",
   "metadata": {},
   "source": [
    "<img src=\"images/схема_2.png\">"
   ]
  },
  {
   "cell_type": "markdown",
   "metadata": {},
   "source": [
    "Эта система - **дерево стандартных исключений.**\n",
    "\n",
    "Как нетрудно было догадаться, исключения представлены определёнными классами, которые в той или иной степени наследуются от **BaseException.**\n",
    "\n",
    "Классы **+-- SystemExit +-- KeyboardInterrupt +-- GeneratorExit** являются исключениями, которые нельзя поймать, поскольку их возникновение не зависит от выполнения программы. А все, что наследуются от **Exception,** можно отловить и обработать. Однако некоторые из них возникают очень редко.\n",
    "\n",
    "Главное здесь - понять, что «ловить» в блоке **except** можно не только сам класс, но и его родителя, например:"
   ]
  },
  {
   "cell_type": "code",
   "execution_count": 32,
   "metadata": {},
   "outputs": [
    {
     "name": "stdout",
     "output_type": "stream",
     "text": [
      "Hello from arithmetic error\n"
     ]
    }
   ],
   "source": [
    "try:\n",
    "    raise ZeroDivisionError  # возбуждаем исключение ZeroDivisionError\n",
    "except ArithmeticError:  # ловим его родителя\n",
    "    print(\"Hello from arithmetic error\")"
   ]
  },
  {
   "cell_type": "markdown",
   "metadata": {},
   "source": [
    "Такой способ отлова будет работать прекрасно. Но делать так не стоит, потому что вы рискуете упустить детали. С другой стороны, порой даже на больших проектах можно встретить что-то подобное:"
   ]
  },
  {
   "cell_type": "code",
   "execution_count": 33,
   "metadata": {},
   "outputs": [
    {
     "ename": "SyntaxError",
     "evalue": "invalid syntax (2093180859.py, line 3)",
     "output_type": "error",
     "traceback": [
      "\u001b[1;36m  Cell \u001b[1;32mIn[33], line 3\u001b[1;36m\u001b[0m\n\u001b[1;33m    *код которые мог вызывать ошибку*\u001b[0m\n\u001b[1;37m         ^\u001b[0m\n\u001b[1;31mSyntaxError\u001b[0m\u001b[1;31m:\u001b[0m invalid syntax\n"
     ]
    }
   ],
   "source": [
    "# пример из реального проекта\n",
    "try:\n",
    "    *код которые мог вызывать ошибку*\n",
    "except Exception:\n",
    "    pass"
   ]
  },
  {
   "cell_type": "markdown",
   "metadata": {},
   "source": [
    "Иными словами, если что-то пошло не так, то мы просто закрываем на это глаза и идём дальше по коду. Код настоящего дзен-буддиста, что тут ещё скажешь.\n",
    "\n",
    "Действуя от обратного, однако, надо быть осторожным. Если, например, надо поймать несколько исключений, то идти следует **вверх по дереву.**\n",
    "\n",
    "**Например:**"
   ]
  },
  {
   "cell_type": "code",
   "execution_count": 34,
   "metadata": {},
   "outputs": [
    {
     "name": "stdout",
     "output_type": "stream",
     "text": [
      "Arithmetic error\n"
     ]
    }
   ],
   "source": [
    "try:\n",
    "    raise ZeroDivisionError\n",
    "except ArithmeticError:\n",
    "    print(\"Arithmetic error\")\n",
    "except ZeroDivisionError:\n",
    "    print(\"Zero division error\")"
   ]
  },
  {
   "cell_type": "markdown",
   "metadata": {},
   "source": [
    "**ArithmeticError** является более **абстрактным** (находящимся выше в иерархическом дереве, родительским) **классом.** Если вы хотите ловить сначала исключения-потомки, а затем родительские исключения, убедитесь, что в блоке **except** отлов родительского исключения стоит ниже, чем отлов исключения-потомка. Иначе говоря, ваша конструкция отлова исключений должна идти от конкретного класса к более абстрактному.\n",
    "\n",
    "**Вот правильный пример для наглядности:**"
   ]
  },
  {
   "cell_type": "code",
   "execution_count": 35,
   "metadata": {},
   "outputs": [
    {
     "name": "stdout",
     "output_type": "stream",
     "text": [
      "Zero division error\n"
     ]
    }
   ],
   "source": [
    "try:\n",
    "    raise ZeroDivisionError\n",
    "except ZeroDivisionError:  # сначала пытаемся поймать потомка\n",
    "    print(\"Zero division error\")\n",
    "except ArithmeticError:  # потом ловим родителя\n",
    "    print(\"Arithmetic error\")"
   ]
  },
  {
   "cell_type": "markdown",
   "metadata": {},
   "source": [
    "Это всё, что хотелось ещё рассказать о конструкции **try-except.**\n",
    "\n",
    "Если кратко обобщить, то можно сказать так: **исключения** - это тоже классы. Будучи классами, они могут наследоваться. «Отлавливать» можно как сам класс, так и его родителя (в любом колене). В этом случае надо убедиться в том, чтобы сначала обрабатывались более конкретные исключения, иначе они могут быть перекрыты их родителями и попросту упущены.\n",
    "\n",
    "Иногда может понадобиться написать собственное исключение. Например, вы пишете собственную игру и вам нужно обработать ситуацию, когда ваш персонаж пытается выучить способность, при этом не достигнув нужного уровня. Или пытается положить в уже заполненный инвентарь ещё какой-то предмет.\n",
    "\n",
    "**Принцип написания и отлова собственного исключения следующий:**"
   ]
  },
  {
   "cell_type": "code",
   "execution_count": 36,
   "metadata": {},
   "outputs": [
    {
     "name": "stdout",
     "output_type": "stream",
     "text": [
      "message\n"
     ]
    }
   ],
   "source": [
    "class MyException(Exception):  # создаём пустой класс исключения \n",
    "    pass\n",
    "\n",
    " \n",
    "try:\n",
    "    raise MyException(\"message\")  # поднимаем наше исключение\n",
    "except MyException as e:  # ловим его\n",
    "    print(e)  # выводим информацию об исключении"
   ]
  },
  {
   "cell_type": "markdown",
   "metadata": {},
   "source": [
    "Лучше всего, чтобы исключения были связаны между собой, то есть наследовались от общего класса исключения. Если продолжить пример с игрой из прошлого абзаца, то общим классом был бы **GameplayException.**\n",
    "\n",
    "Наследуются исключения для того, чтобы можно было, продолжая всё тот же пример, отлавливать отдельно игровые исключения и отдельно исключения, касающиеся ресурсов (закончилась оперативная память, место на диске и так далее).\n",
    "\n",
    "**Давайте теперь попробуем построить собственные исключения с наследованием:**"
   ]
  },
  {
   "cell_type": "code",
   "execution_count": 37,
   "metadata": {},
   "outputs": [
    {
     "name": "stdout",
     "output_type": "stream",
     "text": [
      "message\n"
     ]
    }
   ],
   "source": [
    "class ParentException(Exception):  # создаём пустой класс исключения, наследуемся от exception\n",
    "    pass\n",
    "\n",
    " \n",
    "class ChildException(ParentException):  # создаём пустой класс исключения-потомка, наследуемся от ParentException\n",
    "    pass\n",
    "\n",
    " \n",
    "try:\n",
    "    raise ChildException(\"message\")  # поднимаем исключение-потомок\n",
    "except ParentException as e:  # ловим его родителя\n",
    "    print(e)  # выводим информацию об исключении"
   ]
  },
  {
   "cell_type": "markdown",
   "metadata": {},
   "source": [
    "В этом случае мы успешно обработали собственный класс-наследник, хотя он и не является **ParentException.** Когда исключение возникает, в каждом блоке except по порядку интерпретатор проверяет, является ли исключение наследником или самим классом отлавливаемого исключения, и если да, то выполняет код в **except.**\n",
    "\n",
    "Кстати говоря, класс с самописным исключением необязательно должен быть пустым. Если вы хотите добавить собственные аргументы в конструктор, дополнительно произвести какие-либо операции, то можете спокойно это делать, главное - не забыть о нескольких нюансах:"
   ]
  },
  {
   "cell_type": "code",
   "execution_count": 38,
   "metadata": {},
   "outputs": [
    {
     "name": "stdout",
     "output_type": "stream",
     "text": [
      "Errors: error\n",
      "message\n"
     ]
    }
   ],
   "source": [
    "class ParentException(Exception):\n",
    "    def __init__(self, message, error):  # допишем к нашему пустому классу конструктор, который будет печатать дополнительно в консоль информацию об ошибке.\n",
    "        super().__init__(message)  # помним про вызов конструктора родительского класса\n",
    "        print(f\"Errors: {error}\")  # печатаем ошибку\n",
    "\n",
    " \n",
    "class ChildException(ParentException): # создаём пустой класс исключения-потомка, наследуемся от ParentException\n",
    "    def __init__(self, message, error):\n",
    "        super().__init__(message, error)\n",
    " \n",
    " \n",
    "try:\n",
    "    raise ChildException(\"message\", \"error\")  # поднимаем исключение-потомок, передаём дополнительный аргумент\n",
    "except ParentException as e:\n",
    "    print(e)  # выводим информацию об исключении"
   ]
  },
  {
   "cell_type": "markdown",
   "metadata": {},
   "source": [
    "Сначала мы увидим то, что напишет нам конструктор родительского класса, а потом уже - сообщение об ошибке.\n",
    "\n",
    "Конечно же, собственный класс исключений можно модернизировать как угодно: добавлять дополнительные аргументы, писать собственные методы, наследоваться хоть до десятого колена и так далее. Суть одна - помните про **иерархию** и **полиморфизм,** остальное за вас сделает *Python.*\n",
    "\n",
    "**Давайте подведём итоги:**\n",
    "\n",
    "* **Исключения** - это такие особенные классы, которые, как и любые классы, можно наследовать. Если вы хотите ловить несколько исключений, то сначала ловите потомков, а потом родителей, чтобы ничего не упустить.\n",
    "\n",
    "* Чтобы создать **собственный класс,** нужно просто написать пустой класс и наследовать его от класса Exception, этого будет достаточно.\n",
    "\n",
    "* **Необязательно «отлавливать» сам класс.** При необходимости можно отлавливать его родителя, это тоже будет работать, но вы можете упустить важную информацию."
   ]
  },
  {
   "cell_type": "markdown",
   "metadata": {},
   "source": [
    "**Задание 9.2**\n",
    "\n",
    "Для того, чтобы грамотно отлавливать исключения и ничего не упустить, надо …\n",
    "\n",
    "**Ответ:** Отлавливать исключения от конкретного к абстрактному."
   ]
  },
  {
   "cell_type": "markdown",
   "metadata": {},
   "source": [
    "**Задание 9.3**\n",
    "\n",
    "Исключения являются …\n",
    "\n",
    "**Ответ:** Классами с определённым поведением."
   ]
  },
  {
   "cell_type": "markdown",
   "metadata": {},
   "source": [
    "**Задание 9.4**\n",
    "\n",
    "Для того, чтобы создать минимально работающий собственный класс-исключение, надо …\n",
    "\n",
    "**Ответ:** Написать любой пустой класс, наследуемый от класса **Exception.**"
   ]
  },
  {
   "cell_type": "markdown",
   "metadata": {},
   "source": [
    "**Задание 9.5**\n",
    "\n",
    "Создайте класс **Square.** Добавьте в конструктор класса **Square** собственное исключение **NonPositiveDigitException,** унаследованное от **ValueError,** которое будет срабатывать каждый раз, когда сторона квадрата меньше или равна **0.**\n",
    "\n",
    "**Ответ:**"
   ]
  },
  {
   "cell_type": "code",
   "execution_count": 40,
   "metadata": {},
   "outputs": [],
   "source": [
    "class NonPositiveDigitException(ValueError):\n",
    "    pass\n",
    " \n",
    "class Square:\n",
    "    def __init__(self, a):\n",
    "        if a <= 0:\n",
    "            raise NonPositiveDigitException('Неправильно указана сторона квадрата')"
   ]
  },
  {
   "cell_type": "markdown",
   "metadata": {},
   "source": [
    "**ИТАК:**\n",
    "\n",
    "* Мы познакомились с самой концепцией, узнали, что такое классы и объекты, чем они различаются, и как работать с ними в Python. \n",
    "* Также мы выяснили, что такое полиморфизм, наследование, инкапсуляция и абстракция.\n",
    "* Мы создали собственные классы исключений, которые могут быть нужны при написании и отладке полноценных проектов, а также поработали с файловым контекстным менеджером на примере чтения и записи информации.\n",
    "\n",
    "**ООП является лишь одним из инструментов:** оно может упростить решение ряда задач, но есть много ситуаций, где можно и нужно обходиться одними функциями и базовыми командами языка."
   ]
  }
 ],
 "metadata": {
  "kernelspec": {
   "display_name": "base",
   "language": "python",
   "name": "python3"
  },
  "language_info": {
   "codemirror_mode": {
    "name": "ipython",
    "version": 3
   },
   "file_extension": ".py",
   "mimetype": "text/x-python",
   "name": "python",
   "nbconvert_exporter": "python",
   "pygments_lexer": "ipython3",
   "version": "3.10.9"
  }
 },
 "nbformat": 4,
 "nbformat_minor": 2
}
